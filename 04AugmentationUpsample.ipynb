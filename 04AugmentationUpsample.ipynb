{
 "cells": [
  {
   "cell_type": "code",
   "execution_count": 1,
   "id": "1449720e",
   "metadata": {},
   "outputs": [],
   "source": [
    "import pandas as pd\n",
    "import numpy as np\n",
    "import matplotlib.pyplot as plt\n",
    "import cv2\n",
    "import os\n",
    "import random\n",
    "from PIL import Image\n",
    "import os\n",
    "plt.rcParams[\"axes.grid\"] = False\n",
    "plt.style.use('dark_background')"
   ]
  },
  {
   "cell_type": "code",
   "execution_count": 2,
   "id": "d6cbe1df",
   "metadata": {},
   "outputs": [
    {
     "data": {
      "text/plain": [
       "'D:\\\\data\\\\Projects\\\\notebooks\\\\RetinaAI'"
      ]
     },
     "execution_count": 2,
     "metadata": {},
     "output_type": "execute_result"
    }
   ],
   "source": [
    "os.getcwd()"
   ]
  },
  {
   "cell_type": "code",
   "execution_count": 3,
   "id": "5430f5b0",
   "metadata": {},
   "outputs": [],
   "source": [
    "df = pd.read_csv('downsampled.csv')"
   ]
  },
  {
   "cell_type": "code",
   "execution_count": 4,
   "id": "9e604fdf",
   "metadata": {},
   "outputs": [
    {
     "data": {
      "text/plain": [
       "opacity                                                                     500\n",
       "normal                                                                      500\n",
       "glaucoma                                                                    327\n",
       "macular degeneration                                                        299\n",
       "diabetic retinopathy                                                        212\n",
       "opacity, macular degeneration                                               212\n",
       "opacity, diabetic retinopathy                                               186\n",
       "retinal vascular occlusion                                                  170\n",
       "diabetic retinopathy, macular edema                                         162\n",
       "opacity, diabetic retinopathy, macular edema                                154\n",
       "opacity, glaucoma                                                           140\n",
       "macular edema, retinal vascular occlusion                                    74\n",
       "opacity, macular edema, retinal vascular occlusion                           62\n",
       "opacity, retinal vascular occlusion                                          55\n",
       "glaucoma, macular degeneration                                               31\n",
       "glaucoma, retinal vascular occlusion                                         27\n",
       "macular edema                                                                27\n",
       "opacity, glaucoma, macular degeneration                                      16\n",
       "diabetic retinopathy, glaucoma                                               15\n",
       "glaucoma, macular edema, retinal vascular occlusion                          14\n",
       "opacity, glaucoma, retinal vascular occlusion                                10\n",
       "opacity, glaucoma, macular edema, retinal vascular occlusion                  8\n",
       "opacity, diabetic retinopathy, macular degeneration                           5\n",
       "diabetic retinopathy, retinal vascular occlusion                              5\n",
       "opacity, diabetic retinopathy, retinal vascular occlusion                     4\n",
       "diabetic retinopathy, glaucoma, macular edema                                 3\n",
       "glaucoma, macular edema                                                       3\n",
       "opacity, macular degeneration, retinal vascular occlusion                     3\n",
       "opacity, diabetic retinopathy, macular edema, macular degeneration            2\n",
       "diabetic retinopathy, macular degeneration                                    2\n",
       "opacity, diabetic retinopathy, macular edema, retinal vascular occlusion      2\n",
       "opacity, macular edema                                                        2\n",
       "macular degeneration, retinal vascular occlusion                              2\n",
       "glaucoma, macular degeneration, retinal vascular occlusion                    2\n",
       "diabetic retinopathy, macular edema, retinal vascular occlusion               2\n",
       "opacity, diabetic retinopathy, glaucoma, macular edema                        1\n",
       "Name: new, dtype: int64"
      ]
     },
     "execution_count": 4,
     "metadata": {},
     "output_type": "execute_result"
    }
   ],
   "source": [
    "df.new.value_counts()"
   ]
  },
  {
   "cell_type": "raw",
   "id": "564d4185",
   "metadata": {},
   "source": [
    "Abnormality: Generate new instances\n",
    "Take randomly n instances and flip horizontally\n",
    "Take randomly n instances and flip vertically\n",
    "Take randomly n instances and rotate about 90 degrees\n",
    "New Instances go to new Directory 'Abnormality'\n",
    "New Dataset is generated from images in Directory\n",
    "At the end, all datasets will be combined"
   ]
  },
  {
   "cell_type": "raw",
   "id": "11175794",
   "metadata": {},
   "source": [
    "Glaucoma: 173 new samples are needed\n",
    "- Take randomly 50 and flip horizontally\n",
    "- Take randomly 50 and flip vertically\n",
    "- Take randomly 73 and rotate about 90 degrees\n",
    "\n",
    "Macular Degeneration: 201 new samples needed\n",
    "- Take randomly 60 and flip horizontally\n",
    "- Take randomly 60 and flip vertically\n",
    "- Take randomly 81 and rotate about 90 degrees\n",
    "\n",
    "Diabetic Retinopathy\n",
    "- Take randomly 100 and flip horizontally\n",
    "- Take randomly 100 and flip vertically\n",
    "- Take randomly 88 and rotate about 90 degrees\n",
    "\n",
    "Retinal Vascular Occlusion\n",
    "- Take randomly 80 and flip horizontally\n",
    "- Take randomly 100 and flip vertically\n",
    "- Take randomly 150 and rotate about 90 degrees"
   ]
  },
  {
   "cell_type": "code",
   "execution_count": 5,
   "id": "fdbd9318",
   "metadata": {},
   "outputs": [],
   "source": [
    "def ftb(category, instances, in_dir, out_dir):\n",
    "    new_ftb = []\n",
    "    images = df.loc[(df.new == category), 'filename'].values.tolist()\n",
    "    rand_im = random.sample(images, instances)\n",
    "    for image in rand_im:\n",
    "        img = Image.open(in_dir+'\\\\'+image)\n",
    "        flip = img.transpose(Image.FLIP_TOP_BOTTOM)\n",
    "        image = 'fh_'+image\n",
    "        new_ftb.append(image)\n",
    "        flip.save(out_dir+'\\\\'+image)"
   ]
  },
  {
   "cell_type": "code",
   "execution_count": 6,
   "id": "b8ef08ca",
   "metadata": {},
   "outputs": [],
   "source": [
    "ftb('glaucoma', 50, r'D:\\data\\Projects\\notebooks\\RetinaAI\\train_downsampled', r'D:\\data\\Projects\\notebooks\\RetinaAI\\glaucoma')"
   ]
  },
  {
   "cell_type": "code",
   "execution_count": 7,
   "id": "d04383a1",
   "metadata": {},
   "outputs": [],
   "source": [
    "ftb('macular degeneration', 60, r'D:\\data\\Projects\\notebooks\\RetinaAI\\train_downsampled', r'D:\\data\\Projects\\notebooks\\RetinaAI\\md')"
   ]
  },
  {
   "cell_type": "code",
   "execution_count": 8,
   "id": "e843dd11",
   "metadata": {},
   "outputs": [],
   "source": [
    "ftb('diabetic retinopathy', 100, r'D:\\data\\Projects\\notebooks\\RetinaAI\\train_downsampled', r'D:\\data\\Projects\\notebooks\\RetinaAI\\dr')"
   ]
  },
  {
   "cell_type": "code",
   "execution_count": 9,
   "id": "63847585",
   "metadata": {},
   "outputs": [],
   "source": [
    "ftb('retinal vascular occlusion', 80, r'D:\\data\\Projects\\notebooks\\RetinaAI\\train_downsampled', r'D:\\data\\Projects\\notebooks\\RetinaAI\\rvo')"
   ]
  },
  {
   "cell_type": "code",
   "execution_count": 10,
   "id": "a8ef8184",
   "metadata": {},
   "outputs": [],
   "source": [
    "def flr(category, instances, in_dir, out_dir):\n",
    "    new_flr = []\n",
    "    images = df.loc[(df.new == category), 'filename'].values.tolist()\n",
    "    rand_im = random.sample(images, instances)\n",
    "    for image in rand_im:\n",
    "        img = Image.open(in_dir+'\\\\'+image)\n",
    "        flip = img.transpose(Image.FLIP_LEFT_RIGHT)\n",
    "        image = 'fv_'+image\n",
    "        new_flr.append(image)\n",
    "        flip.save(out_dir+'\\\\'+image)"
   ]
  },
  {
   "cell_type": "code",
   "execution_count": 11,
   "id": "93f897af",
   "metadata": {},
   "outputs": [],
   "source": [
    "flr('glaucoma', 50, r'D:\\data\\Projects\\notebooks\\RetinaAI\\train_downsampled', r'D:\\data\\Projects\\notebooks\\RetinaAI\\glaucoma')"
   ]
  },
  {
   "cell_type": "code",
   "execution_count": 12,
   "id": "f83f1f6c",
   "metadata": {},
   "outputs": [],
   "source": [
    "flr('macular degeneration', 60, r'D:\\data\\Projects\\notebooks\\RetinaAI\\train_downsampled', r'D:\\data\\Projects\\notebooks\\RetinaAI\\md')"
   ]
  },
  {
   "cell_type": "code",
   "execution_count": 13,
   "id": "f51545d8",
   "metadata": {},
   "outputs": [],
   "source": [
    "flr('diabetic retinopathy', 100, r'D:\\data\\Projects\\notebooks\\RetinaAI\\train_downsampled', r'D:\\data\\Projects\\notebooks\\RetinaAI\\dr')"
   ]
  },
  {
   "cell_type": "code",
   "execution_count": 14,
   "id": "a2a6f3d6",
   "metadata": {},
   "outputs": [],
   "source": [
    "flr('retinal vascular occlusion', 100, r'D:\\data\\Projects\\notebooks\\RetinaAI\\train_downsampled', r'D:\\data\\Projects\\notebooks\\RetinaAI\\rvo')"
   ]
  },
  {
   "cell_type": "code",
   "execution_count": null,
   "id": "0f2422b5",
   "metadata": {},
   "outputs": [],
   "source": []
  },
  {
   "cell_type": "code",
   "execution_count": 15,
   "id": "c2e439b5",
   "metadata": {},
   "outputs": [],
   "source": [
    "def rotate(category, instances, in_dir, out_dir):\n",
    "    images = df.loc[(df.new == category), 'filename'].values.tolist()\n",
    "    rand_im = random.sample(images, instances)\n",
    "    for image in rand_im:\n",
    "        img = Image.open(in_dir+'\\\\'+image)\n",
    "        r = img.transpose(Image.ROTATE_90)\n",
    "        image = 'r_'+image\n",
    "        r.save(out_dir+'\\\\'+image)"
   ]
  },
  {
   "cell_type": "code",
   "execution_count": 16,
   "id": "45ee48b8",
   "metadata": {},
   "outputs": [],
   "source": [
    "rotate('glaucoma', 73, r'D:\\data\\Projects\\notebooks\\RetinaAI\\train_downsampled', r'D:\\data\\Projects\\notebooks\\RetinaAI\\glaucoma')"
   ]
  },
  {
   "cell_type": "code",
   "execution_count": 17,
   "id": "8f467564",
   "metadata": {},
   "outputs": [],
   "source": [
    "rotate('macular degeneration', 81, r'D:\\data\\Projects\\notebooks\\RetinaAI\\train_downsampled', r'D:\\data\\Projects\\notebooks\\RetinaAI\\md')"
   ]
  },
  {
   "cell_type": "code",
   "execution_count": 18,
   "id": "3a863ea1",
   "metadata": {},
   "outputs": [],
   "source": [
    "rotate('diabetic retinopathy', 88, r'D:\\data\\Projects\\notebooks\\RetinaAI\\train_downsampled', r'D:\\data\\Projects\\notebooks\\RetinaAI\\dr')"
   ]
  },
  {
   "cell_type": "code",
   "execution_count": 19,
   "id": "36b22aa0",
   "metadata": {},
   "outputs": [],
   "source": [
    "rotate('retinal vascular occlusion', 150, r'D:\\data\\Projects\\notebooks\\RetinaAI\\train_downsampled', r'D:\\data\\Projects\\notebooks\\RetinaAI\\rvo')"
   ]
  },
  {
   "cell_type": "code",
   "execution_count": null,
   "id": "80b9dff0",
   "metadata": {},
   "outputs": [],
   "source": []
  },
  {
   "cell_type": "raw",
   "id": "61ef58fc",
   "metadata": {},
   "source": [
    "Dataframes of new directories"
   ]
  },
  {
   "cell_type": "code",
   "execution_count": 20,
   "id": "f29190a6",
   "metadata": {},
   "outputs": [],
   "source": [
    "df_glaucoma = pd.DataFrame({'filename': os.listdir(r'D:\\data\\Projects\\notebooks\\RetinaAI\\glaucoma'),\n",
    "                            'opacity':0, \n",
    "                            'diabetic retinopathy':0,  \n",
    "                            'glaucoma':1, \n",
    "                            'macular edema':0,  \n",
    "                            'macular degeneration':0, \n",
    "                            'retinal vascular occlusion':0, \n",
    "                            'normal':0,  \n",
    "                            'new':'glaucoma'})"
   ]
  },
  {
   "cell_type": "code",
   "execution_count": 21,
   "id": "44484a0e",
   "metadata": {
    "scrolled": true
   },
   "outputs": [],
   "source": [
    "df_md = pd.DataFrame({'filename': os.listdir(r'D:\\data\\Projects\\notebooks\\RetinaAI\\md'),  \n",
    "                       'opacity':0, \n",
    "                       'diabetic retinopathy':0, \n",
    "                       'glaucoma':0,\n",
    "                       'macular edema':0, \n",
    "                       'macular degeneration':1, \n",
    "                       'retinal vascular occlusion':0,\n",
    "                       'normal':0, \n",
    "                       'new':'macular degeneration'})"
   ]
  },
  {
   "cell_type": "code",
   "execution_count": 22,
   "id": "05774043",
   "metadata": {},
   "outputs": [],
   "source": [
    "df_dr = pd.DataFrame({'filename': os.listdir(r'D:\\data\\Projects\\notebooks\\RetinaAI\\dr'),  \n",
    "                       'opacity':0, \n",
    "                       'diabetic retinopathy':1, \n",
    "                       'glaucoma':0,\n",
    "                       'macular edema':0, \n",
    "                       'macular degeneration':0, \n",
    "                       'retinal vascular occlusion':0,\n",
    "                       'normal':0, \n",
    "                       'new':'diabetic retinopathy'})"
   ]
  },
  {
   "cell_type": "code",
   "execution_count": 23,
   "id": "6719616d",
   "metadata": {},
   "outputs": [],
   "source": [
    "df_rvo = pd.DataFrame({'filename': os.listdir(r'D:\\data\\Projects\\notebooks\\RetinaAI\\rvo'),  \n",
    "                       'opacity':0, \n",
    "                       'diabetic retinopathy':0, \n",
    "                       'glaucoma':0,\n",
    "                       'macular edema':0, \n",
    "                       'macular degeneration':0, \n",
    "                       'retinal vascular occlusion':1,\n",
    "                       'normal':0, \n",
    "                       'new':'retinal vascular occlusion'})"
   ]
  },
  {
   "cell_type": "raw",
   "id": "601f663c",
   "metadata": {},
   "source": [
    "Make one dataframe"
   ]
  },
  {
   "cell_type": "code",
   "execution_count": 24,
   "id": "ecacb4bb",
   "metadata": {},
   "outputs": [],
   "source": [
    "df_new = df_glaucoma.append(df_md, ignore_index=True)"
   ]
  },
  {
   "cell_type": "code",
   "execution_count": 25,
   "id": "e7180544",
   "metadata": {},
   "outputs": [],
   "source": [
    "df_new = df_new.append(df_dr, ignore_index=True)"
   ]
  },
  {
   "cell_type": "code",
   "execution_count": 26,
   "id": "caa636dd",
   "metadata": {},
   "outputs": [],
   "source": [
    "df_new = df_new.append(df_rvo, ignore_index=True)"
   ]
  },
  {
   "cell_type": "code",
   "execution_count": 27,
   "id": "4b52d72c",
   "metadata": {},
   "outputs": [
    {
     "data": {
      "text/plain": [
       "(992, 9)"
      ]
     },
     "execution_count": 27,
     "metadata": {},
     "output_type": "execute_result"
    }
   ],
   "source": [
    "df_new.shape"
   ]
  },
  {
   "cell_type": "code",
   "execution_count": 28,
   "id": "53901c60",
   "metadata": {},
   "outputs": [
    {
     "data": {
      "text/plain": [
       "842"
      ]
     },
     "execution_count": 28,
     "metadata": {},
     "output_type": "execute_result"
    }
   ],
   "source": [
    "252+160+188+242"
   ]
  },
  {
   "cell_type": "raw",
   "id": "39fcd22e",
   "metadata": {},
   "source": [
    "Macular Edema"
   ]
  },
  {
   "cell_type": "raw",
   "id": "7906144d",
   "metadata": {},
   "source": [
    "Macular Edema: 477 new Instances needed\n",
    "+ 27 flip h\n",
    "+ 27 flip v\n",
    "+ 27 rotate 90\n",
    "+ 81 shift all h\n",
    "+ 138 rotate 45\n",
    "+ 173 vertical shift"
   ]
  },
  {
   "cell_type": "code",
   "execution_count": 29,
   "id": "f87e5715",
   "metadata": {},
   "outputs": [],
   "source": [
    "in_dir = r'D:\\data\\Projects\\notebooks\\RetinaAI\\train_downsampled'\n",
    "out_dir = r'D:\\data\\Projects\\notebooks\\RetinaAI\\me'"
   ]
  },
  {
   "cell_type": "code",
   "execution_count": 30,
   "id": "b86bffe4",
   "metadata": {},
   "outputs": [
    {
     "data": {
      "text/plain": [
       "27"
      ]
     },
     "execution_count": 30,
     "metadata": {},
     "output_type": "execute_result"
    }
   ],
   "source": [
    "names = df.loc[df.new == 'macular edema', 'filename'].values\n",
    "len(names)"
   ]
  },
  {
   "cell_type": "code",
   "execution_count": 31,
   "id": "5d549064",
   "metadata": {},
   "outputs": [],
   "source": [
    "for image in names:\n",
    "    img = Image.open(in_dir+'\\\\'+image)\n",
    "    flip = img.transpose(Image.FLIP_TOP_BOTTOM)\n",
    "    image = 'fh_'+image\n",
    "    flip.save(out_dir+'\\\\'+image)"
   ]
  },
  {
   "cell_type": "code",
   "execution_count": 32,
   "id": "b02942bc",
   "metadata": {},
   "outputs": [],
   "source": [
    "for image in names:\n",
    "    img = Image.open(in_dir+'\\\\'+image)\n",
    "    flip = img.transpose(Image.FLIP_LEFT_RIGHT)\n",
    "    image = 'fv_'+image\n",
    "    flip.save(out_dir+'\\\\'+image)"
   ]
  },
  {
   "cell_type": "code",
   "execution_count": 33,
   "id": "c6f817c2",
   "metadata": {},
   "outputs": [],
   "source": [
    "for image in names:\n",
    "    img = Image.open(in_dir+'\\\\'+image)\n",
    "    r = img.transpose(Image.ROTATE_90)\n",
    "    image = 'r_'+image\n",
    "    r.save(out_dir+'\\\\'+image)"
   ]
  },
  {
   "cell_type": "code",
   "execution_count": 34,
   "id": "5fa8bdde",
   "metadata": {},
   "outputs": [],
   "source": [
    "for image in os.listdir(out_dir):\n",
    "    img = Image.open(out_dir+'\\\\'+image)\n",
    "    a = 1\n",
    "    b = 0\n",
    "    c = 100 #left/right (i.e. 5/-5)\n",
    "    d = 0\n",
    "    e = 1\n",
    "    f = 0 #up/down (i.e. 5/-5)\n",
    "    imas = img.transform(img.size, Image.AFFINE, (a, b, c, d, e, f))\n",
    "    image = 'hs_'+image\n",
    "    imas.save(out_dir+'\\\\'+image)"
   ]
  },
  {
   "cell_type": "code",
   "execution_count": 35,
   "id": "c53174f2",
   "metadata": {},
   "outputs": [],
   "source": [
    "for image in random.sample(os.listdir(out_dir), 138):   \n",
    "    img = Image.open(out_dir+'\\\\'+image)\n",
    "    r = img.rotate(45)\n",
    "    image = 'rr_'+image\n",
    "    r.save(out_dir+'\\\\'+image)"
   ]
  },
  {
   "cell_type": "code",
   "execution_count": 36,
   "id": "d96421ca",
   "metadata": {},
   "outputs": [],
   "source": [
    "for image in random.sample(os.listdir(out_dir), 173):\n",
    "    img = Image.open(out_dir+'\\\\'+image)\n",
    "    a = 1\n",
    "    b = 0\n",
    "    c = 0 #left/right (i.e. 5/-5)\n",
    "    d = 0\n",
    "    e = 1\n",
    "    f = 10 #up/down (i.e. 5/-5)\n",
    "    imas = img.transform(img.size, Image.AFFINE, (a, b, c, d, e, f))\n",
    "    image = 'vs_'+image\n",
    "    imas.save(out_dir+'\\\\'+image)"
   ]
  },
  {
   "cell_type": "code",
   "execution_count": 37,
   "id": "89f74397",
   "metadata": {},
   "outputs": [],
   "source": [
    "df_me = pd.DataFrame({'filename': os.listdir(r'D:\\data\\Projects\\notebooks\\RetinaAI\\me'),  \n",
    "                       'opacity':0, \n",
    "                       'diabetic retinopathy':0, \n",
    "                       'glaucoma':0,\n",
    "                       'macular edema':1, \n",
    "                       'macular degeneration':0, \n",
    "                       'retinal vascular occlusion':0,\n",
    "                       'normal':0, \n",
    "                       'new':'macular edema'})"
   ]
  },
  {
   "cell_type": "code",
   "execution_count": 38,
   "id": "b4ba1371",
   "metadata": {},
   "outputs": [],
   "source": [
    "df_new = df_new.append(df_me, ignore_index=True)"
   ]
  },
  {
   "cell_type": "code",
   "execution_count": 39,
   "id": "e4ae60af",
   "metadata": {},
   "outputs": [
    {
     "data": {
      "text/plain": [
       "(1465, 9)"
      ]
     },
     "execution_count": 39,
     "metadata": {},
     "output_type": "execute_result"
    }
   ],
   "source": [
    "df_new.shape"
   ]
  },
  {
   "cell_type": "code",
   "execution_count": 40,
   "id": "e59ffee9",
   "metadata": {},
   "outputs": [
    {
     "data": {
      "text/plain": [
       "macular edema                 473\n",
       "retinal vascular occlusion    330\n",
       "diabetic retinopathy          288\n",
       "macular degeneration          201\n",
       "glaucoma                      173\n",
       "Name: new, dtype: int64"
      ]
     },
     "execution_count": 40,
     "metadata": {},
     "output_type": "execute_result"
    }
   ],
   "source": [
    "df_new.new.value_counts()"
   ]
  },
  {
   "cell_type": "raw",
   "id": "25a141ea",
   "metadata": {},
   "source": [
    "Append to old dataframe"
   ]
  },
  {
   "cell_type": "code",
   "execution_count": 41,
   "id": "f77f4fa3",
   "metadata": {},
   "outputs": [],
   "source": [
    "df = df.append(df_new, ignore_index=True)"
   ]
  },
  {
   "cell_type": "code",
   "execution_count": 42,
   "id": "cf3974aa",
   "metadata": {},
   "outputs": [
    {
     "data": {
      "text/plain": [
       "opacity                                                                     500\n",
       "diabetic retinopathy                                                        500\n",
       "normal                                                                      500\n",
       "retinal vascular occlusion                                                  500\n",
       "macular degeneration                                                        500\n",
       "glaucoma                                                                    500\n",
       "macular edema                                                               500\n",
       "opacity, macular degeneration                                               212\n",
       "opacity, diabetic retinopathy                                               186\n",
       "diabetic retinopathy, macular edema                                         162\n",
       "opacity, diabetic retinopathy, macular edema                                154\n",
       "opacity, glaucoma                                                           140\n",
       "macular edema, retinal vascular occlusion                                    74\n",
       "opacity, macular edema, retinal vascular occlusion                           62\n",
       "opacity, retinal vascular occlusion                                          55\n",
       "glaucoma, macular degeneration                                               31\n",
       "glaucoma, retinal vascular occlusion                                         27\n",
       "opacity, glaucoma, macular degeneration                                      16\n",
       "diabetic retinopathy, glaucoma                                               15\n",
       "glaucoma, macular edema, retinal vascular occlusion                          14\n",
       "opacity, glaucoma, retinal vascular occlusion                                10\n",
       "opacity, glaucoma, macular edema, retinal vascular occlusion                  8\n",
       "opacity, diabetic retinopathy, macular degeneration                           5\n",
       "diabetic retinopathy, retinal vascular occlusion                              5\n",
       "opacity, diabetic retinopathy, retinal vascular occlusion                     4\n",
       "diabetic retinopathy, glaucoma, macular edema                                 3\n",
       "glaucoma, macular edema                                                       3\n",
       "opacity, macular degeneration, retinal vascular occlusion                     3\n",
       "opacity, diabetic retinopathy, macular edema, macular degeneration            2\n",
       "diabetic retinopathy, macular degeneration                                    2\n",
       "opacity, diabetic retinopathy, macular edema, retinal vascular occlusion      2\n",
       "opacity, macular edema                                                        2\n",
       "macular degeneration, retinal vascular occlusion                              2\n",
       "glaucoma, macular degeneration, retinal vascular occlusion                    2\n",
       "diabetic retinopathy, macular edema, retinal vascular occlusion               2\n",
       "opacity, diabetic retinopathy, glaucoma, macular edema                        1\n",
       "Name: new, dtype: int64"
      ]
     },
     "execution_count": 42,
     "metadata": {},
     "output_type": "execute_result"
    }
   ],
   "source": [
    "df.new.value_counts()"
   ]
  },
  {
   "cell_type": "raw",
   "id": "071d1164",
   "metadata": {},
   "source": [
    "Copy all images manually to train_upsampled and check"
   ]
  },
  {
   "cell_type": "code",
   "execution_count": 43,
   "id": "3c81e648",
   "metadata": {},
   "outputs": [],
   "source": [
    "image_list = os.listdir(r'D:\\data\\Projects\\notebooks\\RetinaAI\\train_upsampled\\\\')"
   ]
  },
  {
   "cell_type": "code",
   "execution_count": 44,
   "id": "b9a1a9ef",
   "metadata": {},
   "outputs": [],
   "source": [
    "filenames_list = df.filename.to_list()"
   ]
  },
  {
   "cell_type": "code",
   "execution_count": 45,
   "id": "1cc950d3",
   "metadata": {},
   "outputs": [
    {
     "data": {
      "text/plain": [
       "True"
      ]
     },
     "execution_count": 45,
     "metadata": {},
     "output_type": "execute_result"
    }
   ],
   "source": [
    "sorted(image_list) == sorted(filenames_list)"
   ]
  },
  {
   "cell_type": "code",
   "execution_count": 46,
   "id": "e48cb6e2",
   "metadata": {},
   "outputs": [],
   "source": [
    "df.to_csv('upsampled.csv', sep=',', encoding='utf-8', index=False)"
   ]
  },
  {
   "cell_type": "code",
   "execution_count": null,
   "id": "764e5e5a",
   "metadata": {},
   "outputs": [],
   "source": []
  },
  {
   "cell_type": "code",
   "execution_count": null,
   "id": "3838ac5d",
   "metadata": {},
   "outputs": [],
   "source": []
  },
  {
   "cell_type": "raw",
   "id": "7156ba28",
   "metadata": {},
   "source": [
    "Mistakes were made\n",
    "Problem: Datensatz stimmt nicht mit Inhalt von Ordner überein. Die Länge passt, die habe ich \n",
    "immer überprüft, aber nicht die Dateinamen. Aufgefallen ist es, als ich anhand des csv die Daten vor dem modellieren skalieren wollte. \n",
    "Always do a sanity check!"
   ]
  },
  {
   "cell_type": "code",
   "execution_count": null,
   "id": "b7cdcef8",
   "metadata": {},
   "outputs": [],
   "source": []
  },
  {
   "cell_type": "code",
   "execution_count": null,
   "id": "3bc0ce89",
   "metadata": {},
   "outputs": [],
   "source": []
  },
  {
   "cell_type": "code",
   "execution_count": null,
   "id": "33bb8274",
   "metadata": {},
   "outputs": [],
   "source": []
  },
  {
   "cell_type": "code",
   "execution_count": null,
   "id": "692a5cd8",
   "metadata": {},
   "outputs": [],
   "source": []
  },
  {
   "cell_type": "code",
   "execution_count": null,
   "id": "93b2aecc",
   "metadata": {},
   "outputs": [],
   "source": []
  },
  {
   "cell_type": "code",
   "execution_count": null,
   "id": "38fbecaa",
   "metadata": {},
   "outputs": [],
   "source": []
  },
  {
   "cell_type": "code",
   "execution_count": null,
   "id": "f4855a00",
   "metadata": {},
   "outputs": [],
   "source": []
  },
  {
   "cell_type": "code",
   "execution_count": null,
   "id": "045c3d15",
   "metadata": {},
   "outputs": [],
   "source": []
  },
  {
   "cell_type": "code",
   "execution_count": null,
   "id": "cec50f80",
   "metadata": {},
   "outputs": [],
   "source": []
  }
 ],
 "metadata": {
  "kernelspec": {
   "display_name": "Python 3",
   "language": "python",
   "name": "python3"
  },
  "language_info": {
   "codemirror_mode": {
    "name": "ipython",
    "version": 3
   },
   "file_extension": ".py",
   "mimetype": "text/x-python",
   "name": "python",
   "nbconvert_exporter": "python",
   "pygments_lexer": "ipython3",
   "version": "3.8.8"
  },
  "varInspector": {
   "cols": {
    "lenName": 16,
    "lenType": 16,
    "lenVar": 40
   },
   "kernels_config": {
    "python": {
     "delete_cmd_postfix": "",
     "delete_cmd_prefix": "del ",
     "library": "var_list.py",
     "varRefreshCmd": "print(var_dic_list())"
    },
    "r": {
     "delete_cmd_postfix": ") ",
     "delete_cmd_prefix": "rm(",
     "library": "var_list.r",
     "varRefreshCmd": "cat(var_dic_list()) "
    }
   },
   "types_to_exclude": [
    "module",
    "function",
    "builtin_function_or_method",
    "instance",
    "_Feature"
   ],
   "window_display": false
  }
 },
 "nbformat": 4,
 "nbformat_minor": 5
}
