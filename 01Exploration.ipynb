{
 "cells": [
  {
   "cell_type": "code",
   "execution_count": 1,
   "id": "388814d7",
   "metadata": {},
   "outputs": [],
   "source": [
    "import pandas as pd"
   ]
  },
  {
   "cell_type": "code",
   "execution_count": 2,
   "id": "ee7385b5",
   "metadata": {
    "scrolled": false
   },
   "outputs": [
    {
     "data": {
      "text/html": [
       "<div>\n",
       "<style scoped>\n",
       "    .dataframe tbody tr th:only-of-type {\n",
       "        vertical-align: middle;\n",
       "    }\n",
       "\n",
       "    .dataframe tbody tr th {\n",
       "        vertical-align: top;\n",
       "    }\n",
       "\n",
       "    .dataframe thead th {\n",
       "        text-align: right;\n",
       "    }\n",
       "</style>\n",
       "<table border=\"1\" class=\"dataframe\">\n",
       "  <thead>\n",
       "    <tr style=\"text-align: right;\">\n",
       "      <th></th>\n",
       "      <th>filename</th>\n",
       "      <th>opacity</th>\n",
       "      <th>diabetic retinopathy</th>\n",
       "      <th>glaucoma</th>\n",
       "      <th>macular edema</th>\n",
       "      <th>macular degeneration</th>\n",
       "      <th>retinal vascular occlusion</th>\n",
       "      <th>normal</th>\n",
       "    </tr>\n",
       "  </thead>\n",
       "  <tbody>\n",
       "    <tr>\n",
       "      <th>0</th>\n",
       "      <td>c24a1b14d253.jpg</td>\n",
       "      <td>0</td>\n",
       "      <td>0</td>\n",
       "      <td>0</td>\n",
       "      <td>0</td>\n",
       "      <td>0</td>\n",
       "      <td>1</td>\n",
       "      <td>0</td>\n",
       "    </tr>\n",
       "    <tr>\n",
       "      <th>1</th>\n",
       "      <td>9ee905a41651.jpg</td>\n",
       "      <td>0</td>\n",
       "      <td>0</td>\n",
       "      <td>0</td>\n",
       "      <td>0</td>\n",
       "      <td>0</td>\n",
       "      <td>1</td>\n",
       "      <td>0</td>\n",
       "    </tr>\n",
       "    <tr>\n",
       "      <th>2</th>\n",
       "      <td>3f58d128caf6.jpg</td>\n",
       "      <td>0</td>\n",
       "      <td>0</td>\n",
       "      <td>1</td>\n",
       "      <td>0</td>\n",
       "      <td>0</td>\n",
       "      <td>0</td>\n",
       "      <td>0</td>\n",
       "    </tr>\n",
       "    <tr>\n",
       "      <th>3</th>\n",
       "      <td>4ce6599e7b20.jpg</td>\n",
       "      <td>1</td>\n",
       "      <td>0</td>\n",
       "      <td>0</td>\n",
       "      <td>0</td>\n",
       "      <td>1</td>\n",
       "      <td>0</td>\n",
       "      <td>0</td>\n",
       "    </tr>\n",
       "    <tr>\n",
       "      <th>4</th>\n",
       "      <td>0def470360e4.jpg</td>\n",
       "      <td>1</td>\n",
       "      <td>0</td>\n",
       "      <td>0</td>\n",
       "      <td>0</td>\n",
       "      <td>1</td>\n",
       "      <td>0</td>\n",
       "      <td>0</td>\n",
       "    </tr>\n",
       "  </tbody>\n",
       "</table>\n",
       "</div>"
      ],
      "text/plain": [
       "           filename  opacity  diabetic retinopathy  glaucoma  macular edema  \\\n",
       "0  c24a1b14d253.jpg        0                     0         0              0   \n",
       "1  9ee905a41651.jpg        0                     0         0              0   \n",
       "2  3f58d128caf6.jpg        0                     0         1              0   \n",
       "3  4ce6599e7b20.jpg        1                     0         0              0   \n",
       "4  0def470360e4.jpg        1                     0         0              0   \n",
       "\n",
       "   macular degeneration  retinal vascular occlusion  normal  \n",
       "0                     0                           1       0  \n",
       "1                     0                           1       0  \n",
       "2                     0                           0       0  \n",
       "3                     1                           0       0  \n",
       "4                     1                           0       0  "
      ]
     },
     "execution_count": 2,
     "metadata": {},
     "output_type": "execute_result"
    }
   ],
   "source": [
    "df = pd.read_csv('train.csv')\n",
    "df.head()"
   ]
  },
  {
   "cell_type": "code",
   "execution_count": 3,
   "id": "f058484c",
   "metadata": {},
   "outputs": [
    {
     "data": {
      "text/plain": [
       "(3435, 8)"
      ]
     },
     "execution_count": 3,
     "metadata": {},
     "output_type": "execute_result"
    }
   ],
   "source": [
    "df.shape"
   ]
  },
  {
   "cell_type": "code",
   "execution_count": 4,
   "id": "756c9827",
   "metadata": {},
   "outputs": [
    {
     "data": {
      "text/plain": [
       "Index(['opacity', 'diabetic retinopathy', 'glaucoma', 'macular edema',\n",
       "       'macular degeneration', 'retinal vascular occlusion', 'normal'],\n",
       "      dtype='object')"
      ]
     },
     "execution_count": 4,
     "metadata": {},
     "output_type": "execute_result"
    }
   ],
   "source": [
    "df.columns[1:]"
   ]
  },
  {
   "cell_type": "code",
   "execution_count": 5,
   "id": "7c7fa887",
   "metadata": {},
   "outputs": [
    {
     "data": {
      "text/plain": [
       "filename                      object\n",
       "opacity                        int64\n",
       "diabetic retinopathy           int64\n",
       "glaucoma                       int64\n",
       "macular edema                  int64\n",
       "macular degeneration           int64\n",
       "retinal vascular occlusion     int64\n",
       "normal                         int64\n",
       "dtype: object"
      ]
     },
     "execution_count": 5,
     "metadata": {},
     "output_type": "execute_result"
    }
   ],
   "source": [
    "df.dtypes"
   ]
  },
  {
   "cell_type": "code",
   "execution_count": 6,
   "id": "2f56349f",
   "metadata": {
    "scrolled": false
   },
   "outputs": [
    {
     "name": "stdout",
     "output_type": "stream",
     "text": [
      "opacity 1533\n",
      "diabetic retinopathy 755\n",
      "glaucoma 597\n",
      "macular edema 516\n",
      "macular degeneration 574\n",
      "retinal vascular occlusion 440\n",
      "normal 525\n"
     ]
    }
   ],
   "source": [
    "for i in df.columns[1:]:\n",
    "    print(i, df[i].sum())"
   ]
  },
  {
   "cell_type": "markdown",
   "id": "4159c4ac",
   "metadata": {},
   "source": [
    "### Single Occurences"
   ]
  },
  {
   "cell_type": "code",
   "execution_count": 7,
   "id": "30344cd2",
   "metadata": {},
   "outputs": [
    {
     "data": {
      "text/plain": [
       "(1706, 8)"
      ]
     },
     "execution_count": 7,
     "metadata": {},
     "output_type": "execute_result"
    }
   ],
   "source": [
    "df[(df.sum(axis=1) == 1) & (df.normal == 0)].shape"
   ]
  },
  {
   "cell_type": "code",
   "execution_count": 8,
   "id": "c0cf5d8c",
   "metadata": {},
   "outputs": [
    {
     "data": {
      "text/plain": [
       "(13, 8)"
      ]
     },
     "execution_count": 8,
     "metadata": {},
     "output_type": "execute_result"
    }
   ],
   "source": [
    "df[df.sum(axis=1)==4].shape"
   ]
  },
  {
   "cell_type": "markdown",
   "id": "727c838a",
   "metadata": {},
   "source": [
    "### Number of Cases with Multiple Occurences of Abnormalities in Images\n",
    "- there are 3435 Cases\n",
    "- 2231 Cases with only 1  occurences, 1706 Abnormal and 525 healthy\n",
    "- 916 Cases with 2 Abnormalities\n",
    "- 275 Cases with 3 Abnormalities\n",
    "- 13 Cases with 4 Abnormalities"
   ]
  },
  {
   "cell_type": "markdown",
   "id": "73598f06",
   "metadata": {},
   "source": [
    "### Abnormalities that occur together"
   ]
  },
  {
   "cell_type": "code",
   "execution_count": 9,
   "id": "058c67d8",
   "metadata": {
    "scrolled": true
   },
   "outputs": [],
   "source": [
    "df['new'] = df.eq(1).apply(lambda x: ', '.join(x[x].index), axis = 1)"
   ]
  },
  {
   "cell_type": "code",
   "execution_count": 10,
   "id": "a38c3b08",
   "metadata": {
    "scrolled": true
   },
   "outputs": [
    {
     "data": {
      "text/html": [
       "<div>\n",
       "<style scoped>\n",
       "    .dataframe tbody tr th:only-of-type {\n",
       "        vertical-align: middle;\n",
       "    }\n",
       "\n",
       "    .dataframe tbody tr th {\n",
       "        vertical-align: top;\n",
       "    }\n",
       "\n",
       "    .dataframe thead th {\n",
       "        text-align: right;\n",
       "    }\n",
       "</style>\n",
       "<table border=\"1\" class=\"dataframe\">\n",
       "  <thead>\n",
       "    <tr style=\"text-align: right;\">\n",
       "      <th></th>\n",
       "      <th>filename</th>\n",
       "      <th>opacity</th>\n",
       "      <th>diabetic retinopathy</th>\n",
       "      <th>glaucoma</th>\n",
       "      <th>macular edema</th>\n",
       "      <th>macular degeneration</th>\n",
       "      <th>retinal vascular occlusion</th>\n",
       "      <th>normal</th>\n",
       "      <th>new</th>\n",
       "    </tr>\n",
       "  </thead>\n",
       "  <tbody>\n",
       "    <tr>\n",
       "      <th>0</th>\n",
       "      <td>c24a1b14d253.jpg</td>\n",
       "      <td>0</td>\n",
       "      <td>0</td>\n",
       "      <td>0</td>\n",
       "      <td>0</td>\n",
       "      <td>0</td>\n",
       "      <td>1</td>\n",
       "      <td>0</td>\n",
       "      <td>retinal vascular occlusion</td>\n",
       "    </tr>\n",
       "    <tr>\n",
       "      <th>1</th>\n",
       "      <td>9ee905a41651.jpg</td>\n",
       "      <td>0</td>\n",
       "      <td>0</td>\n",
       "      <td>0</td>\n",
       "      <td>0</td>\n",
       "      <td>0</td>\n",
       "      <td>1</td>\n",
       "      <td>0</td>\n",
       "      <td>retinal vascular occlusion</td>\n",
       "    </tr>\n",
       "    <tr>\n",
       "      <th>2</th>\n",
       "      <td>3f58d128caf6.jpg</td>\n",
       "      <td>0</td>\n",
       "      <td>0</td>\n",
       "      <td>1</td>\n",
       "      <td>0</td>\n",
       "      <td>0</td>\n",
       "      <td>0</td>\n",
       "      <td>0</td>\n",
       "      <td>glaucoma</td>\n",
       "    </tr>\n",
       "    <tr>\n",
       "      <th>3</th>\n",
       "      <td>4ce6599e7b20.jpg</td>\n",
       "      <td>1</td>\n",
       "      <td>0</td>\n",
       "      <td>0</td>\n",
       "      <td>0</td>\n",
       "      <td>1</td>\n",
       "      <td>0</td>\n",
       "      <td>0</td>\n",
       "      <td>opacity, macular degeneration</td>\n",
       "    </tr>\n",
       "    <tr>\n",
       "      <th>4</th>\n",
       "      <td>0def470360e4.jpg</td>\n",
       "      <td>1</td>\n",
       "      <td>0</td>\n",
       "      <td>0</td>\n",
       "      <td>0</td>\n",
       "      <td>1</td>\n",
       "      <td>0</td>\n",
       "      <td>0</td>\n",
       "      <td>opacity, macular degeneration</td>\n",
       "    </tr>\n",
       "  </tbody>\n",
       "</table>\n",
       "</div>"
      ],
      "text/plain": [
       "           filename  opacity  diabetic retinopathy  glaucoma  macular edema  \\\n",
       "0  c24a1b14d253.jpg        0                     0         0              0   \n",
       "1  9ee905a41651.jpg        0                     0         0              0   \n",
       "2  3f58d128caf6.jpg        0                     0         1              0   \n",
       "3  4ce6599e7b20.jpg        1                     0         0              0   \n",
       "4  0def470360e4.jpg        1                     0         0              0   \n",
       "\n",
       "   macular degeneration  retinal vascular occlusion  normal  \\\n",
       "0                     0                           1       0   \n",
       "1                     0                           1       0   \n",
       "2                     0                           0       0   \n",
       "3                     1                           0       0   \n",
       "4                     1                           0       0   \n",
       "\n",
       "                             new  \n",
       "0     retinal vascular occlusion  \n",
       "1     retinal vascular occlusion  \n",
       "2                       glaucoma  \n",
       "3  opacity, macular degeneration  \n",
       "4  opacity, macular degeneration  "
      ]
     },
     "execution_count": 10,
     "metadata": {},
     "output_type": "execute_result"
    }
   ],
   "source": [
    "df.head()"
   ]
  },
  {
   "cell_type": "code",
   "execution_count": 11,
   "id": "69d3f0c8",
   "metadata": {
    "scrolled": false
   },
   "outputs": [
    {
     "data": {
      "text/plain": [
       "opacity                                                                     671\n",
       "normal                                                                      525\n",
       "glaucoma                                                                    327\n",
       "macular degeneration                                                        299\n",
       "diabetic retinopathy                                                        212\n",
       "opacity, macular degeneration                                               212\n",
       "opacity, diabetic retinopathy                                               186\n",
       "retinal vascular occlusion                                                  170\n",
       "diabetic retinopathy, macular edema                                         162\n",
       "opacity, diabetic retinopathy, macular edema                                154\n",
       "opacity, glaucoma                                                           140\n",
       "macular edema, retinal vascular occlusion                                    74\n",
       "opacity, macular edema, retinal vascular occlusion                           62\n",
       "opacity, retinal vascular occlusion                                          55\n",
       "glaucoma, macular degeneration                                               31\n",
       "macular edema                                                                27\n",
       "glaucoma, retinal vascular occlusion                                         27\n",
       "opacity, glaucoma, macular degeneration                                      16\n",
       "diabetic retinopathy, glaucoma                                               15\n",
       "glaucoma, macular edema, retinal vascular occlusion                          14\n",
       "opacity, glaucoma, retinal vascular occlusion                                10\n",
       "opacity, glaucoma, macular edema, retinal vascular occlusion                  8\n",
       "opacity, diabetic retinopathy, macular degeneration                           5\n",
       "diabetic retinopathy, retinal vascular occlusion                              5\n",
       "opacity, diabetic retinopathy, retinal vascular occlusion                     4\n",
       "diabetic retinopathy, glaucoma, macular edema                                 3\n",
       "opacity, macular degeneration, retinal vascular occlusion                     3\n",
       "glaucoma, macular edema                                                       3\n",
       "diabetic retinopathy, macular edema, retinal vascular occlusion               2\n",
       "opacity, diabetic retinopathy, macular edema, macular degeneration            2\n",
       "opacity, diabetic retinopathy, macular edema, retinal vascular occlusion      2\n",
       "diabetic retinopathy, macular degeneration                                    2\n",
       "macular degeneration, retinal vascular occlusion                              2\n",
       "glaucoma, macular degeneration, retinal vascular occlusion                    2\n",
       "opacity, macular edema                                                        2\n",
       "opacity, diabetic retinopathy, glaucoma, macular edema                        1\n",
       "Name: new, dtype: int64"
      ]
     },
     "execution_count": 11,
     "metadata": {},
     "output_type": "execute_result"
    }
   ],
   "source": [
    "df.new.value_counts()"
   ]
  },
  {
   "cell_type": "code",
   "execution_count": 12,
   "id": "7b3917f6",
   "metadata": {},
   "outputs": [
    {
     "data": {
      "text/plain": [
       "opacity, diabetic retinopathy, macular edema                                154\n",
       "opacity, macular edema, retinal vascular occlusion                           62\n",
       "opacity, glaucoma, macular degeneration                                      16\n",
       "glaucoma, macular edema, retinal vascular occlusion                          14\n",
       "opacity, glaucoma, retinal vascular occlusion                                10\n",
       "opacity, glaucoma, macular edema, retinal vascular occlusion                  8\n",
       "opacity, diabetic retinopathy, macular degeneration                           5\n",
       "opacity, diabetic retinopathy, retinal vascular occlusion                     4\n",
       "diabetic retinopathy, glaucoma, macular edema                                 3\n",
       "opacity, macular degeneration, retinal vascular occlusion                     3\n",
       "glaucoma, macular degeneration, retinal vascular occlusion                    2\n",
       "opacity, diabetic retinopathy, macular edema, macular degeneration            2\n",
       "opacity, diabetic retinopathy, macular edema, retinal vascular occlusion      2\n",
       "diabetic retinopathy, macular edema, retinal vascular occlusion               2\n",
       "opacity, diabetic retinopathy, glaucoma, macular edema                        1\n",
       "Name: new, dtype: int64"
      ]
     },
     "execution_count": 12,
     "metadata": {},
     "output_type": "execute_result"
    }
   ],
   "source": [
    "df[(df.sum(axis=1)==3) | (df.sum(axis=1)==4)].new.value_counts()"
   ]
  },
  {
   "cell_type": "markdown",
   "id": "ebe6b131",
   "metadata": {},
   "source": [
    "### Augmentation: Class Imbalance between Classes: Idea 1: Eliminate Instances with 3 or 4 labels"
   ]
  },
  {
   "cell_type": "code",
   "execution_count": 13,
   "id": "32dd1b76",
   "metadata": {},
   "outputs": [],
   "source": [
    "df_small = df[(df.sum(axis=1)==2) | (df.sum(axis=1)==1)]"
   ]
  },
  {
   "cell_type": "code",
   "execution_count": 14,
   "id": "a36d4ebc",
   "metadata": {},
   "outputs": [
    {
     "data": {
      "text/plain": [
       "opacity                                             671\n",
       "normal                                              525\n",
       "glaucoma                                            327\n",
       "macular degeneration                                299\n",
       "diabetic retinopathy                                212\n",
       "opacity, macular degeneration                       212\n",
       "opacity, diabetic retinopathy                       186\n",
       "retinal vascular occlusion                          170\n",
       "diabetic retinopathy, macular edema                 162\n",
       "opacity, glaucoma                                   140\n",
       "macular edema, retinal vascular occlusion            74\n",
       "opacity, retinal vascular occlusion                  55\n",
       "glaucoma, macular degeneration                       31\n",
       "glaucoma, retinal vascular occlusion                 27\n",
       "macular edema                                        27\n",
       "diabetic retinopathy, glaucoma                       15\n",
       "diabetic retinopathy, retinal vascular occlusion      5\n",
       "glaucoma, macular edema                               3\n",
       "diabetic retinopathy, macular degeneration            2\n",
       "macular degeneration, retinal vascular occlusion      2\n",
       "opacity, macular edema                                2\n",
       "Name: new, dtype: int64"
      ]
     },
     "execution_count": 14,
     "metadata": {},
     "output_type": "execute_result"
    }
   ],
   "source": [
    "df_small.new.value_counts()"
   ]
  },
  {
   "cell_type": "code",
   "execution_count": 19,
   "id": "fee2ff83",
   "metadata": {},
   "outputs": [
    {
     "data": {
      "text/plain": [
       "(3147, 9)"
      ]
     },
     "execution_count": 19,
     "metadata": {},
     "output_type": "execute_result"
    }
   ],
   "source": [
    "df_small.shape"
   ]
  },
  {
   "cell_type": "code",
   "execution_count": null,
   "id": "4ce1599c",
   "metadata": {},
   "outputs": [],
   "source": []
  },
  {
   "cell_type": "markdown",
   "id": "9e6c82d3",
   "metadata": {},
   "source": [
    "### For EDA: new cols for combinations"
   ]
  },
  {
   "cell_type": "code",
   "execution_count": 15,
   "id": "ff6e7efd",
   "metadata": {},
   "outputs": [],
   "source": [
    "# iterate through rows, for 1 in col add colnames to new col and 1 as value\n",
    "\n",
    "# maybe not"
   ]
  },
  {
   "cell_type": "code",
   "execution_count": null,
   "id": "0af3ea83",
   "metadata": {},
   "outputs": [],
   "source": []
  },
  {
   "cell_type": "code",
   "execution_count": null,
   "id": "ab9d63e8",
   "metadata": {},
   "outputs": [],
   "source": []
  },
  {
   "cell_type": "code",
   "execution_count": null,
   "id": "99f531c9",
   "metadata": {},
   "outputs": [],
   "source": []
  },
  {
   "cell_type": "markdown",
   "id": "3aa055ee",
   "metadata": {},
   "source": [
    "### Pearsons Correlation between Abnormalities"
   ]
  },
  {
   "cell_type": "code",
   "execution_count": 16,
   "id": "632eaee1",
   "metadata": {},
   "outputs": [
    {
     "data": {
      "text/plain": [
       "opacity                     opacity                       1.000000\n",
       "diabetic retinopathy        macular edema                 0.418289\n",
       "normal                      opacity                       0.381328\n",
       "macular edema               retinal vascular occlusion    0.233828\n",
       "diabetic retinopathy        normal                        0.225444\n",
       "                            macular degeneration          0.220781\n",
       "glaucoma                    diabetic retinopathy          0.208188\n",
       "normal                      glaucoma                      0.194811\n",
       "                            macular degeneration          0.190252\n",
       "macular degeneration        macular edema                 0.183955\n",
       "normal                      macular edema                 0.178583\n",
       "diabetic retinopathy        retinal vascular occlusion    0.176092\n",
       "retinal vascular occlusion  normal                        0.162803\n",
       "macular degeneration        retinal vascular occlusion    0.155337\n",
       "glaucoma                    opacity                       0.141307\n",
       "macular edema               glaucoma                      0.130479\n",
       "macular degeneration        glaucoma                      0.104531\n",
       "retinal vascular occlusion  opacity                       0.091766\n",
       "glaucoma                    retinal vascular occlusion    0.035567\n",
       "macular degeneration        opacity                       0.028522\n",
       "opacity                     diabetic retinopathy          0.024115\n",
       "macular edema               opacity                       0.001172\n",
       "dtype: float64"
      ]
     },
     "execution_count": 16,
     "metadata": {},
     "output_type": "execute_result"
    }
   ],
   "source": [
    "df.corr().abs().unstack().sort_values(ascending=False).drop_duplicates()"
   ]
  },
  {
   "cell_type": "markdown",
   "id": "a44b089c",
   "metadata": {},
   "source": [
    "Obwohl opacity und makular degeneration am häufigsten zusammen auftreten, haben sie eine geringe Corr. ist das seltsam? wie wird corr zwishen bools berechnet mit pearson?"
   ]
  },
  {
   "cell_type": "code",
   "execution_count": null,
   "id": "fd50faf7",
   "metadata": {},
   "outputs": [],
   "source": []
  },
  {
   "cell_type": "code",
   "execution_count": null,
   "id": "be9e715e",
   "metadata": {},
   "outputs": [],
   "source": []
  },
  {
   "cell_type": "markdown",
   "id": "156157ba",
   "metadata": {},
   "source": [
    "### Save Datasets\n",
    "- df is dataset with new column containing all labels\n",
    "- df_small is dataset with only instances with one or two cases"
   ]
  },
  {
   "cell_type": "code",
   "execution_count": 17,
   "id": "09cfe833",
   "metadata": {},
   "outputs": [],
   "source": [
    "#df.to_csv('train1.csv', sep=',', encoding='utf-8', index=False)\n",
    "#df_small.to_csv('train2.csv', sep=',', encoding='utf-8', index=False)"
   ]
  },
  {
   "cell_type": "code",
   "execution_count": null,
   "id": "2c1e2d87",
   "metadata": {},
   "outputs": [],
   "source": []
  },
  {
   "cell_type": "code",
   "execution_count": null,
   "id": "9df2a260",
   "metadata": {},
   "outputs": [],
   "source": []
  },
  {
   "cell_type": "code",
   "execution_count": null,
   "id": "e521e266",
   "metadata": {},
   "outputs": [],
   "source": []
  },
  {
   "cell_type": "code",
   "execution_count": null,
   "id": "fcb65af6",
   "metadata": {},
   "outputs": [],
   "source": []
  }
 ],
 "metadata": {
  "kernelspec": {
   "display_name": "Python 3",
   "language": "python",
   "name": "python3"
  },
  "language_info": {
   "codemirror_mode": {
    "name": "ipython",
    "version": 3
   },
   "file_extension": ".py",
   "mimetype": "text/x-python",
   "name": "python",
   "nbconvert_exporter": "python",
   "pygments_lexer": "ipython3",
   "version": "3.8.8"
  },
  "varInspector": {
   "cols": {
    "lenName": 16,
    "lenType": 16,
    "lenVar": 40
   },
   "kernels_config": {
    "python": {
     "delete_cmd_postfix": "",
     "delete_cmd_prefix": "del ",
     "library": "var_list.py",
     "varRefreshCmd": "print(var_dic_list())"
    },
    "r": {
     "delete_cmd_postfix": ") ",
     "delete_cmd_prefix": "rm(",
     "library": "var_list.r",
     "varRefreshCmd": "cat(var_dic_list()) "
    }
   },
   "types_to_exclude": [
    "module",
    "function",
    "builtin_function_or_method",
    "instance",
    "_Feature"
   ],
   "window_display": false
  }
 },
 "nbformat": 4,
 "nbformat_minor": 5
}
