{
 "cells": [
  {
   "cell_type": "markdown",
   "id": "d5c76e4f",
   "metadata": {},
   "source": [
    "## Preprocessing of the images\n",
    "- Task 1: Cropping the images, so that the retina fills the picture completely\n",
    "- Task 2: Resizing of the cropped images to 512x512, so that all images are of the same size"
   ]
  },
  {
   "cell_type": "markdown",
   "id": "5834678e",
   "metadata": {},
   "source": [
    "Ressources for use and problem solving\n",
    "- Deep Learning on Retina Images as Screening Tool for Diagnostic Decision Support https://arxiv.org/ftp/arxiv/papers/1807/1807.09232.pdf\n",
    "- https://opencv.org/\n",
    "- https://pythonexamples.org/python-opencv-cv2-resize-image/"
   ]
  },
  {
   "cell_type": "code",
   "execution_count": 1,
   "id": "616060cb",
   "metadata": {},
   "outputs": [],
   "source": [
    "import pandas as pd\n",
    "import numpy as np\n",
    "import matplotlib.pyplot as plt\n",
    "import cv2\n",
    "import os\n",
    "\n",
    "plt.rcParams[\"axes.grid\"] = False\n",
    "plt.style.use('dark_background')"
   ]
  },
  {
   "cell_type": "code",
   "execution_count": 2,
   "id": "3fa559d1",
   "metadata": {},
   "outputs": [
    {
     "data": {
      "text/html": [
       "<div>\n",
       "<style scoped>\n",
       "    .dataframe tbody tr th:only-of-type {\n",
       "        vertical-align: middle;\n",
       "    }\n",
       "\n",
       "    .dataframe tbody tr th {\n",
       "        vertical-align: top;\n",
       "    }\n",
       "\n",
       "    .dataframe thead th {\n",
       "        text-align: right;\n",
       "    }\n",
       "</style>\n",
       "<table border=\"1\" class=\"dataframe\">\n",
       "  <thead>\n",
       "    <tr style=\"text-align: right;\">\n",
       "      <th></th>\n",
       "      <th>filename</th>\n",
       "      <th>opacity</th>\n",
       "      <th>diabetic retinopathy</th>\n",
       "      <th>glaucoma</th>\n",
       "      <th>macular edema</th>\n",
       "      <th>macular degeneration</th>\n",
       "      <th>retinal vascular occlusion</th>\n",
       "      <th>normal</th>\n",
       "      <th>labels</th>\n",
       "    </tr>\n",
       "  </thead>\n",
       "  <tbody>\n",
       "    <tr>\n",
       "      <th>0</th>\n",
       "      <td>c24a1b14d253.jpg</td>\n",
       "      <td>0</td>\n",
       "      <td>0</td>\n",
       "      <td>0</td>\n",
       "      <td>0</td>\n",
       "      <td>0</td>\n",
       "      <td>1</td>\n",
       "      <td>0</td>\n",
       "      <td>retinal vascular occlusion</td>\n",
       "    </tr>\n",
       "    <tr>\n",
       "      <th>1</th>\n",
       "      <td>9ee905a41651.jpg</td>\n",
       "      <td>0</td>\n",
       "      <td>0</td>\n",
       "      <td>0</td>\n",
       "      <td>0</td>\n",
       "      <td>0</td>\n",
       "      <td>1</td>\n",
       "      <td>0</td>\n",
       "      <td>retinal vascular occlusion</td>\n",
       "    </tr>\n",
       "    <tr>\n",
       "      <th>2</th>\n",
       "      <td>3f58d128caf6.jpg</td>\n",
       "      <td>0</td>\n",
       "      <td>0</td>\n",
       "      <td>1</td>\n",
       "      <td>0</td>\n",
       "      <td>0</td>\n",
       "      <td>0</td>\n",
       "      <td>0</td>\n",
       "      <td>glaucoma</td>\n",
       "    </tr>\n",
       "    <tr>\n",
       "      <th>3</th>\n",
       "      <td>4ce6599e7b20.jpg</td>\n",
       "      <td>1</td>\n",
       "      <td>0</td>\n",
       "      <td>0</td>\n",
       "      <td>0</td>\n",
       "      <td>1</td>\n",
       "      <td>0</td>\n",
       "      <td>0</td>\n",
       "      <td>opacity, macular degeneration</td>\n",
       "    </tr>\n",
       "    <tr>\n",
       "      <th>4</th>\n",
       "      <td>0def470360e4.jpg</td>\n",
       "      <td>1</td>\n",
       "      <td>0</td>\n",
       "      <td>0</td>\n",
       "      <td>0</td>\n",
       "      <td>1</td>\n",
       "      <td>0</td>\n",
       "      <td>0</td>\n",
       "      <td>opacity, macular degeneration</td>\n",
       "    </tr>\n",
       "  </tbody>\n",
       "</table>\n",
       "</div>"
      ],
      "text/plain": [
       "           filename  opacity  diabetic retinopathy  glaucoma  macular edema  \\\n",
       "0  c24a1b14d253.jpg        0                     0         0              0   \n",
       "1  9ee905a41651.jpg        0                     0         0              0   \n",
       "2  3f58d128caf6.jpg        0                     0         1              0   \n",
       "3  4ce6599e7b20.jpg        1                     0         0              0   \n",
       "4  0def470360e4.jpg        1                     0         0              0   \n",
       "\n",
       "   macular degeneration  retinal vascular occlusion  normal  \\\n",
       "0                     0                           1       0   \n",
       "1                     0                           1       0   \n",
       "2                     0                           0       0   \n",
       "3                     1                           0       0   \n",
       "4                     1                           0       0   \n",
       "\n",
       "                          labels  \n",
       "0     retinal vascular occlusion  \n",
       "1     retinal vascular occlusion  \n",
       "2                       glaucoma  \n",
       "3  opacity, macular degeneration  \n",
       "4  opacity, macular degeneration  "
      ]
     },
     "execution_count": 2,
     "metadata": {},
     "output_type": "execute_result"
    }
   ],
   "source": [
    "# Read in the csv file of the images\n",
    "df = pd.read_csv('train_new.csv')\n",
    "df.head()"
   ]
  },
  {
   "cell_type": "code",
   "execution_count": 4,
   "id": "16b0a60c",
   "metadata": {},
   "outputs": [],
   "source": [
    "# make a list of all the filenames\n",
    "allimages = list(df.filename)"
   ]
  },
  {
   "cell_type": "code",
   "execution_count": 5,
   "id": "948ed224",
   "metadata": {},
   "outputs": [
    {
     "data": {
      "text/plain": [
       "3435"
      ]
     },
     "execution_count": 5,
     "metadata": {},
     "output_type": "execute_result"
    }
   ],
   "source": [
    "# sanity check\n",
    "len(allimages)"
   ]
  },
  {
   "cell_type": "code",
   "execution_count": 7,
   "id": "1cbc08a0",
   "metadata": {},
   "outputs": [],
   "source": [
    "# Function for cropping of images\n",
    "def crop(image_list, indir, outdir):\n",
    "    for j in image_list:\n",
    "        img = cv2.imread(indir + '\\\\'+ j)\n",
    "        gray = cv2.cvtColor(img,cv2.COLOR_BGR2GRAY)\n",
    "        gray = np.asarray(gray)\n",
    "        r, c  = gray.shape\n",
    "        thresh = 5\n",
    "        r1 = 0; c1 = 0; r2 = r; c2 = c\n",
    "\n",
    "        for i in range(int(r/2), 0, -1):\n",
    "            if np.mean(gray[i,:]) <= thresh:\n",
    "                r1 = i\n",
    "                break\n",
    "\n",
    "        for i in range(int(c/2), 0, -1):\n",
    "            if np.mean(gray[:,i]) <= thresh:\n",
    "                c1 = i\n",
    "                break\n",
    "\n",
    "        for i in range(int(r/2), r, 1):\n",
    "            if np.mean(gray[i,:]) <= thresh:\n",
    "                r2 = i\n",
    "                break\n",
    "\n",
    "        for i in range(int(c/2), c, 1):\n",
    "            if np.mean(gray[:,i]) <= thresh:\n",
    "                c2 = i\n",
    "                break\n",
    "\n",
    "        crop = img[r1:r2,c1:c2]\n",
    "        cv2.imwrite(os.path.join(outdir , j), crop)\n"
   ]
  },
  {
   "cell_type": "code",
   "execution_count": 8,
   "id": "6f8fc5c6",
   "metadata": {
    "scrolled": true
   },
   "outputs": [],
   "source": [
    "crop(allimages, r'D:\\data\\Projects\\notebooks\\RetinaAI\\train', r'D:\\data\\Projects\\notebooks\\RetinaAI\\train_cropped')"
   ]
  },
  {
   "cell_type": "code",
   "execution_count": 9,
   "id": "e7289997",
   "metadata": {},
   "outputs": [],
   "source": [
    "# Resizing of images\n",
    "def resize(piclist, indir, outdir):\n",
    "    for i in piclist:\n",
    "        image = cv2.imread(indir + '\\\\'+ i)\n",
    "        image_res = cv2.resize(image, (512, 512), interpolation = cv2.INTER_NEAREST)\n",
    "        cv2.imwrite(os.path.join(outdir, i), image_res)"
   ]
  },
  {
   "cell_type": "code",
   "execution_count": 10,
   "id": "6fb239ce",
   "metadata": {},
   "outputs": [],
   "source": [
    "resize(allimages, r'D:\\data\\Projects\\notebooks\\RetinaAI\\train_cropped', r'D:\\data\\Projects\\notebooks\\RetinaAI\\train_resized')"
   ]
  },
  {
   "cell_type": "code",
   "execution_count": null,
   "id": "34c0573a",
   "metadata": {},
   "outputs": [],
   "source": []
  },
  {
   "cell_type": "code",
   "execution_count": null,
   "id": "d50096a2",
   "metadata": {},
   "outputs": [],
   "source": []
  }
 ],
 "metadata": {
  "kernelspec": {
   "display_name": "Python 3 (ipykernel)",
   "language": "python",
   "name": "python3"
  },
  "language_info": {
   "codemirror_mode": {
    "name": "ipython",
    "version": 3
   },
   "file_extension": ".py",
   "mimetype": "text/x-python",
   "name": "python",
   "nbconvert_exporter": "python",
   "pygments_lexer": "ipython3",
   "version": "3.9.5"
  },
  "varInspector": {
   "cols": {
    "lenName": 16,
    "lenType": 16,
    "lenVar": 40
   },
   "kernels_config": {
    "python": {
     "delete_cmd_postfix": "",
     "delete_cmd_prefix": "del ",
     "library": "var_list.py",
     "varRefreshCmd": "print(var_dic_list())"
    },
    "r": {
     "delete_cmd_postfix": ") ",
     "delete_cmd_prefix": "rm(",
     "library": "var_list.r",
     "varRefreshCmd": "cat(var_dic_list()) "
    }
   },
   "types_to_exclude": [
    "module",
    "function",
    "builtin_function_or_method",
    "instance",
    "_Feature"
   ],
   "window_display": false
  }
 },
 "nbformat": 4,
 "nbformat_minor": 5
}
