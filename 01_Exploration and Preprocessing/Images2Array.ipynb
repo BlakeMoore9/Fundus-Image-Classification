{
 "cells": [
  {
   "cell_type": "code",
   "execution_count": 1,
   "id": "2e70073e",
   "metadata": {},
   "outputs": [],
   "source": [
    "import pandas as pd\n",
    "import numpy as np\n",
    "import matplotlib.pyplot as plt\n",
    "from tqdm import tqdm\n",
    "from sklearn.model_selection import train_test_split"
   ]
  },
  {
   "cell_type": "code",
   "execution_count": 2,
   "id": "94bf935b",
   "metadata": {},
   "outputs": [],
   "source": [
    "import tensorflow as tf\n",
    "from tensorflow.keras.preprocessing import image"
   ]
  },
  {
   "cell_type": "code",
   "execution_count": 3,
   "id": "1a79545f",
   "metadata": {
    "scrolled": true
   },
   "outputs": [],
   "source": [
    "train = pd.read_csv('train_resampled.csv')"
   ]
  },
  {
   "cell_type": "code",
   "execution_count": 4,
   "id": "c9f095b1",
   "metadata": {},
   "outputs": [
    {
     "data": {
      "text/plain": [
       "(4704, 9)"
      ]
     },
     "execution_count": 4,
     "metadata": {},
     "output_type": "execute_result"
    }
   ],
   "source": [
    "train.shape"
   ]
  },
  {
   "cell_type": "code",
   "execution_count": 5,
   "id": "b331c498",
   "metadata": {},
   "outputs": [],
   "source": [
    "img_dir = r\"D:\\data\\Projects\\notebooks\\RetinaAI\\train_resampled\\\\\""
   ]
  },
  {
   "cell_type": "markdown",
   "id": "d3cfa077",
   "metadata": {},
   "source": [
    "#### Alle auf einmal in Liste und Array"
   ]
  },
  {
   "cell_type": "raw",
   "id": "c3c2b500",
   "metadata": {},
   "source": [
    "train_image = []\n",
    "for i in tqdm(range(train.shape[0])):\n",
    "    img = image.load_img(img_dir+train['filename'][i])\n",
    "    img = image.img_to_array(img)\n",
    "    img = img/255\n",
    "    train_image.append(img)\n",
    "X = np.array(train_image)"
   ]
  },
  {
   "cell_type": "markdown",
   "id": "a9df0e70",
   "metadata": {},
   "source": [
    "#### Save memory with multiple lists"
   ]
  },
  {
   "cell_type": "raw",
   "id": "48eb5e0f",
   "metadata": {},
   "source": [
    "# test for memory saving conversion online\n",
    "first = []\n",
    "for i in range(0,2000):\n",
    "    img = image.load_img(img_dir+train['filename'][i])\n",
    "    img = image.img_to_array(img)\n",
    "    img = img/255\n",
    "    first.append(img)"
   ]
  },
  {
   "cell_type": "raw",
   "id": "d22759cd",
   "metadata": {},
   "source": [
    "second = []\n",
    "for i in range(2000,3000):\n",
    "    img = image.load_img(img_dir+train['filename'][i])\n",
    "    img = image.img_to_array(img)\n",
    "    img = img/255\n",
    "    second.append(img)"
   ]
  },
  {
   "cell_type": "raw",
   "id": "b369d8b8",
   "metadata": {},
   "source": [
    "third = []\n",
    "for i in range(3000,4704):\n",
    "    img = image.load_img(img_dir+train['filename'][i])\n",
    "    img = image.img_to_array(img)\n",
    "    img = img/255\n",
    "    third.append(img)"
   ]
  },
  {
   "cell_type": "raw",
   "id": "073bf4e4",
   "metadata": {},
   "source": [
    "liste = first+second+third\n",
    "len(liste)"
   ]
  },
  {
   "cell_type": "raw",
   "id": "9d192949",
   "metadata": {},
   "source": [
    "# Check\n",
    "im = liste[-1]\n",
    "from matplotlib import pyplot as plt\n",
    "plt.imshow(im, interpolation='nearest')\n",
    "plt.show()"
   ]
  },
  {
   "cell_type": "raw",
   "id": "0eb596ea",
   "metadata": {},
   "source": [
    "X = np.array(liste)"
   ]
  },
  {
   "cell_type": "markdown",
   "id": "b33e41bd",
   "metadata": {},
   "source": [
    "#### Save memory with hdf5"
   ]
  },
  {
   "cell_type": "code",
   "execution_count": 6,
   "id": "8ad00641",
   "metadata": {},
   "outputs": [],
   "source": [
    "import sys\n",
    "import glob\n",
    "import h5py\n",
    "import cv2"
   ]
  },
  {
   "cell_type": "code",
   "execution_count": null,
   "id": "9a87f62d",
   "metadata": {},
   "outputs": [],
   "source": [
    "IMG_WIDTH = 512\n",
    "IMG_HEIGHT = 512\n",
    "\n",
    "h5file = 'import_images.h5'\n",
    "\n",
    "nfiles = len(glob.glob(img_dir))\n",
    "print(f'count of image files nfiles={nfiles}')\n",
    "\n",
    "# resize all images and load into a single dataset\n",
    "with h5py.File(h5file,'w') as  h5f:\n",
    "    img_ds = h5f.create_dataset('images',shape=(nfiles, IMG_WIDTH, IMG_HEIGHT,3), dtype=int)\n",
    "    for cnt, ifile in enumerate(glob.iglob('./*.ppm')) :\n",
    "        img = cv2.imread(ifile, cv2.IMREAD_COLOR)\n",
    "        # or use cv2.IMREAD_GRAYSCALE, cv2.IMREAD_UNCHANGED\n",
    "        img_resize = cv2.resize( img, (IMG_WIDTH, IMG_HEIGHT) )\n",
    "        img_ds[cnt:cnt+1:,:,:] = img_resize"
   ]
  },
  {
   "cell_type": "code",
   "execution_count": 12,
   "id": "8f00e805",
   "metadata": {},
   "outputs": [],
   "source": [
    "IMG_WIDTH = 512\n",
    "IMG_HEIGHT = 512"
   ]
  },
  {
   "cell_type": "code",
   "execution_count": 11,
   "id": "53888514",
   "metadata": {},
   "outputs": [
    {
     "name": "stdout",
     "output_type": "stream",
     "text": [
      "Count of image files nfiles = 4704\n"
     ]
    }
   ],
   "source": [
    "h5file = 'import_images.h5'\n",
    "nfiles = len(glob.glob('D:/data/Projects/notebooks/RetinaAI/train_resampled/*.jpg'))\n",
    "print(f'Count of image files nfiles = {nfiles}')"
   ]
  },
  {
   "cell_type": "code",
   "execution_count": null,
   "id": "12564dde",
   "metadata": {},
   "outputs": [],
   "source": [
    "with h5py.File(h5file,'w') as  h5f:\n",
    "    img_ds = h5f.create_dataset('images',shape=(nfiles, IMG_WIDTH, IMG_HEIGHT,3), dtype=int)\n",
    "    for cnt, ifile in enumerate(glob.iglob('D:/data/Projects/notebooks/RetinaAI/train_resampled/*.jpg')) :\n",
    "        img = cv2.imread(ifile, cv2.IMREAD_COLOR)\n",
    "        # or use cv2.IMREAD_GRAYSCALE, cv2.IMREAD_UNCHANGED\n",
    "        img_resize = cv2.resize( img, (IMG_WIDTH, IMG_HEIGHT) )\n",
    "        img_ds[cnt:cnt+1:,:,:] = img_resize"
   ]
  },
  {
   "cell_type": "code",
   "execution_count": null,
   "id": "a239865b",
   "metadata": {},
   "outputs": [],
   "source": [
    "with h5py.File(h5file,'w') as h5f:\n",
    "    img_ds = h5f.create_dataset('images',shape=(nfiles, IMG_WIDTH, IMG_HEIGHT,3), dtype=int)\n",
    "    for i in tqdm(range(train.shape[0])):\n",
    "    img = image.load_img(img_dir+train['filename'][i])\n",
    "    img = image.img_to_array(img)\n",
    "    img = img/255"
   ]
  },
  {
   "cell_type": "markdown",
   "id": "8a84030a",
   "metadata": {},
   "source": [
    "### Save and Load npz file"
   ]
  },
  {
   "cell_type": "code",
   "execution_count": null,
   "id": "3e6364b6",
   "metadata": {},
   "outputs": [],
   "source": [
    "from numpy import savez_compressed"
   ]
  },
  {
   "cell_type": "code",
   "execution_count": null,
   "id": "dfe39ff4",
   "metadata": {},
   "outputs": [],
   "source": [
    "savez_compressed('data.npz', data)"
   ]
  },
  {
   "cell_type": "code",
   "execution_count": 13,
   "id": "8eb8931d",
   "metadata": {},
   "outputs": [],
   "source": [
    "from numpy import load"
   ]
  },
  {
   "cell_type": "code",
   "execution_count": 14,
   "id": "8712683b",
   "metadata": {
    "collapsed": true
   },
   "outputs": [
    {
     "name": "stdout",
     "output_type": "stream",
     "text": [
      "[[[[0. 0. 0.]\n",
      "   [0. 0. 0.]\n",
      "   [0. 0. 0.]\n",
      "   ...\n",
      "   [0. 0. 0.]\n",
      "   [0. 0. 0.]\n",
      "   [0. 0. 0.]]\n",
      "\n",
      "  [[0. 0. 0.]\n",
      "   [0. 0. 0.]\n",
      "   [0. 0. 0.]\n",
      "   ...\n",
      "   [0. 0. 0.]\n",
      "   [0. 0. 0.]\n",
      "   [0. 0. 0.]]\n",
      "\n",
      "  [[0. 0. 0.]\n",
      "   [0. 0. 0.]\n",
      "   [0. 0. 0.]\n",
      "   ...\n",
      "   [0. 0. 0.]\n",
      "   [0. 0. 0.]\n",
      "   [0. 0. 0.]]\n",
      "\n",
      "  ...\n",
      "\n",
      "  [[0. 0. 0.]\n",
      "   [0. 0. 0.]\n",
      "   [0. 0. 0.]\n",
      "   ...\n",
      "   [0. 0. 0.]\n",
      "   [0. 0. 0.]\n",
      "   [0. 0. 0.]]\n",
      "\n",
      "  [[0. 0. 0.]\n",
      "   [0. 0. 0.]\n",
      "   [0. 0. 0.]\n",
      "   ...\n",
      "   [0. 0. 0.]\n",
      "   [0. 0. 0.]\n",
      "   [0. 0. 0.]]\n",
      "\n",
      "  [[0. 0. 0.]\n",
      "   [0. 0. 0.]\n",
      "   [0. 0. 0.]\n",
      "   ...\n",
      "   [0. 0. 0.]\n",
      "   [0. 0. 0.]\n",
      "   [0. 0. 0.]]]\n",
      "\n",
      "\n",
      " [[[0. 0. 0.]\n",
      "   [0. 0. 0.]\n",
      "   [0. 0. 0.]\n",
      "   ...\n",
      "   [0. 0. 0.]\n",
      "   [0. 0. 0.]\n",
      "   [0. 0. 0.]]\n",
      "\n",
      "  [[0. 0. 0.]\n",
      "   [0. 0. 0.]\n",
      "   [0. 0. 0.]\n",
      "   ...\n",
      "   [0. 0. 0.]\n",
      "   [0. 0. 0.]\n",
      "   [0. 0. 0.]]\n",
      "\n",
      "  [[0. 0. 0.]\n",
      "   [0. 0. 0.]\n",
      "   [0. 0. 0.]\n",
      "   ...\n",
      "   [0. 0. 0.]\n",
      "   [0. 0. 0.]\n",
      "   [0. 0. 0.]]\n",
      "\n",
      "  ...\n",
      "\n",
      "  [[0. 0. 0.]\n",
      "   [0. 0. 0.]\n",
      "   [0. 0. 0.]\n",
      "   ...\n",
      "   [0. 0. 0.]\n",
      "   [0. 0. 0.]\n",
      "   [0. 0. 0.]]\n",
      "\n",
      "  [[0. 0. 0.]\n",
      "   [0. 0. 0.]\n",
      "   [0. 0. 0.]\n",
      "   ...\n",
      "   [0. 0. 0.]\n",
      "   [0. 0. 0.]\n",
      "   [0. 0. 0.]]\n",
      "\n",
      "  [[0. 0. 0.]\n",
      "   [0. 0. 0.]\n",
      "   [0. 0. 0.]\n",
      "   ...\n",
      "   [0. 0. 0.]\n",
      "   [0. 0. 0.]\n",
      "   [0. 0. 0.]]]\n",
      "\n",
      "\n",
      " [[[0. 0. 0.]\n",
      "   [0. 0. 0.]\n",
      "   [0. 0. 0.]\n",
      "   ...\n",
      "   [0. 0. 0.]\n",
      "   [0. 0. 0.]\n",
      "   [0. 0. 0.]]\n",
      "\n",
      "  [[0. 0. 0.]\n",
      "   [0. 0. 0.]\n",
      "   [0. 0. 0.]\n",
      "   ...\n",
      "   [0. 0. 0.]\n",
      "   [0. 0. 0.]\n",
      "   [0. 0. 0.]]\n",
      "\n",
      "  [[0. 0. 0.]\n",
      "   [0. 0. 0.]\n",
      "   [0. 0. 0.]\n",
      "   ...\n",
      "   [0. 0. 0.]\n",
      "   [0. 0. 0.]\n",
      "   [0. 0. 0.]]\n",
      "\n",
      "  ...\n",
      "\n",
      "  [[0. 0. 0.]\n",
      "   [0. 0. 0.]\n",
      "   [0. 0. 0.]\n",
      "   ...\n",
      "   [0. 0. 0.]\n",
      "   [0. 0. 0.]\n",
      "   [0. 0. 0.]]\n",
      "\n",
      "  [[0. 0. 0.]\n",
      "   [0. 0. 0.]\n",
      "   [0. 0. 0.]\n",
      "   ...\n",
      "   [0. 0. 0.]\n",
      "   [0. 0. 0.]\n",
      "   [0. 0. 0.]]\n",
      "\n",
      "  [[0. 0. 0.]\n",
      "   [0. 0. 0.]\n",
      "   [0. 0. 0.]\n",
      "   ...\n",
      "   [0. 0. 0.]\n",
      "   [0. 0. 0.]\n",
      "   [0. 0. 0.]]]\n",
      "\n",
      "\n",
      " ...\n",
      "\n",
      "\n",
      " [[[0. 0. 0.]\n",
      "   [0. 0. 0.]\n",
      "   [0. 0. 0.]\n",
      "   ...\n",
      "   [0. 0. 0.]\n",
      "   [0. 0. 0.]\n",
      "   [0. 0. 0.]]\n",
      "\n",
      "  [[0. 0. 0.]\n",
      "   [0. 0. 0.]\n",
      "   [0. 0. 0.]\n",
      "   ...\n",
      "   [0. 0. 0.]\n",
      "   [0. 0. 0.]\n",
      "   [0. 0. 0.]]\n",
      "\n",
      "  [[0. 0. 0.]\n",
      "   [0. 0. 0.]\n",
      "   [0. 0. 0.]\n",
      "   ...\n",
      "   [0. 0. 0.]\n",
      "   [0. 0. 0.]\n",
      "   [0. 0. 0.]]\n",
      "\n",
      "  ...\n",
      "\n",
      "  [[0. 0. 0.]\n",
      "   [0. 0. 0.]\n",
      "   [0. 0. 0.]\n",
      "   ...\n",
      "   [0. 0. 0.]\n",
      "   [0. 0. 0.]\n",
      "   [0. 0. 0.]]\n",
      "\n",
      "  [[0. 0. 0.]\n",
      "   [0. 0. 0.]\n",
      "   [0. 0. 0.]\n",
      "   ...\n",
      "   [0. 0. 0.]\n",
      "   [0. 0. 0.]\n",
      "   [0. 0. 0.]]\n",
      "\n",
      "  [[0. 0. 0.]\n",
      "   [0. 0. 0.]\n",
      "   [0. 0. 0.]\n",
      "   ...\n",
      "   [0. 0. 0.]\n",
      "   [0. 0. 0.]\n",
      "   [0. 0. 0.]]]\n",
      "\n",
      "\n",
      " [[[0. 0. 0.]\n",
      "   [0. 0. 0.]\n",
      "   [0. 0. 0.]\n",
      "   ...\n",
      "   [0. 0. 0.]\n",
      "   [0. 0. 0.]\n",
      "   [0. 0. 0.]]\n",
      "\n",
      "  [[0. 0. 0.]\n",
      "   [0. 0. 0.]\n",
      "   [0. 0. 0.]\n",
      "   ...\n",
      "   [0. 0. 0.]\n",
      "   [0. 0. 0.]\n",
      "   [0. 0. 0.]]\n",
      "\n",
      "  [[0. 0. 0.]\n",
      "   [0. 0. 0.]\n",
      "   [0. 0. 0.]\n",
      "   ...\n",
      "   [0. 0. 0.]\n",
      "   [0. 0. 0.]\n",
      "   [0. 0. 0.]]\n",
      "\n",
      "  ...\n",
      "\n",
      "  [[0. 0. 0.]\n",
      "   [0. 0. 0.]\n",
      "   [0. 0. 0.]\n",
      "   ...\n",
      "   [0. 0. 0.]\n",
      "   [0. 0. 0.]\n",
      "   [0. 0. 0.]]\n",
      "\n",
      "  [[0. 0. 0.]\n",
      "   [0. 0. 0.]\n",
      "   [0. 0. 0.]\n",
      "   ...\n",
      "   [0. 0. 0.]\n",
      "   [0. 0. 0.]\n",
      "   [0. 0. 0.]]\n",
      "\n",
      "  [[0. 0. 0.]\n",
      "   [0. 0. 0.]\n",
      "   [0. 0. 0.]\n",
      "   ...\n",
      "   [0. 0. 0.]\n",
      "   [0. 0. 0.]\n",
      "   [0. 0. 0.]]]\n",
      "\n",
      "\n",
      " [[[0. 0. 0.]\n",
      "   [0. 0. 0.]\n",
      "   [0. 0. 0.]\n",
      "   ...\n",
      "   [0. 0. 0.]\n",
      "   [0. 0. 0.]\n",
      "   [0. 0. 0.]]\n",
      "\n",
      "  [[0. 0. 0.]\n",
      "   [0. 0. 0.]\n",
      "   [0. 0. 0.]\n",
      "   ...\n",
      "   [0. 0. 0.]\n",
      "   [0. 0. 0.]\n",
      "   [0. 0. 0.]]\n",
      "\n",
      "  [[0. 0. 0.]\n",
      "   [0. 0. 0.]\n",
      "   [0. 0. 0.]\n",
      "   ...\n",
      "   [0. 0. 0.]\n",
      "   [0. 0. 0.]\n",
      "   [0. 0. 0.]]\n",
      "\n",
      "  ...\n",
      "\n",
      "  [[0. 0. 0.]\n",
      "   [0. 0. 0.]\n",
      "   [0. 0. 0.]\n",
      "   ...\n",
      "   [0. 0. 0.]\n",
      "   [0. 0. 0.]\n",
      "   [0. 0. 0.]]\n",
      "\n",
      "  [[0. 0. 0.]\n",
      "   [0. 0. 0.]\n",
      "   [0. 0. 0.]\n",
      "   ...\n",
      "   [0. 0. 0.]\n",
      "   [0. 0. 0.]\n",
      "   [0. 0. 0.]]\n",
      "\n",
      "  [[0. 0. 0.]\n",
      "   [0. 0. 0.]\n",
      "   [0. 0. 0.]\n",
      "   ...\n",
      "   [0. 0. 0.]\n",
      "   [0. 0. 0.]\n",
      "   [0. 0. 0.]]]]\n"
     ]
    }
   ],
   "source": [
    "# load dict of arrays\n",
    "dict_data = load('data.npz')\n",
    "# extract the first array\n",
    "data = dict_data['arr_0']\n",
    "# print the array\n",
    "print(data)"
   ]
  },
  {
   "cell_type": "markdown",
   "id": "2af6ee3d",
   "metadata": {},
   "source": [
    "### Check Images"
   ]
  },
  {
   "cell_type": "code",
   "execution_count": null,
   "id": "dd4e7da8",
   "metadata": {},
   "outputs": [],
   "source": [
    "# No of images, height, width, depth\n",
    "X.shape"
   ]
  },
  {
   "cell_type": "code",
   "execution_count": null,
   "id": "2bf4acf6",
   "metadata": {},
   "outputs": [],
   "source": [
    "# Pixel intensity\n",
    "X[300].min(), X[300].max(), X[300].mean()"
   ]
  },
  {
   "cell_type": "code",
   "execution_count": null,
   "id": "83599a6e",
   "metadata": {},
   "outputs": [],
   "source": [
    "X[300].shape, X[300].size"
   ]
  },
  {
   "cell_type": "code",
   "execution_count": null,
   "id": "b75bb36a",
   "metadata": {},
   "outputs": [],
   "source": [
    "X[300][100][200]"
   ]
  },
  {
   "cell_type": "code",
   "execution_count": null,
   "id": "267bfa61",
   "metadata": {},
   "outputs": [],
   "source": [
    "plt.imshow(X[300])"
   ]
  },
  {
   "cell_type": "code",
   "execution_count": null,
   "id": "baa45e19",
   "metadata": {},
   "outputs": [],
   "source": [
    "y = np.array(train.drop(['filename', 'new'], axis=1))\n",
    "y.shape"
   ]
  },
  {
   "cell_type": "code",
   "execution_count": null,
   "id": "e4a1188e",
   "metadata": {},
   "outputs": [],
   "source": [
    "y"
   ]
  },
  {
   "cell_type": "code",
   "execution_count": null,
   "id": "b8ddd130",
   "metadata": {},
   "outputs": [],
   "source": [
    "X_train, X_test, y_train, y_test = train_test_split(X, y, random_state=2, test_size=0.1)"
   ]
  }
 ],
 "metadata": {
  "kernelspec": {
   "display_name": "Python 3 (ipykernel)",
   "language": "python",
   "name": "python3"
  },
  "language_info": {
   "codemirror_mode": {
    "name": "ipython",
    "version": 3
   },
   "file_extension": ".py",
   "mimetype": "text/x-python",
   "name": "python",
   "nbconvert_exporter": "python",
   "pygments_lexer": "ipython3",
   "version": "3.9.5"
  },
  "varInspector": {
   "cols": {
    "lenName": 16,
    "lenType": 16,
    "lenVar": 40
   },
   "kernels_config": {
    "python": {
     "delete_cmd_postfix": "",
     "delete_cmd_prefix": "del ",
     "library": "var_list.py",
     "varRefreshCmd": "print(var_dic_list())"
    },
    "r": {
     "delete_cmd_postfix": ") ",
     "delete_cmd_prefix": "rm(",
     "library": "var_list.r",
     "varRefreshCmd": "cat(var_dic_list()) "
    }
   },
   "types_to_exclude": [
    "module",
    "function",
    "builtin_function_or_method",
    "instance",
    "_Feature"
   ],
   "window_display": false
  }
 },
 "nbformat": 4,
 "nbformat_minor": 5
}
