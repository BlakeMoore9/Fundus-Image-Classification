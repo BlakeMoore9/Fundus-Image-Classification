{
 "cells": [
  {
   "cell_type": "markdown",
   "id": "940e3fe5",
   "metadata": {},
   "source": [
    "## Dataset for Multi-Label-Classification\n",
    "Keep all instances than contain the four classes, wheter alone or in combination with other illness. "
   ]
  },
  {
   "cell_type": "code",
   "execution_count": 1,
   "id": "3572bef2",
   "metadata": {},
   "outputs": [],
   "source": [
    "import pandas as pd\n",
    "import numpy as np\n",
    "import matplotlib.pyplot as plt\n",
    "import cv2\n",
    "import os\n",
    "import random\n",
    "\n",
    "plt.rcParams[\"axes.grid\"] = False\n",
    "plt.style.use('dark_background')\n",
    "import warnings\n",
    "warnings.filterwarnings('ignore')"
   ]
  },
  {
   "cell_type": "code",
   "execution_count": 2,
   "id": "d0b580a8",
   "metadata": {
    "scrolled": true
   },
   "outputs": [
    {
     "data": {
      "text/html": [
       "<div>\n",
       "<style scoped>\n",
       "    .dataframe tbody tr th:only-of-type {\n",
       "        vertical-align: middle;\n",
       "    }\n",
       "\n",
       "    .dataframe tbody tr th {\n",
       "        vertical-align: top;\n",
       "    }\n",
       "\n",
       "    .dataframe thead th {\n",
       "        text-align: right;\n",
       "    }\n",
       "</style>\n",
       "<table border=\"1\" class=\"dataframe\">\n",
       "  <thead>\n",
       "    <tr style=\"text-align: right;\">\n",
       "      <th></th>\n",
       "      <th>filename</th>\n",
       "      <th>opacity</th>\n",
       "      <th>diabetic retinopathy</th>\n",
       "      <th>glaucoma</th>\n",
       "      <th>macular edema</th>\n",
       "      <th>macular degeneration</th>\n",
       "      <th>retinal vascular occlusion</th>\n",
       "      <th>normal</th>\n",
       "      <th>new</th>\n",
       "    </tr>\n",
       "  </thead>\n",
       "  <tbody>\n",
       "    <tr>\n",
       "      <th>0</th>\n",
       "      <td>c24a1b14d253.jpg</td>\n",
       "      <td>0</td>\n",
       "      <td>0</td>\n",
       "      <td>0</td>\n",
       "      <td>0</td>\n",
       "      <td>0</td>\n",
       "      <td>1</td>\n",
       "      <td>0</td>\n",
       "      <td>retinal vascular occlusion</td>\n",
       "    </tr>\n",
       "    <tr>\n",
       "      <th>1</th>\n",
       "      <td>9ee905a41651.jpg</td>\n",
       "      <td>0</td>\n",
       "      <td>0</td>\n",
       "      <td>0</td>\n",
       "      <td>0</td>\n",
       "      <td>0</td>\n",
       "      <td>1</td>\n",
       "      <td>0</td>\n",
       "      <td>retinal vascular occlusion</td>\n",
       "    </tr>\n",
       "    <tr>\n",
       "      <th>2</th>\n",
       "      <td>3f58d128caf6.jpg</td>\n",
       "      <td>0</td>\n",
       "      <td>0</td>\n",
       "      <td>1</td>\n",
       "      <td>0</td>\n",
       "      <td>0</td>\n",
       "      <td>0</td>\n",
       "      <td>0</td>\n",
       "      <td>glaucoma</td>\n",
       "    </tr>\n",
       "    <tr>\n",
       "      <th>3</th>\n",
       "      <td>4ce6599e7b20.jpg</td>\n",
       "      <td>1</td>\n",
       "      <td>0</td>\n",
       "      <td>0</td>\n",
       "      <td>0</td>\n",
       "      <td>1</td>\n",
       "      <td>0</td>\n",
       "      <td>0</td>\n",
       "      <td>opacity, macular degeneration</td>\n",
       "    </tr>\n",
       "    <tr>\n",
       "      <th>4</th>\n",
       "      <td>0def470360e4.jpg</td>\n",
       "      <td>1</td>\n",
       "      <td>0</td>\n",
       "      <td>0</td>\n",
       "      <td>0</td>\n",
       "      <td>1</td>\n",
       "      <td>0</td>\n",
       "      <td>0</td>\n",
       "      <td>opacity, macular degeneration</td>\n",
       "    </tr>\n",
       "  </tbody>\n",
       "</table>\n",
       "</div>"
      ],
      "text/plain": [
       "           filename  opacity  diabetic retinopathy  glaucoma  macular edema  \\\n",
       "0  c24a1b14d253.jpg        0                     0         0              0   \n",
       "1  9ee905a41651.jpg        0                     0         0              0   \n",
       "2  3f58d128caf6.jpg        0                     0         1              0   \n",
       "3  4ce6599e7b20.jpg        1                     0         0              0   \n",
       "4  0def470360e4.jpg        1                     0         0              0   \n",
       "\n",
       "   macular degeneration  retinal vascular occlusion  normal  \\\n",
       "0                     0                           1       0   \n",
       "1                     0                           1       0   \n",
       "2                     0                           0       0   \n",
       "3                     1                           0       0   \n",
       "4                     1                           0       0   \n",
       "\n",
       "                             new  \n",
       "0     retinal vascular occlusion  \n",
       "1     retinal vascular occlusion  \n",
       "2                       glaucoma  \n",
       "3  opacity, macular degeneration  \n",
       "4  opacity, macular degeneration  "
      ]
     },
     "execution_count": 2,
     "metadata": {},
     "output_type": "execute_result"
    }
   ],
   "source": [
    "# Reading csv file\n",
    "df = pd.read_csv('train_resampled.csv')\n",
    "df.head()"
   ]
  },
  {
   "cell_type": "code",
   "execution_count": 3,
   "id": "4b240215",
   "metadata": {},
   "outputs": [
    {
     "data": {
      "text/plain": [
       "(4704, 9)"
      ]
     },
     "execution_count": 3,
     "metadata": {},
     "output_type": "execute_result"
    }
   ],
   "source": [
    "# check the file\n",
    "df.shape"
   ]
  },
  {
   "cell_type": "code",
   "execution_count": 5,
   "id": "42bcdef9",
   "metadata": {
    "scrolled": false
   },
   "outputs": [
    {
     "data": {
      "text/plain": [
       "retinal vascular occlusion                                                  500\n",
       "opacity                                                                     500\n",
       "glaucoma                                                                    500\n",
       "macular edema                                                               500\n",
       "diabetic retinopathy                                                        500\n",
       "normal                                                                      500\n",
       "macular degeneration                                                        500\n",
       "opacity, macular degeneration                                               212\n",
       "opacity, diabetic retinopathy                                               186\n",
       "diabetic retinopathy, macular edema                                         162\n",
       "opacity, diabetic retinopathy, macular edema                                154\n",
       "opacity, glaucoma                                                           140\n",
       "macular edema, retinal vascular occlusion                                    74\n",
       "opacity, macular edema, retinal vascular occlusion                           62\n",
       "opacity, retinal vascular occlusion                                          55\n",
       "glaucoma, macular degeneration                                               31\n",
       "glaucoma, retinal vascular occlusion                                         27\n",
       "opacity, glaucoma, macular degeneration                                      16\n",
       "diabetic retinopathy, glaucoma                                               15\n",
       "glaucoma, macular edema, retinal vascular occlusion                          14\n",
       "opacity, glaucoma, retinal vascular occlusion                                10\n",
       "opacity, glaucoma, macular edema, retinal vascular occlusion                  8\n",
       "diabetic retinopathy, retinal vascular occlusion                              5\n",
       "opacity, diabetic retinopathy, macular degeneration                           5\n",
       "opacity, diabetic retinopathy, retinal vascular occlusion                     4\n",
       "opacity, macular degeneration, retinal vascular occlusion                     3\n",
       "glaucoma, macular edema                                                       3\n",
       "diabetic retinopathy, glaucoma, macular edema                                 3\n",
       "diabetic retinopathy, macular degeneration                                    2\n",
       "macular degeneration, retinal vascular occlusion                              2\n",
       "opacity, diabetic retinopathy, macular edema, macular degeneration            2\n",
       "opacity, diabetic retinopathy, macular edema, retinal vascular occlusion      2\n",
       "diabetic retinopathy, macular edema, retinal vascular occlusion               2\n",
       "glaucoma, macular degeneration, retinal vascular occlusion                    2\n",
       "opacity, macular edema                                                        2\n",
       "opacity, diabetic retinopathy, glaucoma, macular edema                        1\n",
       "Name: new, dtype: int64"
      ]
     },
     "execution_count": 5,
     "metadata": {},
     "output_type": "execute_result"
    }
   ],
   "source": [
    "# check the values\n",
    "df.new.value_counts()"
   ]
  },
  {
   "cell_type": "code",
   "execution_count": 6,
   "id": "5be7f242",
   "metadata": {},
   "outputs": [],
   "source": [
    "# Sanity Check\n",
    "image_list = os.listdir(r'D:\\data\\Projects\\notebooks\\RetinaAI\\01_Preprocessing\\train_resampled\\\\')"
   ]
  },
  {
   "cell_type": "code",
   "execution_count": 7,
   "id": "33520ec5",
   "metadata": {},
   "outputs": [],
   "source": [
    "filenames_list = df.filename.to_list()"
   ]
  },
  {
   "cell_type": "code",
   "execution_count": 8,
   "id": "e133df12",
   "metadata": {},
   "outputs": [
    {
     "data": {
      "text/plain": [
       "True"
      ]
     },
     "execution_count": 8,
     "metadata": {},
     "output_type": "execute_result"
    }
   ],
   "source": [
    "sorted(image_list) == sorted(filenames_list)"
   ]
  },
  {
   "cell_type": "code",
   "execution_count": 21,
   "id": "19f28c9a",
   "metadata": {},
   "outputs": [],
   "source": [
    "indir = r'D:\\data\\Projects\\notebooks\\RetinaAI\\01_Preprocessing\\train_resampled'\n",
    "outdir = r'D:\\data\\Projects\\notebooks\\RetinaAI\\01_Preprocessing\\train_multilabel4'"
   ]
  },
  {
   "cell_type": "code",
   "execution_count": 22,
   "id": "42d2d52b",
   "metadata": {},
   "outputs": [
    {
     "data": {
      "text/plain": [
       "Index(['filename', 'opacity', 'diabetic retinopathy', 'glaucoma',\n",
       "       'macular edema', 'macular degeneration', 'retinal vascular occlusion',\n",
       "       'normal', 'new'],\n",
       "      dtype='object')"
      ]
     },
     "execution_count": 22,
     "metadata": {},
     "output_type": "execute_result"
    }
   ],
   "source": [
    "df.columns"
   ]
  },
  {
   "cell_type": "code",
   "execution_count": 18,
   "id": "d9a1b0f8",
   "metadata": {},
   "outputs": [],
   "source": [
    "# make list of instances that will be extraced\n",
    "dr = df[df['diabetic retinopathy'] == 1]['filename'].tolist()\n",
    "me = df[df['macular edema'] == 1]['filename'].tolist()\n",
    "rvo = df[df['retinal vascular occlusion'] == 1]['filename'].tolist()"
   ]
  },
  {
   "cell_type": "code",
   "execution_count": 19,
   "id": "218c617f",
   "metadata": {},
   "outputs": [],
   "source": [
    "complete = dr+me+rvo"
   ]
  },
  {
   "cell_type": "code",
   "execution_count": 20,
   "id": "99aeaccc",
   "metadata": {},
   "outputs": [
    {
     "data": {
      "text/plain": [
       "2802"
      ]
     },
     "execution_count": 20,
     "metadata": {},
     "output_type": "execute_result"
    }
   ],
   "source": [
    "len(complete)"
   ]
  },
  {
   "cell_type": "code",
   "execution_count": 24,
   "id": "89dd5988",
   "metadata": {},
   "outputs": [],
   "source": [
    "# get rid of duplicates\n",
    "comp = set(complete)"
   ]
  },
  {
   "cell_type": "code",
   "execution_count": 25,
   "id": "cded90c3",
   "metadata": {},
   "outputs": [
    {
     "data": {
      "text/plain": [
       "2305"
      ]
     },
     "execution_count": 25,
     "metadata": {},
     "output_type": "execute_result"
    }
   ],
   "source": [
    "len(comp)"
   ]
  },
  {
   "cell_type": "code",
   "execution_count": 27,
   "id": "fa9ac932",
   "metadata": {
    "scrolled": true
   },
   "outputs": [],
   "source": [
    "# remove images from list in directory\n",
    "for image in comp:\n",
    "        os.remove(outdir + '\\\\' + image)"
   ]
  },
  {
   "cell_type": "code",
   "execution_count": 28,
   "id": "0b0a44b3",
   "metadata": {
    "scrolled": true
   },
   "outputs": [],
   "source": [
    "# Create a new datframe that only contains images not deleted\n",
    "df_new = df[~df.filename.isin(comp)]"
   ]
  },
  {
   "cell_type": "code",
   "execution_count": 29,
   "id": "3550eed7",
   "metadata": {},
   "outputs": [
    {
     "data": {
      "text/plain": [
       "(2399, 9)"
      ]
     },
     "execution_count": 29,
     "metadata": {},
     "output_type": "execute_result"
    }
   ],
   "source": [
    "# check shape\n",
    "df_new.shape"
   ]
  },
  {
   "cell_type": "code",
   "execution_count": 31,
   "id": "0e380e63",
   "metadata": {
    "scrolled": false
   },
   "outputs": [
    {
     "data": {
      "text/plain": [
       "glaucoma                                   500\n",
       "macular degeneration                       500\n",
       "opacity                                    500\n",
       "normal                                     500\n",
       "opacity, macular degeneration              212\n",
       "opacity, glaucoma                          140\n",
       "glaucoma, macular degeneration              31\n",
       "opacity, glaucoma, macular degeneration     16\n",
       "Name: new, dtype: int64"
      ]
     },
     "execution_count": 31,
     "metadata": {},
     "output_type": "execute_result"
    }
   ],
   "source": [
    "# check instances\n",
    "df_new.new.value_counts()"
   ]
  },
  {
   "cell_type": "code",
   "execution_count": 32,
   "id": "9a48244e",
   "metadata": {},
   "outputs": [],
   "source": [
    "# Sanity Check\n",
    "image_list = os.listdir(outdir)"
   ]
  },
  {
   "cell_type": "code",
   "execution_count": 33,
   "id": "80eca630",
   "metadata": {},
   "outputs": [],
   "source": [
    "filenames_list = df_new.filename.to_list()"
   ]
  },
  {
   "cell_type": "code",
   "execution_count": 34,
   "id": "c0637539",
   "metadata": {},
   "outputs": [
    {
     "data": {
      "text/plain": [
       "True"
      ]
     },
     "execution_count": 34,
     "metadata": {},
     "output_type": "execute_result"
    }
   ],
   "source": [
    "sorted(image_list) == sorted(filenames_list)"
   ]
  },
  {
   "cell_type": "code",
   "execution_count": 35,
   "id": "7115e175",
   "metadata": {},
   "outputs": [],
   "source": [
    "df_new.to_csv('multilabel4.csv', sep=',', encoding='utf-8', index=False)"
   ]
  }
 ],
 "metadata": {
  "kernelspec": {
   "display_name": "Python 3 (ipykernel)",
   "language": "python",
   "name": "python3"
  },
  "language_info": {
   "codemirror_mode": {
    "name": "ipython",
    "version": 3
   },
   "file_extension": ".py",
   "mimetype": "text/x-python",
   "name": "python",
   "nbconvert_exporter": "python",
   "pygments_lexer": "ipython3",
   "version": "3.9.5"
  },
  "varInspector": {
   "cols": {
    "lenName": 16,
    "lenType": 16,
    "lenVar": 40
   },
   "kernels_config": {
    "python": {
     "delete_cmd_postfix": "",
     "delete_cmd_prefix": "del ",
     "library": "var_list.py",
     "varRefreshCmd": "print(var_dic_list())"
    },
    "r": {
     "delete_cmd_postfix": ") ",
     "delete_cmd_prefix": "rm(",
     "library": "var_list.r",
     "varRefreshCmd": "cat(var_dic_list()) "
    }
   },
   "types_to_exclude": [
    "module",
    "function",
    "builtin_function_or_method",
    "instance",
    "_Feature"
   ],
   "window_display": false
  }
 },
 "nbformat": 4,
 "nbformat_minor": 5
}
