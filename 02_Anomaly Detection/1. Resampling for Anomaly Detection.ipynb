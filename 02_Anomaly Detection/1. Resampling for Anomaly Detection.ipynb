{
 "cells": [
  {
   "cell_type": "markdown",
   "id": "674e853f",
   "metadata": {},
   "source": [
    "## Dataset for Anomaly Detection\n",
    "There will be two classes, normal = 1 and normal = 0 for images that show illnesses. "
   ]
  },
  {
   "cell_type": "code",
   "execution_count": 1,
   "id": "e12c7571",
   "metadata": {},
   "outputs": [],
   "source": [
    "import pandas as pd\n",
    "import numpy as np\n",
    "import matplotlib.pyplot as plt\n",
    "import cv2\n",
    "import os\n",
    "import random"
   ]
  },
  {
   "cell_type": "code",
   "execution_count": 2,
   "id": "d69aac65",
   "metadata": {},
   "outputs": [
    {
     "data": {
      "text/html": [
       "<div>\n",
       "<style scoped>\n",
       "    .dataframe tbody tr th:only-of-type {\n",
       "        vertical-align: middle;\n",
       "    }\n",
       "\n",
       "    .dataframe tbody tr th {\n",
       "        vertical-align: top;\n",
       "    }\n",
       "\n",
       "    .dataframe thead th {\n",
       "        text-align: right;\n",
       "    }\n",
       "</style>\n",
       "<table border=\"1\" class=\"dataframe\">\n",
       "  <thead>\n",
       "    <tr style=\"text-align: right;\">\n",
       "      <th></th>\n",
       "      <th>filename</th>\n",
       "      <th>opacity</th>\n",
       "      <th>diabetic retinopathy</th>\n",
       "      <th>glaucoma</th>\n",
       "      <th>macular edema</th>\n",
       "      <th>macular degeneration</th>\n",
       "      <th>retinal vascular occlusion</th>\n",
       "      <th>normal</th>\n",
       "      <th>labels</th>\n",
       "    </tr>\n",
       "  </thead>\n",
       "  <tbody>\n",
       "    <tr>\n",
       "      <th>0</th>\n",
       "      <td>c24a1b14d253.jpg</td>\n",
       "      <td>0</td>\n",
       "      <td>0</td>\n",
       "      <td>0</td>\n",
       "      <td>0</td>\n",
       "      <td>0</td>\n",
       "      <td>1</td>\n",
       "      <td>0</td>\n",
       "      <td>retinal vascular occlusion</td>\n",
       "    </tr>\n",
       "    <tr>\n",
       "      <th>1</th>\n",
       "      <td>9ee905a41651.jpg</td>\n",
       "      <td>0</td>\n",
       "      <td>0</td>\n",
       "      <td>0</td>\n",
       "      <td>0</td>\n",
       "      <td>0</td>\n",
       "      <td>1</td>\n",
       "      <td>0</td>\n",
       "      <td>retinal vascular occlusion</td>\n",
       "    </tr>\n",
       "    <tr>\n",
       "      <th>2</th>\n",
       "      <td>3f58d128caf6.jpg</td>\n",
       "      <td>0</td>\n",
       "      <td>0</td>\n",
       "      <td>1</td>\n",
       "      <td>0</td>\n",
       "      <td>0</td>\n",
       "      <td>0</td>\n",
       "      <td>0</td>\n",
       "      <td>glaucoma</td>\n",
       "    </tr>\n",
       "    <tr>\n",
       "      <th>3</th>\n",
       "      <td>4ce6599e7b20.jpg</td>\n",
       "      <td>1</td>\n",
       "      <td>0</td>\n",
       "      <td>0</td>\n",
       "      <td>0</td>\n",
       "      <td>1</td>\n",
       "      <td>0</td>\n",
       "      <td>0</td>\n",
       "      <td>opacity, macular degeneration</td>\n",
       "    </tr>\n",
       "    <tr>\n",
       "      <th>4</th>\n",
       "      <td>0def470360e4.jpg</td>\n",
       "      <td>1</td>\n",
       "      <td>0</td>\n",
       "      <td>0</td>\n",
       "      <td>0</td>\n",
       "      <td>1</td>\n",
       "      <td>0</td>\n",
       "      <td>0</td>\n",
       "      <td>opacity, macular degeneration</td>\n",
       "    </tr>\n",
       "  </tbody>\n",
       "</table>\n",
       "</div>"
      ],
      "text/plain": [
       "           filename  opacity  diabetic retinopathy  glaucoma  macular edema  \\\n",
       "0  c24a1b14d253.jpg        0                     0         0              0   \n",
       "1  9ee905a41651.jpg        0                     0         0              0   \n",
       "2  3f58d128caf6.jpg        0                     0         1              0   \n",
       "3  4ce6599e7b20.jpg        1                     0         0              0   \n",
       "4  0def470360e4.jpg        1                     0         0              0   \n",
       "\n",
       "   macular degeneration  retinal vascular occlusion  normal  \\\n",
       "0                     0                           1       0   \n",
       "1                     0                           1       0   \n",
       "2                     0                           0       0   \n",
       "3                     1                           0       0   \n",
       "4                     1                           0       0   \n",
       "\n",
       "                          labels  \n",
       "0     retinal vascular occlusion  \n",
       "1     retinal vascular occlusion  \n",
       "2                       glaucoma  \n",
       "3  opacity, macular degeneration  \n",
       "4  opacity, macular degeneration  "
      ]
     },
     "execution_count": 2,
     "metadata": {},
     "output_type": "execute_result"
    }
   ],
   "source": [
    "df = pd.read_csv(r'D:\\data\\Projects\\notebooks\\RetinaAI\\Preprocessing\\train_new.csv')\n",
    "df.head()"
   ]
  },
  {
   "cell_type": "code",
   "execution_count": 3,
   "id": "01f72b20",
   "metadata": {},
   "outputs": [],
   "source": [
    "df_normal = df[['filename','normal']]"
   ]
  },
  {
   "cell_type": "code",
   "execution_count": 4,
   "id": "6616a343",
   "metadata": {},
   "outputs": [
    {
     "data": {
      "text/plain": [
       "0    2910\n",
       "1     525\n",
       "Name: normal, dtype: int64"
      ]
     },
     "execution_count": 4,
     "metadata": {},
     "output_type": "execute_result"
    }
   ],
   "source": [
    "df_normal.normal.value_counts()"
   ]
  },
  {
   "cell_type": "markdown",
   "id": "6a6790ea",
   "metadata": {},
   "source": [
    "### Cropping and resizing of images\n",
    "- Center the retina\n",
    "- Fill image with retina, to eliminate as much of backround"
   ]
  },
  {
   "cell_type": "code",
   "execution_count": 5,
   "id": "199b995f",
   "metadata": {},
   "outputs": [],
   "source": [
    "indir = r'D:\\data\\Projects\\notebooks\\RetinaAI\\Binary Classification\\train'"
   ]
  },
  {
   "cell_type": "raw",
   "id": "19736b28",
   "metadata": {},
   "source": [
    "for j in df_normal.filename:\n",
    "        img = cv2.imread(indir + '\\\\'+ j)\n",
    "        gray = cv2.cvtColor(img,cv2.COLOR_BGR2GRAY)\n",
    "        gray = np.asarray(gray)\n",
    "        r, c  = gray.shape\n",
    "        thresh = 5\n",
    "        r1 = 0; c1 = 0; r2 = r; c2 = c\n",
    "\n",
    "        for i in range(int(r/2), 0, -1):\n",
    "            if np.mean(gray[i,:]) <= thresh:\n",
    "                r1 = i\n",
    "                break\n",
    "\n",
    "        for i in range(int(c/2), 0, -1):\n",
    "            if np.mean(gray[:,i]) <= thresh:\n",
    "                c1 = i\n",
    "                break\n",
    "\n",
    "        for i in range(int(r/2), r, 1):\n",
    "            if np.mean(gray[i,:]) <= thresh:\n",
    "                r2 = i\n",
    "                break\n",
    "\n",
    "        for i in range(int(c/2), c, 1):\n",
    "            if np.mean(gray[:,i]) <= thresh:\n",
    "                c2 = i\n",
    "                break\n",
    "\n",
    "        crop = img[r1:r2,c1:c2]\n",
    "        resized = cv2.resize(crop, (512, 512), interpolation = cv2.INTER_NEAREST)\n",
    "        cv2.imwrite(os.path.join(indir , j), resized)"
   ]
  },
  {
   "cell_type": "raw",
   "id": "92514efd",
   "metadata": {},
   "source": [
    "from PIL import Image\n",
    "import random"
   ]
  },
  {
   "cell_type": "raw",
   "id": "546ada0a",
   "metadata": {},
   "source": [
    "normal = df_normal.loc[df.normal == 1]"
   ]
  },
  {
   "cell_type": "raw",
   "id": "ba307510",
   "metadata": {},
   "source": [
    "outdir = r'D:\\data\\Projects\\notebooks\\RetinaAI\\Binary Classification\\out'"
   ]
  },
  {
   "cell_type": "raw",
   "id": "f6c8fb74",
   "metadata": {},
   "source": [
    "names = []\n",
    "for image in normal.filename:\n",
    "        img = Image.open(indir+'\\\\'+image)\n",
    "        angle = random.randint(0, 360)\n",
    "        img = img.rotate(angle, expand=False)\n",
    "        image = 'r_'+image\n",
    "        names.append(image)\n",
    "        img.save(indir+'\\\\'+image)"
   ]
  },
  {
   "cell_type": "raw",
   "id": "5076cfa1",
   "metadata": {},
   "source": [
    "for image in normal.filename:\n",
    "        img = Image.open(indir+'\\\\'+image)\n",
    "        img = img.transpose(Image.FLIP_LEFT_RIGHT)\n",
    "        image = 'fv_'+image\n",
    "        names.append(image)\n",
    "        img.save(indir+'\\\\'+image)"
   ]
  },
  {
   "cell_type": "code",
   "execution_count": 11,
   "id": "b35555ae",
   "metadata": {
    "scrolled": true
   },
   "outputs": [],
   "source": [
    "df_ = pd.DataFrame({'filename':names, 'normal':1})"
   ]
  },
  {
   "cell_type": "code",
   "execution_count": 14,
   "id": "9e795db0",
   "metadata": {
    "scrolled": false
   },
   "outputs": [],
   "source": [
    "df_new = df_normal.append(df_, ignore_index=True)"
   ]
  },
  {
   "cell_type": "code",
   "execution_count": 15,
   "id": "35390904",
   "metadata": {},
   "outputs": [
    {
     "data": {
      "text/plain": [
       "0    2910\n",
       "1    1575\n",
       "Name: normal, dtype: int64"
      ]
     },
     "execution_count": 15,
     "metadata": {},
     "output_type": "execute_result"
    }
   ],
   "source": [
    "df_new.normal.value_counts()"
   ]
  },
  {
   "cell_type": "code",
   "execution_count": 19,
   "id": "65a932db",
   "metadata": {},
   "outputs": [],
   "source": [
    "normal2 = df_new.loc[df_new.normal == 1]"
   ]
  },
  {
   "cell_type": "code",
   "execution_count": 21,
   "id": "8d03a287",
   "metadata": {},
   "outputs": [],
   "source": [
    "flips = []\n",
    "for image in normal2.filename:\n",
    "        img = Image.open(indir+'\\\\'+image)\n",
    "        img = img.transpose(Image.FLIP_TOP_BOTTOM)\n",
    "        image = 'fh_'+image\n",
    "        flips.append(image)\n",
    "        img.save(indir+'\\\\'+image)"
   ]
  },
  {
   "cell_type": "code",
   "execution_count": 22,
   "id": "bf9bf3c1",
   "metadata": {},
   "outputs": [],
   "source": [
    "df__ = pd.DataFrame({'filename':flips, 'normal':1})"
   ]
  },
  {
   "cell_type": "code",
   "execution_count": 23,
   "id": "05a8f8f6",
   "metadata": {},
   "outputs": [],
   "source": [
    "df_new = df_new.append(df__, ignore_index=True)"
   ]
  },
  {
   "cell_type": "code",
   "execution_count": 24,
   "id": "1f996f5a",
   "metadata": {},
   "outputs": [
    {
     "data": {
      "text/plain": [
       "1    3150\n",
       "0    2910\n",
       "Name: normal, dtype: int64"
      ]
     },
     "execution_count": 24,
     "metadata": {},
     "output_type": "execute_result"
    }
   ],
   "source": [
    "df_new.normal.value_counts()"
   ]
  },
  {
   "cell_type": "code",
   "execution_count": 2,
   "id": "7bbe72e0",
   "metadata": {},
   "outputs": [],
   "source": [
    "df_new = pd.read_csv('train_binary.csv')"
   ]
  },
  {
   "cell_type": "code",
   "execution_count": 6,
   "id": "bee67343",
   "metadata": {},
   "outputs": [
    {
     "data": {
      "text/plain": [
       "filename    object\n",
       "normal      object\n",
       "dtype: object"
      ]
     },
     "execution_count": 6,
     "metadata": {},
     "output_type": "execute_result"
    }
   ],
   "source": [
    "df_new.dtypes"
   ]
  },
  {
   "cell_type": "code",
   "execution_count": 7,
   "id": "b2c782e6",
   "metadata": {},
   "outputs": [],
   "source": [
    "#df_new.to_csv('train_binary.csv', sep=',', encoding='utf-8', index=False)"
   ]
  }
 ],
 "metadata": {
  "kernelspec": {
   "display_name": "Python 3 (ipykernel)",
   "language": "python",
   "name": "python3"
  },
  "language_info": {
   "codemirror_mode": {
    "name": "ipython",
    "version": 3
   },
   "file_extension": ".py",
   "mimetype": "text/x-python",
   "name": "python",
   "nbconvert_exporter": "python",
   "pygments_lexer": "ipython3",
   "version": "3.9.5"
  },
  "varInspector": {
   "cols": {
    "lenName": 16,
    "lenType": 16,
    "lenVar": 40
   },
   "kernels_config": {
    "python": {
     "delete_cmd_postfix": "",
     "delete_cmd_prefix": "del ",
     "library": "var_list.py",
     "varRefreshCmd": "print(var_dic_list())"
    },
    "r": {
     "delete_cmd_postfix": ") ",
     "delete_cmd_prefix": "rm(",
     "library": "var_list.r",
     "varRefreshCmd": "cat(var_dic_list()) "
    }
   },
   "types_to_exclude": [
    "module",
    "function",
    "builtin_function_or_method",
    "instance",
    "_Feature"
   ],
   "window_display": false
  }
 },
 "nbformat": 4,
 "nbformat_minor": 5
}
