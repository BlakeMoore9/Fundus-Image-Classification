{
 "cells": [
  {
   "cell_type": "markdown",
   "id": "f700bf82",
   "metadata": {},
   "source": [
    "## Tuning Hyperparameters with Keras Tuner "
   ]
  },
  {
   "cell_type": "markdown",
   "id": "9b3c60b6",
   "metadata": {
    "id": "9b3c60b6"
   },
   "source": [
    "- Task: Find the best learning rate for the Anomaly Detection\n",
    "- Dataset: Cropped and Resized Fundus Images\n",
    "- Original Colorscheme"
   ]
  },
  {
   "cell_type": "markdown",
   "id": "d28f32b2",
   "metadata": {},
   "source": [
    "Ressources for use and problem solving\n",
    "- Tensorflow: https://www.tensorflow.org/tutorials/keras/keras_tuner\n",
    "- Keras: https://keras.io/api/keras_tuner/hyperparameters/\n",
    "- Hyperband Tuner: https://arxiv.org/abs/1603.06560\n",
    "- https://stackoverflow.com/questions/62258704/what-does-infotensorfloworacle-triggered-exit-mean-with-keras-tuner\n",
    "- https://github.com/keras-team/keras-tuner/issues/104\n",
    "- https://github.com/keras-team/keras-tuner/issues/223\n"
   ]
  },
  {
   "cell_type": "code",
   "execution_count": 1,
   "id": "9c6708da",
   "metadata": {
    "executionInfo": {
     "elapsed": 8,
     "status": "ok",
     "timestamp": 1628076383986,
     "user": {
      "displayName": "Daimon Laplace",
      "photoUrl": "https://lh3.googleusercontent.com/a-/AOh14GhQN7oZcOXhMM0AgecritM7JP6IWKvkL4HS8bJW=s64",
      "userId": "13385611080783470639"
     },
     "user_tz": -120
    },
    "id": "9c6708da"
   },
   "outputs": [],
   "source": [
    "import pandas as pd\n",
    "import numpy as np\n",
    "import matplotlib.pyplot as plt"
   ]
  },
  {
   "cell_type": "code",
   "execution_count": 2,
   "id": "149d22bb",
   "metadata": {
    "executionInfo": {
     "elapsed": 1712,
     "status": "ok",
     "timestamp": 1628076385692,
     "user": {
      "displayName": "Daimon Laplace",
      "photoUrl": "https://lh3.googleusercontent.com/a-/AOh14GhQN7oZcOXhMM0AgecritM7JP6IWKvkL4HS8bJW=s64",
      "userId": "13385611080783470639"
     },
     "user_tz": -120
    },
    "id": "149d22bb"
   },
   "outputs": [],
   "source": [
    "import tensorflow as tf"
   ]
  },
  {
   "cell_type": "code",
   "execution_count": 3,
   "id": "zAF4gI1du-7R",
   "metadata": {
    "executionInfo": {
     "elapsed": 5,
     "status": "ok",
     "timestamp": 1628076385693,
     "user": {
      "displayName": "Daimon Laplace",
      "photoUrl": "https://lh3.googleusercontent.com/a-/AOh14GhQN7oZcOXhMM0AgecritM7JP6IWKvkL4HS8bJW=s64",
      "userId": "13385611080783470639"
     },
     "user_tz": -120
    },
    "id": "zAF4gI1du-7R"
   },
   "outputs": [],
   "source": [
    "from keras_preprocessing.image import ImageDataGenerator\n",
    "from tensorflow.keras.models import Sequential\n",
    "from tensorflow.keras.layers import Dense, Activation, Flatten, Dropout, Conv2D, MaxPooling2D\n",
    "from tensorflow.keras.optimizers import SGD, Adam\n",
    "from tensorflow.keras.callbacks import EarlyStopping\n",
    "import keras_tuner as kt"
   ]
  },
  {
   "cell_type": "code",
   "execution_count": 4,
   "id": "05b88b36",
   "metadata": {
    "executionInfo": {
     "elapsed": 546,
     "status": "ok",
     "timestamp": 1628076386235,
     "user": {
      "displayName": "Daimon Laplace",
      "photoUrl": "https://lh3.googleusercontent.com/a-/AOh14GhQN7oZcOXhMM0AgecritM7JP6IWKvkL4HS8bJW=s64",
      "userId": "13385611080783470639"
     },
     "user_tz": -120
    },
    "id": "05b88b36",
    "scrolled": true
   },
   "outputs": [],
   "source": [
    "# read in data\n",
    "df = pd.read_csv('train_binary.csv')"
   ]
  },
  {
   "cell_type": "code",
   "execution_count": 5,
   "id": "d8897b2b",
   "metadata": {
    "executionInfo": {
     "elapsed": 9,
     "status": "ok",
     "timestamp": 1628076386236,
     "user": {
      "displayName": "Daimon Laplace",
      "photoUrl": "https://lh3.googleusercontent.com/a-/AOh14GhQN7oZcOXhMM0AgecritM7JP6IWKvkL4HS8bJW=s64",
      "userId": "13385611080783470639"
     },
     "user_tz": -120
    },
    "id": "d8897b2b"
   },
   "outputs": [],
   "source": [
    "# Assign str Datatype to target for Generator\n",
    "df.normal = df.normal.astype('str')"
   ]
  },
  {
   "cell_type": "code",
   "execution_count": 6,
   "id": "3532801a",
   "metadata": {
    "colab": {
     "base_uri": "https://localhost:8080/"
    },
    "executionInfo": {
     "elapsed": 9,
     "status": "ok",
     "timestamp": 1628076386237,
     "user": {
      "displayName": "Daimon Laplace",
      "photoUrl": "https://lh3.googleusercontent.com/a-/AOh14GhQN7oZcOXhMM0AgecritM7JP6IWKvkL4HS8bJW=s64",
      "userId": "13385611080783470639"
     },
     "user_tz": -120
    },
    "id": "3532801a",
    "outputId": "4f006012-0e71-491f-ba00-8309e7d7a9f6"
   },
   "outputs": [
    {
     "data": {
      "text/plain": [
       "1    3150\n",
       "0    2910\n",
       "Name: normal, dtype: int64"
      ]
     },
     "execution_count": 6,
     "metadata": {},
     "output_type": "execute_result"
    }
   ],
   "source": [
    "# Check Data\n",
    "df.normal.value_counts()"
   ]
  },
  {
   "cell_type": "code",
   "execution_count": 7,
   "id": "89b0e66d",
   "metadata": {
    "executionInfo": {
     "elapsed": 510,
     "status": "ok",
     "timestamp": 1628076386740,
     "user": {
      "displayName": "Daimon Laplace",
      "photoUrl": "https://lh3.googleusercontent.com/a-/AOh14GhQN7oZcOXhMM0AgecritM7JP6IWKvkL4HS8bJW=s64",
      "userId": "13385611080783470639"
     },
     "user_tz": -120
    },
    "id": "89b0e66d"
   },
   "outputs": [],
   "source": [
    "# As data is ordered in dataframe after augmentation, shuffle it\n",
    "from sklearn.utils import shuffle \n",
    "df = shuffle(df)"
   ]
  },
  {
   "cell_type": "code",
   "execution_count": 8,
   "id": "6bd6c1ba",
   "metadata": {
    "executionInfo": {
     "elapsed": 6,
     "status": "ok",
     "timestamp": 1628076387218,
     "user": {
      "displayName": "Daimon Laplace",
      "photoUrl": "https://lh3.googleusercontent.com/a-/AOh14GhQN7oZcOXhMM0AgecritM7JP6IWKvkL4HS8bJW=s64",
      "userId": "13385611080783470639"
     },
     "user_tz": -120
    },
    "id": "6bd6c1ba"
   },
   "outputs": [],
   "source": [
    "# Directory\n",
    "indir = r\"D:\\data\\Projects\\notebooks\\RetinaAI\\Anomaly Detection\\train\""
   ]
  },
  {
   "cell_type": "code",
   "execution_count": 9,
   "id": "f8e97a88",
   "metadata": {
    "executionInfo": {
     "elapsed": 6,
     "status": "ok",
     "timestamp": 1628076387219,
     "user": {
      "displayName": "Daimon Laplace",
      "photoUrl": "https://lh3.googleusercontent.com/a-/AOh14GhQN7oZcOXhMM0AgecritM7JP6IWKvkL4HS8bJW=s64",
      "userId": "13385611080783470639"
     },
     "user_tz": -120
    },
    "id": "f8e97a88"
   },
   "outputs": [],
   "source": [
    "# Normalize Data\n",
    "datagen = ImageDataGenerator(rescale=1./255., validation_split = 0.25)"
   ]
  },
  {
   "cell_type": "code",
   "execution_count": 10,
   "id": "6bae5961",
   "metadata": {
    "colab": {
     "base_uri": "https://localhost:8080/"
    },
    "executionInfo": {
     "elapsed": 33533,
     "status": "ok",
     "timestamp": 1628076420747,
     "user": {
      "displayName": "Daimon Laplace",
      "photoUrl": "https://lh3.googleusercontent.com/a-/AOh14GhQN7oZcOXhMM0AgecritM7JP6IWKvkL4HS8bJW=s64",
      "userId": "13385611080783470639"
     },
     "user_tz": -120
    },
    "id": "6bae5961",
    "outputId": "ab8d73fb-a3db-4fa3-90ca-e72e62d08364"
   },
   "outputs": [
    {
     "name": "stdout",
     "output_type": "stream",
     "text": [
      "Found 4545 validated image filenames belonging to 2 classes.\n"
     ]
    }
   ],
   "source": [
    "train_gen = datagen.flow_from_dataframe(dataframe = df, \n",
    "                                            directory = indir, \n",
    "                                            x_col = \"filename\", \n",
    "                                            y_col = 'normal',\n",
    "                                            batch_size = 64, \n",
    "                                            seed = 2, \n",
    "                                            shuffle = True, \n",
    "                                            class_mode = \"binary\", \n",
    "                                            target_size = (300,300),\n",
    "                                            subset='training')"
   ]
  },
  {
   "cell_type": "code",
   "execution_count": 11,
   "id": "a2b3e2ac",
   "metadata": {
    "colab": {
     "base_uri": "https://localhost:8080/"
    },
    "executionInfo": {
     "elapsed": 1374,
     "status": "ok",
     "timestamp": 1628076422114,
     "user": {
      "displayName": "Daimon Laplace",
      "photoUrl": "https://lh3.googleusercontent.com/a-/AOh14GhQN7oZcOXhMM0AgecritM7JP6IWKvkL4HS8bJW=s64",
      "userId": "13385611080783470639"
     },
     "user_tz": -120
    },
    "id": "a2b3e2ac",
    "outputId": "467b3106-0358-4123-915a-4ce279f25cc6"
   },
   "outputs": [
    {
     "name": "stdout",
     "output_type": "stream",
     "text": [
      "Found 1515 validated image filenames belonging to 2 classes.\n"
     ]
    }
   ],
   "source": [
    "val_gen = datagen.flow_from_dataframe(dataframe = df, \n",
    "                                            directory = indir, \n",
    "                                            x_col = \"filename\", \n",
    "                                            y_col = 'normal',\n",
    "                                            batch_size = 64, \n",
    "                                            seed = 2, \n",
    "                                            shuffle = True, \n",
    "                                            class_mode = \"binary\", \n",
    "                                            target_size = (300,300),\n",
    "                                            subset='validation')"
   ]
  },
  {
   "cell_type": "code",
   "execution_count": 12,
   "id": "a0b64d78",
   "metadata": {},
   "outputs": [],
   "source": [
    "# Model builder with selection of learning rates\n",
    "def builder(hp):\n",
    "    \n",
    "    model = Sequential()\n",
    "\n",
    "    model.add(Conv2D(32, (3, 3), activation='relu', kernel_initializer='he_uniform', padding='same', input_shape=(300,300,3)))\n",
    "    model.add(Conv2D(32, (3, 3), activation='relu', kernel_initializer='he_uniform', padding='same'))\n",
    "    model.add(MaxPooling2D((2, 2)))\n",
    "\n",
    "    model.add(Conv2D(64, (3, 3), activation='relu', kernel_initializer='he_uniform', padding='same'))\n",
    "    model.add(Conv2D(64, (3, 3), activation='relu', kernel_initializer='he_uniform', padding='same'))\n",
    "    model.add(MaxPooling2D((2, 2)))\n",
    "\n",
    "    model.add(Conv2D(128, (3, 3), activation='relu', kernel_initializer='he_uniform', padding='same'))\n",
    "    model.add(Conv2D(128, (3, 3), activation='relu', kernel_initializer='he_uniform', padding='same'))\n",
    "    model.add(MaxPooling2D((2, 2)))\n",
    "\n",
    "    model.add(Flatten())\n",
    "    model.add(Dense(128, activation='relu', kernel_initializer='he_uniform'))\n",
    "    model.add(Dense(1, activation='sigmoid'))\n",
    "\n",
    "    hp_learning_rate = hp.Choice('learning_rate', values=[1e-2, 1e-3, 1e-4])\n",
    "    \n",
    "    model.compile(optimizer=Adam(learning_rate=hp_learning_rate), \n",
    "                  loss='binary_crossentropy', \n",
    "                  metrics=['accuracy'])\n",
    "    \n",
    "    return model"
   ]
  },
  {
   "cell_type": "code",
   "execution_count": 13,
   "id": "c2721e71",
   "metadata": {
    "executionInfo": {
     "elapsed": 6067,
     "status": "ok",
     "timestamp": 1628076463665,
     "user": {
      "displayName": "Daimon Laplace",
      "photoUrl": "https://lh3.googleusercontent.com/a-/AOh14GhQN7oZcOXhMM0AgecritM7JP6IWKvkL4HS8bJW=s64",
      "userId": "13385611080783470639"
     },
     "user_tz": -120
    },
    "id": "c2721e71"
   },
   "outputs": [],
   "source": [
    "tuner = kt.Hyperband(builder,\n",
    "                     objective = 'val_accuracy',\n",
    "                     max_epochs=10,\n",
    "                     directory = 'my_dir',\n",
    "                     project_name = 'anom_tun')"
   ]
  },
  {
   "cell_type": "code",
   "execution_count": 14,
   "id": "5e4e1d23",
   "metadata": {},
   "outputs": [],
   "source": [
    "stop_early = tf.keras.callbacks.EarlyStopping(monitor='val_loss', patience=5)"
   ]
  },
  {
   "cell_type": "code",
   "execution_count": 15,
   "id": "7sdRahjSndXR",
   "metadata": {
    "executionInfo": {
     "elapsed": 6,
     "status": "ok",
     "timestamp": 1628076463666,
     "user": {
      "displayName": "Daimon Laplace",
      "photoUrl": "https://lh3.googleusercontent.com/a-/AOh14GhQN7oZcOXhMM0AgecritM7JP6IWKvkL4HS8bJW=s64",
      "userId": "13385611080783470639"
     },
     "user_tz": -120
    },
    "id": "7sdRahjSndXR"
   },
   "outputs": [],
   "source": [
    "step_size_train = train_gen.n//train_gen.batch_size\n",
    "step_size_val = val_gen.n//val_gen.batch_size"
   ]
  },
  {
   "cell_type": "markdown",
   "id": "6c7b31bc",
   "metadata": {},
   "source": [
    "The Hyperband tuning algorithm uses adaptive resource allocation and early-stopping to quickly converge on a high-performing model."
   ]
  },
  {
   "cell_type": "code",
   "execution_count": 16,
   "id": "2e3eae66",
   "metadata": {
    "colab": {
     "base_uri": "https://localhost:8080/"
    },
    "executionInfo": {
     "elapsed": 1976952,
     "status": "ok",
     "timestamp": 1628078442360,
     "user": {
      "displayName": "Daimon Laplace",
      "photoUrl": "https://lh3.googleusercontent.com/a-/AOh14GhQN7oZcOXhMM0AgecritM7JP6IWKvkL4HS8bJW=s64",
      "userId": "13385611080783470639"
     },
     "user_tz": -120
    },
    "id": "2e3eae66",
    "outputId": "10b6885b-9ef7-49f2-8623-14960c5df5db"
   },
   "outputs": [
    {
     "name": "stdout",
     "output_type": "stream",
     "text": [
      "Trial 3 Complete [01h 49m 47s]\n",
      "val_accuracy: 0.9728260636329651\n",
      "\n",
      "Best val_accuracy So Far: 0.9728260636329651\n",
      "Total elapsed time: 05h 28m 02s\n",
      "INFO:tensorflow:Oracle triggered exit\n"
     ]
    }
   ],
   "source": [
    "tuner.search(x=train_gen, \n",
    "             validation_data=val_gen, \n",
    "             steps_per_epoch=step_size_train, \n",
    "             validation_steps=step_size_val, \n",
    "             epochs=20, \n",
    "             callbacks=[stop_early])"
   ]
  }
 ],
 "metadata": {
  "accelerator": "GPU",
  "colab": {
   "collapsed_sections": [],
   "name": "Modell_0.1_KerasTuner.ipynb",
   "provenance": []
  },
  "kernelspec": {
   "display_name": "Python 3 (ipykernel)",
   "language": "python",
   "name": "python3"
  },
  "language_info": {
   "codemirror_mode": {
    "name": "ipython",
    "version": 3
   },
   "file_extension": ".py",
   "mimetype": "text/x-python",
   "name": "python",
   "nbconvert_exporter": "python",
   "pygments_lexer": "ipython3",
   "version": "3.9.5"
  },
  "varInspector": {
   "cols": {
    "lenName": 16,
    "lenType": 16,
    "lenVar": 40
   },
   "kernels_config": {
    "python": {
     "delete_cmd_postfix": "",
     "delete_cmd_prefix": "del ",
     "library": "var_list.py",
     "varRefreshCmd": "print(var_dic_list())"
    },
    "r": {
     "delete_cmd_postfix": ") ",
     "delete_cmd_prefix": "rm(",
     "library": "var_list.r",
     "varRefreshCmd": "cat(var_dic_list()) "
    }
   },
   "types_to_exclude": [
    "module",
    "function",
    "builtin_function_or_method",
    "instance",
    "_Feature"
   ],
   "window_display": false
  }
 },
 "nbformat": 4,
 "nbformat_minor": 5
}
