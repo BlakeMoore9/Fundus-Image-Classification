{
 "cells": [
  {
   "cell_type": "markdown",
   "id": "64f038a7",
   "metadata": {},
   "source": [
    "## ## Tuning Hyperparameters with Kears Tuner 2"
   ]
  },
  {
   "cell_type": "markdown",
   "id": "9b3c60b6",
   "metadata": {
    "id": "9b3c60b6"
   },
   "source": [
    "- Task: Find best Number of Filters in ConvLayers and best Learning Rate for SGD Optimizer\n",
    "- Dataset: Cropped and Resized Fundus Images\n",
    "- Original Colorscheme"
   ]
  },
  {
   "cell_type": "code",
   "execution_count": 2,
   "id": "9c6708da",
   "metadata": {
    "executionInfo": {
     "elapsed": 8,
     "status": "ok",
     "timestamp": 1628076383986,
     "user": {
      "displayName": "Daimon Laplace",
      "photoUrl": "https://lh3.googleusercontent.com/a-/AOh14GhQN7oZcOXhMM0AgecritM7JP6IWKvkL4HS8bJW=s64",
      "userId": "13385611080783470639"
     },
     "user_tz": -120
    },
    "id": "9c6708da"
   },
   "outputs": [],
   "source": [
    "import pandas as pd\n",
    "import numpy as np\n",
    "import matplotlib.pyplot as plt"
   ]
  },
  {
   "cell_type": "code",
   "execution_count": 3,
   "id": "149d22bb",
   "metadata": {
    "executionInfo": {
     "elapsed": 1712,
     "status": "ok",
     "timestamp": 1628076385692,
     "user": {
      "displayName": "Daimon Laplace",
      "photoUrl": "https://lh3.googleusercontent.com/a-/AOh14GhQN7oZcOXhMM0AgecritM7JP6IWKvkL4HS8bJW=s64",
      "userId": "13385611080783470639"
     },
     "user_tz": -120
    },
    "id": "149d22bb"
   },
   "outputs": [],
   "source": [
    "from keras.models import Sequential\n",
    "from keras_preprocessing.image import ImageDataGenerator\n",
    "from keras.layers import Dense, Activation, Flatten, Dropout, BatchNormalization\n",
    "from keras.layers import Conv2D, MaxPooling2D\n",
    "from keras import regularizers, optimizers\n",
    "from tensorflow.keras.callbacks import EarlyStopping"
   ]
  },
  {
   "cell_type": "code",
   "execution_count": 1,
   "id": "zAF4gI1du-7R",
   "metadata": {
    "executionInfo": {
     "elapsed": 5,
     "status": "ok",
     "timestamp": 1628076385693,
     "user": {
      "displayName": "Daimon Laplace",
      "photoUrl": "https://lh3.googleusercontent.com/a-/AOh14GhQN7oZcOXhMM0AgecritM7JP6IWKvkL4HS8bJW=s64",
      "userId": "13385611080783470639"
     },
     "user_tz": -120
    },
    "id": "zAF4gI1du-7R"
   },
   "outputs": [],
   "source": [
    "from keras_preprocessing.image import ImageDataGenerator\n",
    "from tensorflow.keras.models import Sequential\n",
    "from tensorflow.keras.layers import Dense, Activation, Flatten, Dropout, Conv2D, MaxPooling2D\n",
    "from tensorflow.keras.optimizers import Adam, SGD"
   ]
  },
  {
   "cell_type": "code",
   "execution_count": 5,
   "id": "05b88b36",
   "metadata": {
    "executionInfo": {
     "elapsed": 546,
     "status": "ok",
     "timestamp": 1628076386235,
     "user": {
      "displayName": "Daimon Laplace",
      "photoUrl": "https://lh3.googleusercontent.com/a-/AOh14GhQN7oZcOXhMM0AgecritM7JP6IWKvkL4HS8bJW=s64",
      "userId": "13385611080783470639"
     },
     "user_tz": -120
    },
    "id": "05b88b36",
    "scrolled": true
   },
   "outputs": [],
   "source": [
    "df = pd.read_csv('/content/drive/MyDrive/Anomaly Detection/train_binary.csv')"
   ]
  },
  {
   "cell_type": "code",
   "execution_count": 6,
   "id": "d8897b2b",
   "metadata": {
    "executionInfo": {
     "elapsed": 9,
     "status": "ok",
     "timestamp": 1628076386236,
     "user": {
      "displayName": "Daimon Laplace",
      "photoUrl": "https://lh3.googleusercontent.com/a-/AOh14GhQN7oZcOXhMM0AgecritM7JP6IWKvkL4HS8bJW=s64",
      "userId": "13385611080783470639"
     },
     "user_tz": -120
    },
    "id": "d8897b2b"
   },
   "outputs": [],
   "source": [
    "df.normal = df.normal.astype('str')"
   ]
  },
  {
   "cell_type": "code",
   "execution_count": 7,
   "id": "3532801a",
   "metadata": {
    "colab": {
     "base_uri": "https://localhost:8080/"
    },
    "executionInfo": {
     "elapsed": 9,
     "status": "ok",
     "timestamp": 1628076386237,
     "user": {
      "displayName": "Daimon Laplace",
      "photoUrl": "https://lh3.googleusercontent.com/a-/AOh14GhQN7oZcOXhMM0AgecritM7JP6IWKvkL4HS8bJW=s64",
      "userId": "13385611080783470639"
     },
     "user_tz": -120
    },
    "id": "3532801a",
    "outputId": "4f006012-0e71-491f-ba00-8309e7d7a9f6"
   },
   "outputs": [
    {
     "data": {
      "text/plain": [
       "1    3150\n",
       "0    2910\n",
       "Name: normal, dtype: int64"
      ]
     },
     "execution_count": 7,
     "metadata": {
      "tags": []
     },
     "output_type": "execute_result"
    }
   ],
   "source": [
    "df.normal.value_counts()"
   ]
  },
  {
   "cell_type": "code",
   "execution_count": 8,
   "id": "89b0e66d",
   "metadata": {
    "executionInfo": {
     "elapsed": 510,
     "status": "ok",
     "timestamp": 1628076386740,
     "user": {
      "displayName": "Daimon Laplace",
      "photoUrl": "https://lh3.googleusercontent.com/a-/AOh14GhQN7oZcOXhMM0AgecritM7JP6IWKvkL4HS8bJW=s64",
      "userId": "13385611080783470639"
     },
     "user_tz": -120
    },
    "id": "89b0e66d"
   },
   "outputs": [],
   "source": [
    "# As data is ordered in dataframe after augmentation, shuffle it\n",
    "from sklearn.utils import shuffle \n",
    "df = shuffle(df)"
   ]
  },
  {
   "cell_type": "code",
   "execution_count": 9,
   "id": "6bd6c1ba",
   "metadata": {
    "executionInfo": {
     "elapsed": 6,
     "status": "ok",
     "timestamp": 1628076387218,
     "user": {
      "displayName": "Daimon Laplace",
      "photoUrl": "https://lh3.googleusercontent.com/a-/AOh14GhQN7oZcOXhMM0AgecritM7JP6IWKvkL4HS8bJW=s64",
      "userId": "13385611080783470639"
     },
     "user_tz": -120
    },
    "id": "6bd6c1ba"
   },
   "outputs": [],
   "source": [
    "# Directory\n",
    "indir = r\"D:\\data\\Projects\\notebooks\\RetinaAI\\Anomaly Detection\\train\""
   ]
  },
  {
   "cell_type": "code",
   "execution_count": 10,
   "id": "f8e97a88",
   "metadata": {
    "executionInfo": {
     "elapsed": 6,
     "status": "ok",
     "timestamp": 1628076387219,
     "user": {
      "displayName": "Daimon Laplace",
      "photoUrl": "https://lh3.googleusercontent.com/a-/AOh14GhQN7oZcOXhMM0AgecritM7JP6IWKvkL4HS8bJW=s64",
      "userId": "13385611080783470639"
     },
     "user_tz": -120
    },
    "id": "f8e97a88"
   },
   "outputs": [],
   "source": [
    "datagen = ImageDataGenerator(rescale=1./255., validation_split = 0.25)"
   ]
  },
  {
   "cell_type": "code",
   "execution_count": 11,
   "id": "6bae5961",
   "metadata": {
    "colab": {
     "base_uri": "https://localhost:8080/"
    },
    "executionInfo": {
     "elapsed": 33533,
     "status": "ok",
     "timestamp": 1628076420747,
     "user": {
      "displayName": "Daimon Laplace",
      "photoUrl": "https://lh3.googleusercontent.com/a-/AOh14GhQN7oZcOXhMM0AgecritM7JP6IWKvkL4HS8bJW=s64",
      "userId": "13385611080783470639"
     },
     "user_tz": -120
    },
    "id": "6bae5961",
    "outputId": "ab8d73fb-a3db-4fa3-90ca-e72e62d08364"
   },
   "outputs": [
    {
     "name": "stdout",
     "output_type": "stream",
     "text": [
      "Found 4545 validated image filenames belonging to 2 classes.\n"
     ]
    }
   ],
   "source": [
    "train_gen = datagen.flow_from_dataframe(dataframe = df, \n",
    "                                            directory = indir, \n",
    "                                            x_col = \"filename\", \n",
    "                                            y_col = 'normal',\n",
    "                                            batch_size = 64, \n",
    "                                            seed = 2, \n",
    "                                            shuffle = True, \n",
    "                                            class_mode = \"binary\", \n",
    "                                            target_size = (300,300),\n",
    "                                            subset='training')"
   ]
  },
  {
   "cell_type": "code",
   "execution_count": 12,
   "id": "a2b3e2ac",
   "metadata": {
    "colab": {
     "base_uri": "https://localhost:8080/"
    },
    "executionInfo": {
     "elapsed": 1374,
     "status": "ok",
     "timestamp": 1628076422114,
     "user": {
      "displayName": "Daimon Laplace",
      "photoUrl": "https://lh3.googleusercontent.com/a-/AOh14GhQN7oZcOXhMM0AgecritM7JP6IWKvkL4HS8bJW=s64",
      "userId": "13385611080783470639"
     },
     "user_tz": -120
    },
    "id": "a2b3e2ac",
    "outputId": "467b3106-0358-4123-915a-4ce279f25cc6"
   },
   "outputs": [
    {
     "name": "stdout",
     "output_type": "stream",
     "text": [
      "Found 1515 validated image filenames belonging to 2 classes.\n"
     ]
    }
   ],
   "source": [
    "val_gen = datagen.flow_from_dataframe(dataframe = df, \n",
    "                                            directory = indir, \n",
    "                                            x_col = \"filename\", \n",
    "                                            y_col = 'normal',\n",
    "                                            batch_size = 64, \n",
    "                                            seed = 2, \n",
    "                                            shuffle = True, \n",
    "                                            class_mode = \"binary\", \n",
    "                                            target_size = (300,300),\n",
    "                                            subset='validation')"
   ]
  },
  {
   "cell_type": "markdown",
   "id": "ibgAwjphof9Z",
   "metadata": {
    "id": "ibgAwjphof9Z"
   },
   "source": [
    "Tune Hyperparameters"
   ]
  },
  {
   "cell_type": "code",
   "execution_count": 16,
   "id": "ec59dd08",
   "metadata": {
    "colab": {
     "base_uri": "https://localhost:8080/"
    },
    "executionInfo": {
     "elapsed": 529,
     "status": "ok",
     "timestamp": 1628076447223,
     "user": {
      "displayName": "Daimon Laplace",
      "photoUrl": "https://lh3.googleusercontent.com/a-/AOh14GhQN7oZcOXhMM0AgecritM7JP6IWKvkL4HS8bJW=s64",
      "userId": "13385611080783470639"
     },
     "user_tz": -120
    },
    "id": "ec59dd08",
    "outputId": "bdc7fb86-1440-48cf-a615-8c01bd10f697"
   },
   "outputs": [
    {
     "name": "stderr",
     "output_type": "stream",
     "text": [
      "/usr/local/lib/python3.7/dist-packages/ipykernel_launcher.py:1: DeprecationWarning: `import kerastuner` is deprecated, please use `import keras_tuner`.\n",
      "  \"\"\"Entry point for launching an IPython kernel.\n"
     ]
    }
   ],
   "source": [
    "from kerastuner.tuners import Hyperband\n",
    "from kerastuner.engine.hyperparameters import HyperParameters"
   ]
  },
  {
   "cell_type": "code",
   "execution_count": 17,
   "id": "tWxOnt1bqnmc",
   "metadata": {
    "executionInfo": {
     "elapsed": 298,
     "status": "ok",
     "timestamp": 1628076451316,
     "user": {
      "displayName": "Daimon Laplace",
      "photoUrl": "https://lh3.googleusercontent.com/a-/AOh14GhQN7oZcOXhMM0AgecritM7JP6IWKvkL4HS8bJW=s64",
      "userId": "13385611080783470639"
     },
     "user_tz": -120
    },
    "id": "tWxOnt1bqnmc"
   },
   "outputs": [],
   "source": [
    "LOG_DIR = 'log_dir'"
   ]
  },
  {
   "cell_type": "code",
   "execution_count": 18,
   "id": "4PCqbzO-pXrL",
   "metadata": {
    "executionInfo": {
     "elapsed": 513,
     "status": "ok",
     "timestamp": 1628076453407,
     "user": {
      "displayName": "Daimon Laplace",
      "photoUrl": "https://lh3.googleusercontent.com/a-/AOh14GhQN7oZcOXhMM0AgecritM7JP6IWKvkL4HS8bJW=s64",
      "userId": "13385611080783470639"
     },
     "user_tz": -120
    },
    "id": "4PCqbzO-pXrL"
   },
   "outputs": [],
   "source": [
    "def build_model(hp):\n",
    "    model = Sequential()\n",
    "\n",
    "    model.add(Conv2D(hp.Int('conv_1', min_value=32, max_value=128, step=32), \n",
    "                     (3, 3), kernel_initializer='he_uniform', padding='same', activation='relu',  input_shape=(300,300,3)))\n",
    "    model.add(Conv2D(hp.Int('conv_2', min_value=32, max_value=128, step=32), \n",
    "                     (3, 3), kernel_initializer='he_uniform', padding='same', activation='relu'))\n",
    "    model.add(MaxPooling2D((2, 2)))\n",
    "\n",
    "    model.add(Conv2D(hp.Int('conv_3', min_value=64, max_value=256, step=64), \n",
    "                     (3, 3), kernel_initializer='he_uniform', padding='same', activation='relu'))\n",
    "    model.add(Conv2D(hp.Int('conv_4', min_value=64, max_value=256, step=64), \n",
    "                     (3, 3), kernel_initializer='he_uniform', padding='same', activation='relu'))\n",
    "    model.add(MaxPooling2D((2, 2)))\n",
    "    \n",
    "    model.add(Conv2D(hp.Int('conv_5', min_value=64, max_value=256, step=64), \n",
    "                     (3, 3), kernel_initializer='he_uniform', padding='same', activation='relu')))\n",
    "    model.add(Conv2D(hp.Int('conv_6', min_value=64, max_value=256, step=64), \n",
    "                     (3, 3), kernel_initializer='he_uniform', padding='same', activation='relu'))\n",
    "    model.add(MaxPooling2D((2, 2)))\n",
    "    \n",
    "    model.add(Flatten())\n",
    "    model.add(Dense(hp.Int('units', min_value=64, max_value=256, step=64), activation='relu'))\n",
    "    model.add(Dense(1, activation='sigmoid'))\n",
    "    \n",
    "    \n",
    "    lr = hp.Choice(\"learning_rate\", values=[1e-1, 1e-2, 1e-3])\n",
    "    opt = SGD(learning_rate=lr, momentum=0.9)\n",
    "    \n",
    "    model.compile(optimizer=opt, loss='binary_crossentropy', metrics=['accuracy'])\n",
    "    \n",
    "    return(model)"
   ]
  },
  {
   "cell_type": "code",
   "execution_count": 19,
   "id": "c2721e71",
   "metadata": {
    "executionInfo": {
     "elapsed": 6067,
     "status": "ok",
     "timestamp": 1628076463665,
     "user": {
      "displayName": "Daimon Laplace",
      "photoUrl": "https://lh3.googleusercontent.com/a-/AOh14GhQN7oZcOXhMM0AgecritM7JP6IWKvkL4HS8bJW=s64",
      "userId": "13385611080783470639"
     },
     "user_tz": -120
    },
    "id": "c2721e71"
   },
   "outputs": [],
   "source": [
    "tuner = Hyperband(build_model,\n",
    "                     objective=\"val_accuracy\",\n",
    "                     max_epochs=20,\n",
    "                     factor=3,seed=2,\n",
    "                     directory=config.OUTPUT_PATH,\n",
    "                     project_name=args[\"tunes\"])"
   ]
  },
  {
   "cell_type": "code",
   "execution_count": 20,
   "id": "7sdRahjSndXR",
   "metadata": {
    "executionInfo": {
     "elapsed": 6,
     "status": "ok",
     "timestamp": 1628076463666,
     "user": {
      "displayName": "Daimon Laplace",
      "photoUrl": "https://lh3.googleusercontent.com/a-/AOh14GhQN7oZcOXhMM0AgecritM7JP6IWKvkL4HS8bJW=s64",
      "userId": "13385611080783470639"
     },
     "user_tz": -120
    },
    "id": "7sdRahjSndXR"
   },
   "outputs": [],
   "source": [
    "step_size_train = train_gen.n//train_gen.batch_size\n",
    "step_size_val = val_gen.n//val_gen.batch_size"
   ]
  },
  {
   "cell_type": "code",
   "execution_count": null,
   "id": "e074a839",
   "metadata": {},
   "outputs": [],
   "source": [
    "es = EarlyStopping(monitor='val_acc', patience = 5)"
   ]
  },
  {
   "cell_type": "code",
   "execution_count": 21,
   "id": "2e3eae66",
   "metadata": {
    "colab": {
     "base_uri": "https://localhost:8080/"
    },
    "executionInfo": {
     "elapsed": 1976952,
     "status": "ok",
     "timestamp": 1628078442360,
     "user": {
      "displayName": "Daimon Laplace",
      "photoUrl": "https://lh3.googleusercontent.com/a-/AOh14GhQN7oZcOXhMM0AgecritM7JP6IWKvkL4HS8bJW=s64",
      "userId": "13385611080783470639"
     },
     "user_tz": -120
    },
    "id": "2e3eae66",
    "outputId": "10b6885b-9ef7-49f2-8623-14960c5df5db"
   },
   "outputs": [
    {
     "name": "stdout",
     "output_type": "stream",
     "text": [
      "Trial 1 Complete [00h 32m 56s]\n",
      "val_accuracy: 0.9245923757553101\n",
      "\n",
      "Best val_accuracy So Far: 0.9245923757553101\n",
      "Total elapsed time: 00h 32m 56s\n",
      "INFO:tensorflow:Oracle triggered exit\n"
     ]
    }
   ],
   "source": [
    "tuner.search(x=train_gen, \n",
    "             validation_data=val_gen, \n",
    "             steps_per_epoch=step_size_train, \n",
    "             validation_steps=step_size_val, \n",
    "             epochs=1, \n",
    "             verbose=2\n",
    "             )"
   ]
  },
  {
   "cell_type": "code",
   "execution_count": 24,
   "id": "c2f67cc2",
   "metadata": {
    "colab": {
     "base_uri": "https://localhost:8080/"
    },
    "executionInfo": {
     "elapsed": 301,
     "status": "ok",
     "timestamp": 1628079456467,
     "user": {
      "displayName": "Daimon Laplace",
      "photoUrl": "https://lh3.googleusercontent.com/a-/AOh14GhQN7oZcOXhMM0AgecritM7JP6IWKvkL4HS8bJW=s64",
      "userId": "13385611080783470639"
     },
     "user_tz": -120
    },
    "id": "c2f67cc2",
    "outputId": "8d753e3c-3be4-4ad5-d09b-878765367265"
   },
   "outputs": [
    {
     "name": "stdout",
     "output_type": "stream",
     "text": [
      "Results summary\n",
      "Results in ./untitled_project\n",
      "Showing 10 best trials\n",
      "Objective(name='val_accuracy', direction='max')\n",
      "Trial summary\n",
      "Hyperparameters:\n",
      "input_units: 64\n",
      "Score: 0.9245923757553101\n",
      "None\n"
     ]
    }
   ],
   "source": [
    "print(tuner.results_summary())"
   ]
  },
  {
   "cell_type": "code",
   "execution_count": 23,
   "id": "sSVBBnzx18I2",
   "metadata": {
    "colab": {
     "base_uri": "https://localhost:8080/"
    },
    "executionInfo": {
     "elapsed": 827,
     "status": "ok",
     "timestamp": 1628078883321,
     "user": {
      "displayName": "Daimon Laplace",
      "photoUrl": "https://lh3.googleusercontent.com/a-/AOh14GhQN7oZcOXhMM0AgecritM7JP6IWKvkL4HS8bJW=s64",
      "userId": "13385611080783470639"
     },
     "user_tz": -120
    },
    "id": "sSVBBnzx18I2",
    "outputId": "8809f3dc-b726-4350-fcbb-02c7c169f758"
   },
   "outputs": [
    {
     "name": "stdout",
     "output_type": "stream",
     "text": [
      "Model: \"sequential\"\n",
      "_________________________________________________________________\n",
      "Layer (type)                 Output Shape              Param #   \n",
      "=================================================================\n",
      "conv2d (Conv2D)              (None, 298, 298, 64)      1792      \n",
      "_________________________________________________________________\n",
      "conv2d_1 (Conv2D)            (None, 296, 296, 32)      18464     \n",
      "_________________________________________________________________\n",
      "max_pooling2d (MaxPooling2D) (None, 148, 148, 32)      0         \n",
      "_________________________________________________________________\n",
      "conv2d_2 (Conv2D)            (None, 146, 146, 64)      18496     \n",
      "_________________________________________________________________\n",
      "conv2d_3 (Conv2D)            (None, 144, 144, 32)      18464     \n",
      "_________________________________________________________________\n",
      "max_pooling2d_1 (MaxPooling2 (None, 72, 72, 32)        0         \n",
      "_________________________________________________________________\n",
      "conv2d_4 (Conv2D)            (None, 70, 70, 64)        18496     \n",
      "_________________________________________________________________\n",
      "conv2d_5 (Conv2D)            (None, 68, 68, 32)        18464     \n",
      "_________________________________________________________________\n",
      "max_pooling2d_2 (MaxPooling2 (None, 34, 34, 32)        0         \n",
      "_________________________________________________________________\n",
      "flatten (Flatten)            (None, 36992)             0         \n",
      "_________________________________________________________________\n",
      "dense (Dense)                (None, 128)               4735104   \n",
      "_________________________________________________________________\n",
      "dense_1 (Dense)              (None, 1)                 129       \n",
      "=================================================================\n",
      "Total params: 4,829,409\n",
      "Trainable params: 4,829,409\n",
      "Non-trainable params: 0\n",
      "_________________________________________________________________\n",
      "WARNING:tensorflow:Unresolved object in checkpoint: (root).optimizer.iter\n",
      "WARNING:tensorflow:Unresolved object in checkpoint: (root).optimizer.beta_1\n",
      "WARNING:tensorflow:Unresolved object in checkpoint: (root).optimizer.beta_2\n",
      "WARNING:tensorflow:Unresolved object in checkpoint: (root).optimizer.decay\n",
      "WARNING:tensorflow:Unresolved object in checkpoint: (root).optimizer.learning_rate\n",
      "WARNING:tensorflow:A checkpoint was restored (e.g. tf.train.Checkpoint.restore or tf.keras.Model.load_weights) but not all checkpointed values were used. See above for specific issues. Use expect_partial() on the load status object, e.g. tf.train.Checkpoint.restore(...).expect_partial(), to silence these warnings, or use assert_consumed() to make the check explicit. See https://www.tensorflow.org/guide/checkpoint#loading_mechanics for details.\n"
     ]
    }
   ],
   "source": [
    "tuner.get_best_models()[0].summary()\n",
    "#tuner.get_best_models()[0].predict()"
   ]
  }
 ],
 "metadata": {
  "accelerator": "GPU",
  "colab": {
   "collapsed_sections": [],
   "name": "Modell_0.1_KerasTuner.ipynb",
   "provenance": []
  },
  "kernelspec": {
   "display_name": "Python 3 (ipykernel)",
   "language": "python",
   "name": "python3"
  },
  "language_info": {
   "codemirror_mode": {
    "name": "ipython",
    "version": 3
   },
   "file_extension": ".py",
   "mimetype": "text/x-python",
   "name": "python",
   "nbconvert_exporter": "python",
   "pygments_lexer": "ipython3",
   "version": "3.9.5"
  },
  "varInspector": {
   "cols": {
    "lenName": 16,
    "lenType": 16,
    "lenVar": 40
   },
   "kernels_config": {
    "python": {
     "delete_cmd_postfix": "",
     "delete_cmd_prefix": "del ",
     "library": "var_list.py",
     "varRefreshCmd": "print(var_dic_list())"
    },
    "r": {
     "delete_cmd_postfix": ") ",
     "delete_cmd_prefix": "rm(",
     "library": "var_list.r",
     "varRefreshCmd": "cat(var_dic_list()) "
    }
   },
   "types_to_exclude": [
    "module",
    "function",
    "builtin_function_or_method",
    "instance",
    "_Feature"
   ],
   "window_display": false
  }
 },
 "nbformat": 4,
 "nbformat_minor": 5
}
