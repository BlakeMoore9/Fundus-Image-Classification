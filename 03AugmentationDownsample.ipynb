{
 "cells": [
  {
   "cell_type": "code",
   "execution_count": 1,
   "id": "3572bef2",
   "metadata": {},
   "outputs": [],
   "source": [
    "import pandas as pd\n",
    "import numpy as np\n",
    "import matplotlib.pyplot as plt\n",
    "import cv2\n",
    "import os\n",
    "import random\n",
    "\n",
    "plt.rcParams[\"axes.grid\"] = False\n",
    "plt.style.use('dark_background')"
   ]
  },
  {
   "cell_type": "code",
   "execution_count": 2,
   "id": "d0b580a8",
   "metadata": {
    "scrolled": false
   },
   "outputs": [
    {
     "data": {
      "text/html": [
       "<div>\n",
       "<style scoped>\n",
       "    .dataframe tbody tr th:only-of-type {\n",
       "        vertical-align: middle;\n",
       "    }\n",
       "\n",
       "    .dataframe tbody tr th {\n",
       "        vertical-align: top;\n",
       "    }\n",
       "\n",
       "    .dataframe thead th {\n",
       "        text-align: right;\n",
       "    }\n",
       "</style>\n",
       "<table border=\"1\" class=\"dataframe\">\n",
       "  <thead>\n",
       "    <tr style=\"text-align: right;\">\n",
       "      <th></th>\n",
       "      <th>filename</th>\n",
       "      <th>opacity</th>\n",
       "      <th>diabetic retinopathy</th>\n",
       "      <th>glaucoma</th>\n",
       "      <th>macular edema</th>\n",
       "      <th>macular degeneration</th>\n",
       "      <th>retinal vascular occlusion</th>\n",
       "      <th>normal</th>\n",
       "      <th>new</th>\n",
       "    </tr>\n",
       "  </thead>\n",
       "  <tbody>\n",
       "    <tr>\n",
       "      <th>0</th>\n",
       "      <td>c24a1b14d253.jpg</td>\n",
       "      <td>0</td>\n",
       "      <td>0</td>\n",
       "      <td>0</td>\n",
       "      <td>0</td>\n",
       "      <td>0</td>\n",
       "      <td>1</td>\n",
       "      <td>0</td>\n",
       "      <td>retinal vascular occlusion</td>\n",
       "    </tr>\n",
       "    <tr>\n",
       "      <th>1</th>\n",
       "      <td>9ee905a41651.jpg</td>\n",
       "      <td>0</td>\n",
       "      <td>0</td>\n",
       "      <td>0</td>\n",
       "      <td>0</td>\n",
       "      <td>0</td>\n",
       "      <td>1</td>\n",
       "      <td>0</td>\n",
       "      <td>retinal vascular occlusion</td>\n",
       "    </tr>\n",
       "    <tr>\n",
       "      <th>2</th>\n",
       "      <td>3f58d128caf6.jpg</td>\n",
       "      <td>0</td>\n",
       "      <td>0</td>\n",
       "      <td>1</td>\n",
       "      <td>0</td>\n",
       "      <td>0</td>\n",
       "      <td>0</td>\n",
       "      <td>0</td>\n",
       "      <td>glaucoma</td>\n",
       "    </tr>\n",
       "    <tr>\n",
       "      <th>3</th>\n",
       "      <td>4ce6599e7b20.jpg</td>\n",
       "      <td>1</td>\n",
       "      <td>0</td>\n",
       "      <td>0</td>\n",
       "      <td>0</td>\n",
       "      <td>1</td>\n",
       "      <td>0</td>\n",
       "      <td>0</td>\n",
       "      <td>opacity, macular degeneration</td>\n",
       "    </tr>\n",
       "    <tr>\n",
       "      <th>4</th>\n",
       "      <td>0def470360e4.jpg</td>\n",
       "      <td>1</td>\n",
       "      <td>0</td>\n",
       "      <td>0</td>\n",
       "      <td>0</td>\n",
       "      <td>1</td>\n",
       "      <td>0</td>\n",
       "      <td>0</td>\n",
       "      <td>opacity, macular degeneration</td>\n",
       "    </tr>\n",
       "  </tbody>\n",
       "</table>\n",
       "</div>"
      ],
      "text/plain": [
       "           filename  opacity  diabetic retinopathy  glaucoma  macular edema  \\\n",
       "0  c24a1b14d253.jpg        0                     0         0              0   \n",
       "1  9ee905a41651.jpg        0                     0         0              0   \n",
       "2  3f58d128caf6.jpg        0                     0         1              0   \n",
       "3  4ce6599e7b20.jpg        1                     0         0              0   \n",
       "4  0def470360e4.jpg        1                     0         0              0   \n",
       "\n",
       "   macular degeneration  retinal vascular occlusion  normal  \\\n",
       "0                     0                           1       0   \n",
       "1                     0                           1       0   \n",
       "2                     0                           0       0   \n",
       "3                     1                           0       0   \n",
       "4                     1                           0       0   \n",
       "\n",
       "                             new  \n",
       "0     retinal vascular occlusion  \n",
       "1     retinal vascular occlusion  \n",
       "2                       glaucoma  \n",
       "3  opacity, macular degeneration  \n",
       "4  opacity, macular degeneration  "
      ]
     },
     "execution_count": 2,
     "metadata": {},
     "output_type": "execute_result"
    }
   ],
   "source": [
    "df = pd.read_csv('train_new.csv')\n",
    "df.head()"
   ]
  },
  {
   "cell_type": "code",
   "execution_count": 3,
   "id": "4b240215",
   "metadata": {},
   "outputs": [
    {
     "data": {
      "text/plain": [
       "(3435, 9)"
      ]
     },
     "execution_count": 3,
     "metadata": {},
     "output_type": "execute_result"
    }
   ],
   "source": [
    "df.shape"
   ]
  },
  {
   "cell_type": "code",
   "execution_count": 4,
   "id": "42bcdef9",
   "metadata": {
    "scrolled": false
   },
   "outputs": [
    {
     "data": {
      "text/plain": [
       "opacity                                                                     671\n",
       "normal                                                                      525\n",
       "glaucoma                                                                    327\n",
       "macular degeneration                                                        299\n",
       "opacity, macular degeneration                                               212\n",
       "diabetic retinopathy                                                        212\n",
       "opacity, diabetic retinopathy                                               186\n",
       "retinal vascular occlusion                                                  170\n",
       "diabetic retinopathy, macular edema                                         162\n",
       "opacity, diabetic retinopathy, macular edema                                154\n",
       "opacity, glaucoma                                                           140\n",
       "macular edema, retinal vascular occlusion                                    74\n",
       "opacity, macular edema, retinal vascular occlusion                           62\n",
       "opacity, retinal vascular occlusion                                          55\n",
       "glaucoma, macular degeneration                                               31\n",
       "macular edema                                                                27\n",
       "glaucoma, retinal vascular occlusion                                         27\n",
       "opacity, glaucoma, macular degeneration                                      16\n",
       "diabetic retinopathy, glaucoma                                               15\n",
       "glaucoma, macular edema, retinal vascular occlusion                          14\n",
       "opacity, glaucoma, retinal vascular occlusion                                10\n",
       "opacity, glaucoma, macular edema, retinal vascular occlusion                  8\n",
       "diabetic retinopathy, retinal vascular occlusion                              5\n",
       "opacity, diabetic retinopathy, macular degeneration                           5\n",
       "opacity, diabetic retinopathy, retinal vascular occlusion                     4\n",
       "opacity, macular degeneration, retinal vascular occlusion                     3\n",
       "glaucoma, macular edema                                                       3\n",
       "diabetic retinopathy, glaucoma, macular edema                                 3\n",
       "opacity, macular edema                                                        2\n",
       "opacity, diabetic retinopathy, macular edema, macular degeneration            2\n",
       "glaucoma, macular degeneration, retinal vascular occlusion                    2\n",
       "opacity, diabetic retinopathy, macular edema, retinal vascular occlusion      2\n",
       "diabetic retinopathy, macular edema, retinal vascular occlusion               2\n",
       "diabetic retinopathy, macular degeneration                                    2\n",
       "macular degeneration, retinal vascular occlusion                              2\n",
       "opacity, diabetic retinopathy, glaucoma, macular edema                        1\n",
       "Name: new, dtype: int64"
      ]
     },
     "execution_count": 4,
     "metadata": {},
     "output_type": "execute_result"
    }
   ],
   "source": [
    "df.new.value_counts()"
   ]
  },
  {
   "cell_type": "raw",
   "id": "97020bfd",
   "metadata": {},
   "source": [
    "Downsample normal and opacity. All images copied to folder 'train_downsampled'. "
   ]
  },
  {
   "cell_type": "code",
   "execution_count": 8,
   "id": "fa9ac932",
   "metadata": {},
   "outputs": [],
   "source": [
    "def downsample(cat, instances):\n",
    "    images = df.loc[(df.new == cat), 'filename'].values.tolist()\n",
    "    rand_im = random.sample(images, instances)\n",
    "    print(len(rand_im))\n",
    "    for image in rand_im:\n",
    "        os.remove('D:/data/Projects/notebooks/RetinaAI/train_downsampled/' + image) \n",
    "    return(rand_im)"
   ]
  },
  {
   "cell_type": "code",
   "execution_count": 9,
   "id": "46750c45",
   "metadata": {
    "scrolled": true
   },
   "outputs": [
    {
     "name": "stdout",
     "output_type": "stream",
     "text": [
      "25\n"
     ]
    }
   ],
   "source": [
    "deleted_normal = downsample('normal', 25)"
   ]
  },
  {
   "cell_type": "code",
   "execution_count": 10,
   "id": "9de582b2",
   "metadata": {
    "scrolled": true
   },
   "outputs": [
    {
     "name": "stdout",
     "output_type": "stream",
     "text": [
      "171\n"
     ]
    }
   ],
   "source": [
    "deleted_opacity = downsample('opacity', 171)"
   ]
  },
  {
   "cell_type": "code",
   "execution_count": 13,
   "id": "0b0a44b3",
   "metadata": {
    "scrolled": true
   },
   "outputs": [
    {
     "name": "stderr",
     "output_type": "stream",
     "text": [
      "<ipython-input-13-1d73f851fce8>:2: UserWarning: Boolean Series key will be reindexed to match DataFrame index.\n",
      "  df_new = df_new[~df.filename.isin(deleted_opacity)]\n"
     ]
    }
   ],
   "source": [
    "df_new = df[~df.filename.isin(deleted_normal)]\n",
    "df_new = df_new[~df.filename.isin(deleted_opacity)]"
   ]
  },
  {
   "cell_type": "code",
   "execution_count": 14,
   "id": "3550eed7",
   "metadata": {},
   "outputs": [
    {
     "data": {
      "text/plain": [
       "(3239, 9)"
      ]
     },
     "execution_count": 14,
     "metadata": {},
     "output_type": "execute_result"
    }
   ],
   "source": [
    "df_new.shape"
   ]
  },
  {
   "cell_type": "code",
   "execution_count": 15,
   "id": "0e380e63",
   "metadata": {
    "scrolled": false
   },
   "outputs": [
    {
     "data": {
      "text/plain": [
       "normal                                                                      500\n",
       "opacity                                                                     500\n",
       "glaucoma                                                                    327\n",
       "macular degeneration                                                        299\n",
       "opacity, macular degeneration                                               212\n",
       "diabetic retinopathy                                                        212\n",
       "opacity, diabetic retinopathy                                               186\n",
       "retinal vascular occlusion                                                  170\n",
       "diabetic retinopathy, macular edema                                         162\n",
       "opacity, diabetic retinopathy, macular edema                                154\n",
       "opacity, glaucoma                                                           140\n",
       "macular edema, retinal vascular occlusion                                    74\n",
       "opacity, macular edema, retinal vascular occlusion                           62\n",
       "opacity, retinal vascular occlusion                                          55\n",
       "glaucoma, macular degeneration                                               31\n",
       "macular edema                                                                27\n",
       "glaucoma, retinal vascular occlusion                                         27\n",
       "opacity, glaucoma, macular degeneration                                      16\n",
       "diabetic retinopathy, glaucoma                                               15\n",
       "glaucoma, macular edema, retinal vascular occlusion                          14\n",
       "opacity, glaucoma, retinal vascular occlusion                                10\n",
       "opacity, glaucoma, macular edema, retinal vascular occlusion                  8\n",
       "diabetic retinopathy, retinal vascular occlusion                              5\n",
       "opacity, diabetic retinopathy, macular degeneration                           5\n",
       "opacity, diabetic retinopathy, retinal vascular occlusion                     4\n",
       "opacity, macular degeneration, retinal vascular occlusion                     3\n",
       "glaucoma, macular edema                                                       3\n",
       "diabetic retinopathy, glaucoma, macular edema                                 3\n",
       "opacity, macular edema                                                        2\n",
       "opacity, diabetic retinopathy, macular edema, macular degeneration            2\n",
       "glaucoma, macular degeneration, retinal vascular occlusion                    2\n",
       "opacity, diabetic retinopathy, macular edema, retinal vascular occlusion      2\n",
       "diabetic retinopathy, macular edema, retinal vascular occlusion               2\n",
       "diabetic retinopathy, macular degeneration                                    2\n",
       "macular degeneration, retinal vascular occlusion                              2\n",
       "opacity, diabetic retinopathy, glaucoma, macular edema                        1\n",
       "Name: new, dtype: int64"
      ]
     },
     "execution_count": 15,
     "metadata": {},
     "output_type": "execute_result"
    }
   ],
   "source": [
    "df_new.new.value_counts()"
   ]
  },
  {
   "cell_type": "code",
   "execution_count": 16,
   "id": "7115e175",
   "metadata": {},
   "outputs": [],
   "source": [
    "#df_new.to_csv('downsampled.csv', sep=',', encoding='utf-8', index=False)"
   ]
  },
  {
   "cell_type": "code",
   "execution_count": null,
   "id": "9eb60c59",
   "metadata": {},
   "outputs": [],
   "source": []
  },
  {
   "cell_type": "code",
   "execution_count": null,
   "id": "e0a5b20b",
   "metadata": {},
   "outputs": [],
   "source": []
  },
  {
   "cell_type": "raw",
   "id": "6c567540",
   "metadata": {},
   "source": [
    "Mistakes were made..."
   ]
  },
  {
   "cell_type": "code",
   "execution_count": null,
   "id": "9c667de8",
   "metadata": {},
   "outputs": [],
   "source": [
    "# randomly delete images with only opacity to downsample to 500 and drop corresponding row\n",
    "#Fehler: np.random hat eine Datei 23 mal ausgesucht. replace=False sollte helfen, hat es aber nicht\n",
    "#rand_im = [np.random.choice(images, replace=False) for i in range(171)]\n",
    "#rand_im.index('86a2f4eb36ce.jpg')"
   ]
  },
  {
   "cell_type": "code",
   "execution_count": null,
   "id": "e0c0a92b",
   "metadata": {},
   "outputs": [],
   "source": []
  },
  {
   "cell_type": "code",
   "execution_count": null,
   "id": "4ab96627",
   "metadata": {},
   "outputs": [],
   "source": []
  }
 ],
 "metadata": {
  "kernelspec": {
   "display_name": "Python 3",
   "language": "python",
   "name": "python3"
  },
  "language_info": {
   "codemirror_mode": {
    "name": "ipython",
    "version": 3
   },
   "file_extension": ".py",
   "mimetype": "text/x-python",
   "name": "python",
   "nbconvert_exporter": "python",
   "pygments_lexer": "ipython3",
   "version": "3.8.8"
  },
  "varInspector": {
   "cols": {
    "lenName": 16,
    "lenType": 16,
    "lenVar": 40
   },
   "kernels_config": {
    "python": {
     "delete_cmd_postfix": "",
     "delete_cmd_prefix": "del ",
     "library": "var_list.py",
     "varRefreshCmd": "print(var_dic_list())"
    },
    "r": {
     "delete_cmd_postfix": ") ",
     "delete_cmd_prefix": "rm(",
     "library": "var_list.r",
     "varRefreshCmd": "cat(var_dic_list()) "
    }
   },
   "types_to_exclude": [
    "module",
    "function",
    "builtin_function_or_method",
    "instance",
    "_Feature"
   ],
   "window_display": false
  }
 },
 "nbformat": 4,
 "nbformat_minor": 5
}
