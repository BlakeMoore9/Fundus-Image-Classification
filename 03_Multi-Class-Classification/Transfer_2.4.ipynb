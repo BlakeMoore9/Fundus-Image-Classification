{
 "cells": [
  {
   "cell_type": "markdown",
   "id": "424008fc",
   "metadata": {
    "id": "424008fc"
   },
   "source": [
    "#### Transfer Learning Modell 4\n",
    "- Backbone VGG-16\n",
    "- Images cropped and resized\n",
    "- VGG 16 Paper preprocessing as done in Paper for Network: https://arxiv.org/abs/1409.1556\n",
    "- lessen overfitting by adding dropout layer\n",
    "- use Reduce:LROnPlateau and Model Checkpoint\n",
    "- fine tuning: partially unfrozen and retrained on new data"
   ]
  },
  {
   "cell_type": "markdown",
   "id": "640c9d99",
   "metadata": {
    "id": "640c9d99"
   },
   "source": [
    "Sources for use and issue resolving:\n",
    "https://machinelearningmastery.com/early-stopping-to-avoid-overtraining-neural-network-models/"
   ]
  },
  {
   "cell_type": "code",
   "execution_count": 2,
   "id": "6c3bf409",
   "metadata": {
    "executionInfo": {
     "elapsed": 8,
     "status": "ok",
     "timestamp": 1628258751693,
     "user": {
      "displayName": "Morgan V",
      "photoUrl": "https://lh3.googleusercontent.com/a-/AOh14GjpVGthbJW0feyssHY-ZBY65gbHl5EJF10R2nJ06A=s64",
      "userId": "13615714867068802471"
     },
     "user_tz": -120
    },
    "id": "6c3bf409"
   },
   "outputs": [],
   "source": [
    "import pandas as pd\n",
    "import matplotlib.pyplot as plt\n",
    "from IPython.display import Image, display"
   ]
  },
  {
   "cell_type": "code",
   "execution_count": 1,
   "id": "awL2d3SUyF36",
   "metadata": {
    "colab": {
     "base_uri": "https://localhost:8080/"
    },
    "executionInfo": {
     "elapsed": 25460,
     "status": "ok",
     "timestamp": 1628258751692,
     "user": {
      "displayName": "Morgan V",
      "photoUrl": "https://lh3.googleusercontent.com/a-/AOh14GjpVGthbJW0feyssHY-ZBY65gbHl5EJF10R2nJ06A=s64",
      "userId": "13615714867068802471"
     },
     "user_tz": -120
    },
    "id": "awL2d3SUyF36",
    "outputId": "1a664382-6dd7-488e-dd68-459dcdb48cd3"
   },
   "outputs": [
    {
     "name": "stdout",
     "output_type": "stream",
     "text": [
      "Mounted at /content/drive\n"
     ]
    }
   ],
   "source": [
    "from google.colab import drive\n",
    "drive.mount('/content/drive')"
   ]
  },
  {
   "cell_type": "code",
   "execution_count": 22,
   "id": "nFOGw5xIzdNj",
   "metadata": {
    "executionInfo": {
     "elapsed": 674,
     "status": "ok",
     "timestamp": 1628259142936,
     "user": {
      "displayName": "Morgan V",
      "photoUrl": "https://lh3.googleusercontent.com/a-/AOh14GjpVGthbJW0feyssHY-ZBY65gbHl5EJF10R2nJ06A=s64",
      "userId": "13615714867068802471"
     },
     "user_tz": -120
    },
    "id": "nFOGw5xIzdNj"
   },
   "outputs": [],
   "source": [
    "from tensorflow.keras.models import *\n",
    "from tensorflow.keras.layers import *\n",
    "from tensorflow.keras.metrics import categorical_crossentropy\n",
    "from tensorflow.keras import backend as K"
   ]
  },
  {
   "cell_type": "code",
   "execution_count": 3,
   "id": "59b16251",
   "metadata": {
    "executionInfo": {
     "elapsed": 1761,
     "status": "ok",
     "timestamp": 1628258756686,
     "user": {
      "displayName": "Morgan V",
      "photoUrl": "https://lh3.googleusercontent.com/a-/AOh14GjpVGthbJW0feyssHY-ZBY65gbHl5EJF10R2nJ06A=s64",
      "userId": "13615714867068802471"
     },
     "user_tz": -120
    },
    "id": "59b16251"
   },
   "outputs": [],
   "source": [
    "import keras\n",
    "from keras_preprocessing.image import ImageDataGenerator\n",
    "from keras.applications.vgg16 import preprocess_input\n",
    "from keras.models import Sequential\n",
    "from keras.layers import Dense, Activation, Flatten, Dropout\n",
    "from keras.optimizers import Adam\n",
    "from keras.callbacks import ReduceLROnPlateau, ModelCheckpoint\n",
    "from tensorflow.keras.models import Model"
   ]
  },
  {
   "cell_type": "code",
   "execution_count": 4,
   "id": "xehSPsoXUUHA",
   "metadata": {
    "executionInfo": {
     "elapsed": 248,
     "status": "ok",
     "timestamp": 1628258761501,
     "user": {
      "displayName": "Morgan V",
      "photoUrl": "https://lh3.googleusercontent.com/a-/AOh14GjpVGthbJW0feyssHY-ZBY65gbHl5EJF10R2nJ06A=s64",
      "userId": "13615714867068802471"
     },
     "user_tz": -120
    },
    "id": "xehSPsoXUUHA"
   },
   "outputs": [],
   "source": [
    "import tensorflow as tf"
   ]
  },
  {
   "cell_type": "code",
   "execution_count": 6,
   "id": "dc52f657",
   "metadata": {
    "executionInfo": {
     "elapsed": 570,
     "status": "ok",
     "timestamp": 1628258812616,
     "user": {
      "displayName": "Morgan V",
      "photoUrl": "https://lh3.googleusercontent.com/a-/AOh14GjpVGthbJW0feyssHY-ZBY65gbHl5EJF10R2nJ06A=s64",
      "userId": "13615714867068802471"
     },
     "user_tz": -120
    },
    "id": "dc52f657"
   },
   "outputs": [],
   "source": [
    "df = pd.read_csv('/content/drive/MyDrive/train4_small.csv')"
   ]
  },
  {
   "cell_type": "code",
   "execution_count": 7,
   "id": "e8bd963b",
   "metadata": {
    "colab": {
     "base_uri": "https://localhost:8080/",
     "height": 204
    },
    "executionInfo": {
     "elapsed": 235,
     "status": "ok",
     "timestamp": 1628258816982,
     "user": {
      "displayName": "Morgan V",
      "photoUrl": "https://lh3.googleusercontent.com/a-/AOh14GjpVGthbJW0feyssHY-ZBY65gbHl5EJF10R2nJ06A=s64",
      "userId": "13615714867068802471"
     },
     "user_tz": -120
    },
    "id": "e8bd963b",
    "outputId": "1c6f01cd-175d-4005-f79d-6317d23d494d",
    "scrolled": true
   },
   "outputs": [
    {
     "data": {
      "text/html": [
       "<div>\n",
       "<style scoped>\n",
       "    .dataframe tbody tr th:only-of-type {\n",
       "        vertical-align: middle;\n",
       "    }\n",
       "\n",
       "    .dataframe tbody tr th {\n",
       "        vertical-align: top;\n",
       "    }\n",
       "\n",
       "    .dataframe thead th {\n",
       "        text-align: right;\n",
       "    }\n",
       "</style>\n",
       "<table border=\"1\" class=\"dataframe\">\n",
       "  <thead>\n",
       "    <tr style=\"text-align: right;\">\n",
       "      <th></th>\n",
       "      <th>filename</th>\n",
       "      <th>labels</th>\n",
       "    </tr>\n",
       "  </thead>\n",
       "  <tbody>\n",
       "    <tr>\n",
       "      <th>0</th>\n",
       "      <td>3f58d128caf6.jpg</td>\n",
       "      <td>glaucoma</td>\n",
       "    </tr>\n",
       "    <tr>\n",
       "      <th>1</th>\n",
       "      <td>802b4bfabd52.jpg</td>\n",
       "      <td>md</td>\n",
       "    </tr>\n",
       "    <tr>\n",
       "      <th>2</th>\n",
       "      <td>7bcfab1fa2da.jpg</td>\n",
       "      <td>opacity</td>\n",
       "    </tr>\n",
       "    <tr>\n",
       "      <th>3</th>\n",
       "      <td>012e91949ec4.jpg</td>\n",
       "      <td>opacity</td>\n",
       "    </tr>\n",
       "    <tr>\n",
       "      <th>4</th>\n",
       "      <td>6386346fb595.jpg</td>\n",
       "      <td>opacity</td>\n",
       "    </tr>\n",
       "  </tbody>\n",
       "</table>\n",
       "</div>"
      ],
      "text/plain": [
       "           filename    labels\n",
       "0  3f58d128caf6.jpg  glaucoma\n",
       "1  802b4bfabd52.jpg        md\n",
       "2  7bcfab1fa2da.jpg   opacity\n",
       "3  012e91949ec4.jpg   opacity\n",
       "4  6386346fb595.jpg   opacity"
      ]
     },
     "execution_count": 7,
     "metadata": {
      "tags": []
     },
     "output_type": "execute_result"
    }
   ],
   "source": [
    "df.head()"
   ]
  },
  {
   "cell_type": "code",
   "execution_count": 8,
   "id": "1ec4b7a8",
   "metadata": {
    "colab": {
     "base_uri": "https://localhost:8080/"
    },
    "executionInfo": {
     "elapsed": 228,
     "status": "ok",
     "timestamp": 1628258820464,
     "user": {
      "displayName": "Morgan V",
      "photoUrl": "https://lh3.googleusercontent.com/a-/AOh14GjpVGthbJW0feyssHY-ZBY65gbHl5EJF10R2nJ06A=s64",
      "userId": "13615714867068802471"
     },
     "user_tz": -120
    },
    "id": "1ec4b7a8",
    "outputId": "129eca3f-b8a5-4976-936d-a694df8bf675"
   },
   "outputs": [
    {
     "data": {
      "text/plain": [
       "normal      500\n",
       "glaucoma    500\n",
       "md          500\n",
       "opacity     500\n",
       "Name: labels, dtype: int64"
      ]
     },
     "execution_count": 8,
     "metadata": {
      "tags": []
     },
     "output_type": "execute_result"
    }
   ],
   "source": [
    "df.labels.value_counts()"
   ]
  },
  {
   "cell_type": "code",
   "execution_count": 9,
   "id": "2bc73ece",
   "metadata": {
    "executionInfo": {
     "elapsed": 223,
     "status": "ok",
     "timestamp": 1628258839838,
     "user": {
      "displayName": "Morgan V",
      "photoUrl": "https://lh3.googleusercontent.com/a-/AOh14GjpVGthbJW0feyssHY-ZBY65gbHl5EJF10R2nJ06A=s64",
      "userId": "13615714867068802471"
     },
     "user_tz": -120
    },
    "id": "2bc73ece"
   },
   "outputs": [],
   "source": [
    "# Original Images\n",
    "in_dir = '/content/drive/MyDrive/four'"
   ]
  },
  {
   "cell_type": "markdown",
   "id": "fc53c017",
   "metadata": {
    "id": "fc53c017"
   },
   "source": [
    "### Image Generator"
   ]
  },
  {
   "cell_type": "code",
   "execution_count": 10,
   "id": "f8e97a88",
   "metadata": {
    "executionInfo": {
     "elapsed": 224,
     "status": "ok",
     "timestamp": 1628258845519,
     "user": {
      "displayName": "Morgan V",
      "photoUrl": "https://lh3.googleusercontent.com/a-/AOh14GjpVGthbJW0feyssHY-ZBY65gbHl5EJF10R2nJ06A=s64",
      "userId": "13615714867068802471"
     },
     "user_tz": -120
    },
    "id": "f8e97a88"
   },
   "outputs": [],
   "source": [
    "datagen = ImageDataGenerator(preprocessing_function=preprocess_input, validation_split = 0.25)"
   ]
  },
  {
   "cell_type": "code",
   "execution_count": 11,
   "id": "6bae5961",
   "metadata": {
    "colab": {
     "base_uri": "https://localhost:8080/"
    },
    "executionInfo": {
     "elapsed": 332,
     "status": "ok",
     "timestamp": 1628258847532,
     "user": {
      "displayName": "Morgan V",
      "photoUrl": "https://lh3.googleusercontent.com/a-/AOh14GjpVGthbJW0feyssHY-ZBY65gbHl5EJF10R2nJ06A=s64",
      "userId": "13615714867068802471"
     },
     "user_tz": -120
    },
    "id": "6bae5961",
    "outputId": "00183382-e87d-4011-8159-f4f637acb3f0"
   },
   "outputs": [
    {
     "name": "stdout",
     "output_type": "stream",
     "text": [
      "Found 1500 validated image filenames belonging to 4 classes.\n"
     ]
    }
   ],
   "source": [
    "train_gen = datagen.flow_from_dataframe(dataframe = df, \n",
    "                                        directory = in_dir, \n",
    "                                        x_col = \"filename\", \n",
    "                                        y_col = 'labels',\n",
    "                                        batch_size = 32, \n",
    "                                        seed = 2, \n",
    "                                        shuffle = True, \n",
    "                                        class_mode = \"categorical\", \n",
    "                                        classes = ['opacity', 'glaucoma','md', 'normal'],\n",
    "                                        subset='training',\n",
    "                                        target_size = (224,224))"
   ]
  },
  {
   "cell_type": "code",
   "execution_count": 12,
   "id": "a2b3e2ac",
   "metadata": {
    "colab": {
     "base_uri": "https://localhost:8080/"
    },
    "executionInfo": {
     "elapsed": 569,
     "status": "ok",
     "timestamp": 1628258851114,
     "user": {
      "displayName": "Morgan V",
      "photoUrl": "https://lh3.googleusercontent.com/a-/AOh14GjpVGthbJW0feyssHY-ZBY65gbHl5EJF10R2nJ06A=s64",
      "userId": "13615714867068802471"
     },
     "user_tz": -120
    },
    "id": "a2b3e2ac",
    "outputId": "9dc1ae03-36de-4b4d-bcca-0c505cdcf818"
   },
   "outputs": [
    {
     "name": "stdout",
     "output_type": "stream",
     "text": [
      "Found 500 validated image filenames belonging to 4 classes.\n"
     ]
    }
   ],
   "source": [
    "val_gen = datagen.flow_from_dataframe(dataframe = df, \n",
    "                                      directory = in_dir,\n",
    "                                      x_col = \"filename\", \n",
    "                                      y_col = 'labels',\n",
    "                                      batch_size = 32, \n",
    "                                      seed = 2, \n",
    "                                      shuffle = False,#Labels nicht shuffeln für CM \n",
    "                                      class_mode = \"categorical\", \n",
    "                                      classes = ['opacity', 'glaucoma','md', 'normal'],\n",
    "                                      subset='validation',\n",
    "                                      target_size = (224,224))"
   ]
  },
  {
   "cell_type": "code",
   "execution_count": 13,
   "id": "3b168db2",
   "metadata": {
    "executionInfo": {
     "elapsed": 14235,
     "status": "ok",
     "timestamp": 1628258869618,
     "user": {
      "displayName": "Morgan V",
      "photoUrl": "https://lh3.googleusercontent.com/a-/AOh14GjpVGthbJW0feyssHY-ZBY65gbHl5EJF10R2nJ06A=s64",
      "userId": "13615714867068802471"
     },
     "user_tz": -120
    },
    "id": "3b168db2"
   },
   "outputs": [],
   "source": [
    "imgs, labels = next(train_gen)"
   ]
  },
  {
   "cell_type": "code",
   "execution_count": 14,
   "id": "1b87f1e3",
   "metadata": {
    "executionInfo": {
     "elapsed": 19,
     "status": "ok",
     "timestamp": 1628258869619,
     "user": {
      "displayName": "Morgan V",
      "photoUrl": "https://lh3.googleusercontent.com/a-/AOh14GjpVGthbJW0feyssHY-ZBY65gbHl5EJF10R2nJ06A=s64",
      "userId": "13615714867068802471"
     },
     "user_tz": -120
    },
    "id": "1b87f1e3"
   },
   "outputs": [],
   "source": [
    "def plotImages(images_arr):\n",
    "    fig, axes = plt.subplots(1, 5, figsize=(20,20))\n",
    "    axes = axes.flatten()\n",
    "    for img, ax in zip( images_arr, axes):\n",
    "        ax.imshow(img)\n",
    "    plt.tight_layout()\n",
    "    plt.show()\n",
    "    "
   ]
  },
  {
   "cell_type": "code",
   "execution_count": 16,
   "id": "4fb73401",
   "metadata": {
    "colab": {
     "base_uri": "https://localhost:8080/",
     "height": 303
    },
    "executionInfo": {
     "elapsed": 1475,
     "status": "ok",
     "timestamp": 1628258896293,
     "user": {
      "displayName": "Morgan V",
      "photoUrl": "https://lh3.googleusercontent.com/a-/AOh14GjpVGthbJW0feyssHY-ZBY65gbHl5EJF10R2nJ06A=s64",
      "userId": "13615714867068802471"
     },
     "user_tz": -120
    },
    "id": "4fb73401",
    "outputId": "12634ffd-174c-4f41-ebe5-e01d885efa3a"
   },
   "outputs": [
    {
     "name": "stderr",
     "output_type": "stream",
     "text": [
      "Clipping input data to the valid range for imshow with RGB data ([0..1] for floats or [0..255] for integers).\n",
      "Clipping input data to the valid range for imshow with RGB data ([0..1] for floats or [0..255] for integers).\n",
      "Clipping input data to the valid range for imshow with RGB data ([0..1] for floats or [0..255] for integers).\n",
      "Clipping input data to the valid range for imshow with RGB data ([0..1] for floats or [0..255] for integers).\n",
      "Clipping input data to the valid range for imshow with RGB data ([0..1] for floats or [0..255] for integers).\n"
     ]
    },
    {
     "data": {
      "image/png": "[encoded data removed]",
      "text/plain": [
       "<Figure size 1440x1440 with 5 Axes>"
      ]
     },
     "metadata": {
      "needs_background": "light",
      "tags": []
     },
     "output_type": "display_data"
    }
   ],
   "source": [
    "plotImages(imgs)"
   ]
  },
  {
   "cell_type": "markdown",
   "id": "5d5211ee",
   "metadata": {
    "id": "5d5211ee"
   },
   "source": [
    "### Model"
   ]
  },
  {
   "cell_type": "code",
   "execution_count": 17,
   "id": "ab5f0bdb",
   "metadata": {
    "colab": {
     "base_uri": "https://localhost:8080/"
    },
    "executionInfo": {
     "elapsed": 6627,
     "status": "ok",
     "timestamp": 1628258909981,
     "user": {
      "displayName": "Morgan V",
      "photoUrl": "https://lh3.googleusercontent.com/a-/AOh14GjpVGthbJW0feyssHY-ZBY65gbHl5EJF10R2nJ06A=s64",
      "userId": "13615714867068802471"
     },
     "user_tz": -120
    },
    "id": "ab5f0bdb",
    "outputId": "5821ce43-7ab5-4785-9764-615c16eef344",
    "scrolled": false
   },
   "outputs": [
    {
     "name": "stdout",
     "output_type": "stream",
     "text": [
      "Downloading data from https://storage.googleapis.com/tensorflow/keras-applications/vgg16/vgg16_weights_tf_dim_ordering_tf_kernels_notop.h5\n",
      "58892288/58889256 [==============================] - 0s 0us/step\n"
     ]
    }
   ],
   "source": [
    "base = tf.keras.applications.vgg16.VGG16(weights=\"imagenet\", include_top=False, input_shape=(224, 224, 3))"
   ]
  },
  {
   "cell_type": "code",
   "execution_count": 18,
   "id": "3951bfc9",
   "metadata": {
    "colab": {
     "base_uri": "https://localhost:8080/"
    },
    "executionInfo": {
     "elapsed": 217,
     "status": "ok",
     "timestamp": 1628258945145,
     "user": {
      "displayName": "Morgan V",
      "photoUrl": "https://lh3.googleusercontent.com/a-/AOh14GjpVGthbJW0feyssHY-ZBY65gbHl5EJF10R2nJ06A=s64",
      "userId": "13615714867068802471"
     },
     "user_tz": -120
    },
    "id": "3951bfc9",
    "outputId": "989b0a1d-6847-41d2-c447-12de5b7a550e"
   },
   "outputs": [
    {
     "name": "stdout",
     "output_type": "stream",
     "text": [
      "Model: \"vgg16\"\n",
      "_________________________________________________________________\n",
      "Layer (type)                 Output Shape              Param #   \n",
      "=================================================================\n",
      "input_1 (InputLayer)         [(None, 224, 224, 3)]     0         \n",
      "_________________________________________________________________\n",
      "block1_conv1 (Conv2D)        (None, 224, 224, 64)      1792      \n",
      "_________________________________________________________________\n",
      "block1_conv2 (Conv2D)        (None, 224, 224, 64)      36928     \n",
      "_________________________________________________________________\n",
      "block1_pool (MaxPooling2D)   (None, 112, 112, 64)      0         \n",
      "_________________________________________________________________\n",
      "block2_conv1 (Conv2D)        (None, 112, 112, 128)     73856     \n",
      "_________________________________________________________________\n",
      "block2_conv2 (Conv2D)        (None, 112, 112, 128)     147584    \n",
      "_________________________________________________________________\n",
      "block2_pool (MaxPooling2D)   (None, 56, 56, 128)       0         \n",
      "_________________________________________________________________\n",
      "block3_conv1 (Conv2D)        (None, 56, 56, 256)       295168    \n",
      "_________________________________________________________________\n",
      "block3_conv2 (Conv2D)        (None, 56, 56, 256)       590080    \n",
      "_________________________________________________________________\n",
      "block3_conv3 (Conv2D)        (None, 56, 56, 256)       590080    \n",
      "_________________________________________________________________\n",
      "block3_pool (MaxPooling2D)   (None, 28, 28, 256)       0         \n",
      "_________________________________________________________________\n",
      "block4_conv1 (Conv2D)        (None, 28, 28, 512)       1180160   \n",
      "_________________________________________________________________\n",
      "block4_conv2 (Conv2D)        (None, 28, 28, 512)       2359808   \n",
      "_________________________________________________________________\n",
      "block4_conv3 (Conv2D)        (None, 28, 28, 512)       2359808   \n",
      "_________________________________________________________________\n",
      "block4_pool (MaxPooling2D)   (None, 14, 14, 512)       0         \n",
      "_________________________________________________________________\n",
      "block5_conv1 (Conv2D)        (None, 14, 14, 512)       2359808   \n",
      "_________________________________________________________________\n",
      "block5_conv2 (Conv2D)        (None, 14, 14, 512)       2359808   \n",
      "_________________________________________________________________\n",
      "block5_conv3 (Conv2D)        (None, 14, 14, 512)       2359808   \n",
      "_________________________________________________________________\n",
      "block5_pool (MaxPooling2D)   (None, 7, 7, 512)         0         \n",
      "=================================================================\n",
      "Total params: 14,714,688\n",
      "Trainable params: 14,714,688\n",
      "Non-trainable params: 0\n",
      "_________________________________________________________________\n"
     ]
    }
   ],
   "source": [
    "base.summary()"
   ]
  },
  {
   "cell_type": "code",
   "execution_count": 19,
   "id": "3d658e41",
   "metadata": {
    "executionInfo": {
     "elapsed": 236,
     "status": "ok",
     "timestamp": 1628258954456,
     "user": {
      "displayName": "Morgan V",
      "photoUrl": "https://lh3.googleusercontent.com/a-/AOh14GjpVGthbJW0feyssHY-ZBY65gbHl5EJF10R2nJ06A=s64",
      "userId": "13615714867068802471"
     },
     "user_tz": -120
    },
    "id": "3d658e41"
   },
   "outputs": [],
   "source": [
    "# freezing of all blocks but last one\n",
    "for layer in base.layers[:15]:\n",
    "    layer.trainable = False"
   ]
  },
  {
   "cell_type": "code",
   "execution_count": 20,
   "id": "b8f4ce05",
   "metadata": {
    "colab": {
     "base_uri": "https://localhost:8080/"
    },
    "executionInfo": {
     "elapsed": 227,
     "status": "ok",
     "timestamp": 1628258957588,
     "user": {
      "displayName": "Morgan V",
      "photoUrl": "https://lh3.googleusercontent.com/a-/AOh14GjpVGthbJW0feyssHY-ZBY65gbHl5EJF10R2nJ06A=s64",
      "userId": "13615714867068802471"
     },
     "user_tz": -120
    },
    "id": "b8f4ce05",
    "outputId": "7472f714-ad2f-4e50-a45f-e2f26592a439",
    "scrolled": true
   },
   "outputs": [
    {
     "name": "stdout",
     "output_type": "stream",
     "text": [
      "0 input_1 False\n",
      "1 block1_conv1 False\n",
      "2 block1_conv2 False\n",
      "3 block1_pool False\n",
      "4 block2_conv1 False\n",
      "5 block2_conv2 False\n",
      "6 block2_pool False\n",
      "7 block3_conv1 False\n",
      "8 block3_conv2 False\n",
      "9 block3_conv3 False\n",
      "10 block3_pool False\n",
      "11 block4_conv1 False\n",
      "12 block4_conv2 False\n",
      "13 block4_conv3 False\n",
      "14 block4_pool False\n",
      "15 block5_conv1 True\n",
      "16 block5_conv2 True\n",
      "17 block5_conv3 True\n",
      "18 block5_pool True\n"
     ]
    }
   ],
   "source": [
    "for i, layer in enumerate(base.layers):\n",
    "    print(i, layer.name, layer.trainable)"
   ]
  },
  {
   "cell_type": "code",
   "execution_count": 23,
   "id": "ee4fc0a3",
   "metadata": {
    "executionInfo": {
     "elapsed": 258,
     "status": "ok",
     "timestamp": 1628259156771,
     "user": {
      "displayName": "Morgan V",
      "photoUrl": "https://lh3.googleusercontent.com/a-/AOh14GjpVGthbJW0feyssHY-ZBY65gbHl5EJF10R2nJ06A=s64",
      "userId": "13615714867068802471"
     },
     "user_tz": -120
    },
    "id": "ee4fc0a3"
   },
   "outputs": [],
   "source": [
    "# define new head\n",
    "x = base.output\n",
    "x = Flatten(name='flatten')(x) \n",
    "x = Dense(512, activation='relu')(x)\n",
    "x = Dropout(0.5)(x) \n",
    "x = Dense(4, activation='softmax')(x) \n",
    "model = Model(inputs=base.input, outputs=x)"
   ]
  },
  {
   "cell_type": "code",
   "execution_count": 24,
   "id": "0eeb812c",
   "metadata": {
    "executionInfo": {
     "elapsed": 225,
     "status": "ok",
     "timestamp": 1628259163094,
     "user": {
      "displayName": "Morgan V",
      "photoUrl": "https://lh3.googleusercontent.com/a-/AOh14GjpVGthbJW0feyssHY-ZBY65gbHl5EJF10R2nJ06A=s64",
      "userId": "13615714867068802471"
     },
     "user_tz": -120
    },
    "id": "0eeb812c"
   },
   "outputs": [],
   "source": [
    "lr_reduce = ReduceLROnPlateau(monitor='val_accuracy', factor=0.6, patience=8, verbose=1, mode='max', min_lr=5e-5)\n",
    "checkpoint = ModelCheckpoint('vgg16_finetune.h15', monitor= 'val_accuracy', mode= 'max', save_best_only = True, verbose= 1)"
   ]
  },
  {
   "cell_type": "code",
   "execution_count": 25,
   "id": "j2dj_qijU7PY",
   "metadata": {
    "executionInfo": {
     "elapsed": 261,
     "status": "ok",
     "timestamp": 1628259167405,
     "user": {
      "displayName": "Morgan V",
      "photoUrl": "https://lh3.googleusercontent.com/a-/AOh14GjpVGthbJW0feyssHY-ZBY65gbHl5EJF10R2nJ06A=s64",
      "userId": "13615714867068802471"
     },
     "user_tz": -120
    },
    "id": "j2dj_qijU7PY"
   },
   "outputs": [],
   "source": [
    "step_size_train = train_gen.n//train_gen.batch_size\n",
    "step_size_val = val_gen.n//val_gen.batch_size"
   ]
  },
  {
   "cell_type": "code",
   "execution_count": 26,
   "id": "xJCwh6LYU7-S",
   "metadata": {
    "executionInfo": {
     "elapsed": 222,
     "status": "ok",
     "timestamp": 1628259170181,
     "user": {
      "displayName": "Morgan V",
      "photoUrl": "https://lh3.googleusercontent.com/a-/AOh14GjpVGthbJW0feyssHY-ZBY65gbHl5EJF10R2nJ06A=s64",
      "userId": "13615714867068802471"
     },
     "user_tz": -120
    },
    "id": "xJCwh6LYU7-S"
   },
   "outputs": [],
   "source": [
    "model.compile(optimizer=Adam(learning_rate=5e-5), loss='categorical_crossentropy', metrics=['accuracy'])"
   ]
  },
  {
   "cell_type": "code",
   "execution_count": 28,
   "id": "pSuV8pygU8MI",
   "metadata": {
    "colab": {
     "base_uri": "https://localhost:8080/"
    },
    "executionInfo": {
     "elapsed": 825080,
     "status": "ok",
     "timestamp": 1628260993942,
     "user": {
      "displayName": "Morgan V",
      "photoUrl": "https://lh3.googleusercontent.com/a-/AOh14GjpVGthbJW0feyssHY-ZBY65gbHl5EJF10R2nJ06A=s64",
      "userId": "13615714867068802471"
     },
     "user_tz": -120
    },
    "id": "pSuV8pygU8MI",
    "outputId": "cf787f60-295d-4fd9-9006-70be6a1ce888"
   },
   "outputs": [
    {
     "name": "stdout",
     "output_type": "stream",
     "text": [
      "Epoch 1/50\n",
      "46/46 - 13s - loss: 0.0166 - accuracy: 0.9946 - val_loss: 2.0093 - val_accuracy: 0.5958\n",
      "\n",
      "Epoch 00001: val_accuracy did not improve from 0.68542\n",
      "Epoch 2/50\n",
      "46/46 - 13s - loss: 0.0436 - accuracy: 0.9830 - val_loss: 1.3004 - val_accuracy: 0.6083\n",
      "\n",
      "Epoch 00002: val_accuracy did not improve from 0.68542\n",
      "Epoch 3/50\n",
      "46/46 - 13s - loss: 0.0272 - accuracy: 0.9911 - val_loss: 1.1266 - val_accuracy: 0.6917\n",
      "\n",
      "Epoch 00003: val_accuracy improved from 0.68542 to 0.69167, saving model to vgg16_finetune.h15\n",
      "INFO:tensorflow:Assets written to: vgg16_finetune.h15/assets\n",
      "Epoch 4/50\n",
      "46/46 - 12s - loss: 0.0192 - accuracy: 0.9966 - val_loss: 1.6895 - val_accuracy: 0.6271\n",
      "\n",
      "Epoch 00004: val_accuracy did not improve from 0.69167\n",
      "Epoch 5/50\n",
      "46/46 - 12s - loss: 0.0110 - accuracy: 0.9966 - val_loss: 1.4860 - val_accuracy: 0.6729\n",
      "\n",
      "Epoch 00005: val_accuracy did not improve from 0.69167\n",
      "Epoch 6/50\n",
      "46/46 - 13s - loss: 0.0114 - accuracy: 0.9959 - val_loss: 1.8024 - val_accuracy: 0.6333\n",
      "\n",
      "Epoch 00006: val_accuracy did not improve from 0.69167\n",
      "Epoch 7/50\n",
      "46/46 - 13s - loss: 0.0137 - accuracy: 0.9966 - val_loss: 1.8724 - val_accuracy: 0.5938\n",
      "\n",
      "Epoch 00007: val_accuracy did not improve from 0.69167\n",
      "Epoch 8/50\n",
      "46/46 - 13s - loss: 0.0377 - accuracy: 0.9857 - val_loss: 1.2688 - val_accuracy: 0.6500\n",
      "\n",
      "Epoch 00008: val_accuracy did not improve from 0.69167\n",
      "Epoch 9/50\n",
      "46/46 - 13s - loss: 0.0667 - accuracy: 0.9802 - val_loss: 1.0652 - val_accuracy: 0.6396\n",
      "\n",
      "Epoch 00009: val_accuracy did not improve from 0.69167\n",
      "Epoch 10/50\n",
      "46/46 - 12s - loss: 0.0976 - accuracy: 0.9625 - val_loss: 1.7646 - val_accuracy: 0.5458\n",
      "\n",
      "Epoch 00010: val_accuracy did not improve from 0.69167\n",
      "Epoch 11/50\n",
      "46/46 - 12s - loss: 0.1035 - accuracy: 0.9700 - val_loss: 1.7275 - val_accuracy: 0.5396\n",
      "\n",
      "Epoch 00011: val_accuracy did not improve from 0.69167\n",
      "Epoch 12/50\n",
      "46/46 - 13s - loss: 0.0391 - accuracy: 0.9857 - val_loss: 1.7401 - val_accuracy: 0.6208\n",
      "\n",
      "Epoch 00012: val_accuracy did not improve from 0.69167\n",
      "Epoch 13/50\n",
      "46/46 - 13s - loss: 0.0387 - accuracy: 0.9877 - val_loss: 1.8343 - val_accuracy: 0.6042\n",
      "\n",
      "Epoch 00013: val_accuracy did not improve from 0.69167\n",
      "Epoch 14/50\n",
      "46/46 - 12s - loss: 0.0317 - accuracy: 0.9877 - val_loss: 2.1632 - val_accuracy: 0.5958\n",
      "\n",
      "Epoch 00014: val_accuracy did not improve from 0.69167\n",
      "Epoch 15/50\n",
      "46/46 - 12s - loss: 0.0084 - accuracy: 0.9952 - val_loss: 1.3556 - val_accuracy: 0.7063\n",
      "\n",
      "Epoch 00015: val_accuracy improved from 0.69167 to 0.70625, saving model to vgg16_finetune.h15\n",
      "INFO:tensorflow:Assets written to: vgg16_finetune.h15/assets\n",
      "Epoch 16/50\n",
      "46/46 - 13s - loss: 0.0036 - accuracy: 0.9993 - val_loss: 1.9091 - val_accuracy: 0.6521\n",
      "\n",
      "Epoch 00016: val_accuracy did not improve from 0.70625\n",
      "Epoch 17/50\n",
      "46/46 - 13s - loss: 0.0015 - accuracy: 0.9993 - val_loss: 1.9810 - val_accuracy: 0.6271\n",
      "\n",
      "Epoch 00017: val_accuracy did not improve from 0.70625\n",
      "Epoch 18/50\n",
      "46/46 - 12s - loss: 0.0016 - accuracy: 0.9993 - val_loss: 2.2804 - val_accuracy: 0.6021\n",
      "\n",
      "Epoch 00018: val_accuracy did not improve from 0.70625\n",
      "Epoch 19/50\n",
      "46/46 - 13s - loss: 0.0071 - accuracy: 0.9973 - val_loss: 1.9646 - val_accuracy: 0.6229\n",
      "\n",
      "Epoch 00019: val_accuracy did not improve from 0.70625\n",
      "Epoch 20/50\n",
      "46/46 - 13s - loss: 0.0012 - accuracy: 0.9993 - val_loss: 2.3096 - val_accuracy: 0.6167\n",
      "\n",
      "Epoch 00020: val_accuracy did not improve from 0.70625\n",
      "Epoch 21/50\n",
      "46/46 - 13s - loss: 0.0092 - accuracy: 0.9980 - val_loss: 2.7218 - val_accuracy: 0.5792\n",
      "\n",
      "Epoch 00021: val_accuracy did not improve from 0.70625\n",
      "Epoch 22/50\n",
      "46/46 - 12s - loss: 0.0124 - accuracy: 0.9966 - val_loss: 2.0584 - val_accuracy: 0.5896\n",
      "\n",
      "Epoch 00022: val_accuracy did not improve from 0.70625\n",
      "Epoch 23/50\n",
      "46/46 - 13s - loss: 0.0076 - accuracy: 0.9966 - val_loss: 2.0114 - val_accuracy: 0.5958\n",
      "\n",
      "Epoch 00023: val_accuracy did not improve from 0.70625\n",
      "Epoch 24/50\n",
      "46/46 - 13s - loss: 0.0064 - accuracy: 0.9973 - val_loss: 5.6390 - val_accuracy: 0.4229\n",
      "\n",
      "Epoch 00024: val_accuracy did not improve from 0.70625\n",
      "Epoch 25/50\n",
      "46/46 - 12s - loss: 0.0161 - accuracy: 0.9946 - val_loss: 1.8021 - val_accuracy: 0.6292\n",
      "\n",
      "Epoch 00025: val_accuracy did not improve from 0.70625\n",
      "Epoch 26/50\n",
      "46/46 - 12s - loss: 0.0030 - accuracy: 0.9993 - val_loss: 1.7742 - val_accuracy: 0.6687\n",
      "\n",
      "Epoch 00026: val_accuracy did not improve from 0.70625\n",
      "Epoch 27/50\n",
      "46/46 - 13s - loss: 3.5211e-04 - accuracy: 1.0000 - val_loss: 2.1751 - val_accuracy: 0.6333\n",
      "\n",
      "Epoch 00027: val_accuracy did not improve from 0.70625\n",
      "Epoch 28/50\n",
      "46/46 - 13s - loss: 2.2982e-04 - accuracy: 1.0000 - val_loss: 1.8852 - val_accuracy: 0.6646\n",
      "\n",
      "Epoch 00028: val_accuracy did not improve from 0.70625\n",
      "Epoch 29/50\n",
      "46/46 - 13s - loss: 2.3085e-04 - accuracy: 1.0000 - val_loss: 2.0237 - val_accuracy: 0.6458\n",
      "\n",
      "Epoch 00029: val_accuracy did not improve from 0.70625\n",
      "Epoch 30/50\n",
      "46/46 - 13s - loss: 2.3526e-04 - accuracy: 1.0000 - val_loss: 2.1747 - val_accuracy: 0.6250\n",
      "\n",
      "Epoch 00030: val_accuracy did not improve from 0.70625\n",
      "Epoch 31/50\n",
      "46/46 - 13s - loss: 6.6726e-05 - accuracy: 1.0000 - val_loss: 2.2209 - val_accuracy: 0.6250\n",
      "\n",
      "Epoch 00031: val_accuracy did not improve from 0.70625\n",
      "Epoch 32/50\n",
      "46/46 - 12s - loss: 9.2550e-05 - accuracy: 1.0000 - val_loss: 2.2755 - val_accuracy: 0.6250\n",
      "\n",
      "Epoch 00032: val_accuracy did not improve from 0.70625\n",
      "Epoch 33/50\n",
      "46/46 - 12s - loss: 3.4060e-05 - accuracy: 1.0000 - val_loss: 2.3007 - val_accuracy: 0.6208\n",
      "\n",
      "Epoch 00033: val_accuracy did not improve from 0.70625\n",
      "Epoch 34/50\n",
      "46/46 - 13s - loss: 6.5471e-05 - accuracy: 1.0000 - val_loss: 2.3363 - val_accuracy: 0.6208\n",
      "\n",
      "Epoch 00034: val_accuracy did not improve from 0.70625\n",
      "Epoch 35/50\n",
      "46/46 - 13s - loss: 1.2374e-04 - accuracy: 1.0000 - val_loss: 2.4381 - val_accuracy: 0.6146\n",
      "\n",
      "Epoch 00035: val_accuracy did not improve from 0.70625\n",
      "Epoch 36/50\n",
      "46/46 - 12s - loss: 4.8356e-05 - accuracy: 1.0000 - val_loss: 2.4554 - val_accuracy: 0.6104\n",
      "\n",
      "Epoch 00036: val_accuracy did not improve from 0.70625\n",
      "Epoch 37/50\n",
      "46/46 - 12s - loss: 6.7912e-05 - accuracy: 1.0000 - val_loss: 2.4789 - val_accuracy: 0.6125\n",
      "\n",
      "Epoch 00037: val_accuracy did not improve from 0.70625\n",
      "Epoch 38/50\n",
      "46/46 - 13s - loss: 4.6789e-04 - accuracy: 1.0000 - val_loss: 2.5027 - val_accuracy: 0.6146\n",
      "\n",
      "Epoch 00038: val_accuracy did not improve from 0.70625\n",
      "Epoch 39/50\n",
      "46/46 - 13s - loss: 8.7896e-05 - accuracy: 1.0000 - val_loss: 2.4567 - val_accuracy: 0.6042\n",
      "\n",
      "Epoch 00039: val_accuracy did not improve from 0.70625\n",
      "Epoch 40/50\n",
      "46/46 - 12s - loss: 4.3576e-05 - accuracy: 1.0000 - val_loss: 2.4995 - val_accuracy: 0.6229\n",
      "\n",
      "Epoch 00040: val_accuracy did not improve from 0.70625\n",
      "Epoch 41/50\n",
      "46/46 - 12s - loss: 1.3954e-04 - accuracy: 1.0000 - val_loss: 2.4417 - val_accuracy: 0.6292\n",
      "\n",
      "Epoch 00041: val_accuracy did not improve from 0.70625\n",
      "Epoch 42/50\n",
      "46/46 - 13s - loss: 5.1293e-05 - accuracy: 1.0000 - val_loss: 2.3304 - val_accuracy: 0.6375\n",
      "\n",
      "Epoch 00042: val_accuracy did not improve from 0.70625\n",
      "Epoch 43/50\n",
      "46/46 - 13s - loss: 2.8400e-05 - accuracy: 1.0000 - val_loss: 2.4188 - val_accuracy: 0.6333\n",
      "\n",
      "Epoch 00043: val_accuracy did not improve from 0.70625\n",
      "Epoch 44/50\n",
      "46/46 - 12s - loss: 2.1510e-05 - accuracy: 1.0000 - val_loss: 2.4938 - val_accuracy: 0.6271\n",
      "\n",
      "Epoch 00044: val_accuracy did not improve from 0.70625\n",
      "Epoch 45/50\n",
      "46/46 - 13s - loss: 3.3283e-05 - accuracy: 1.0000 - val_loss: 2.5416 - val_accuracy: 0.6313\n",
      "\n",
      "Epoch 00045: val_accuracy did not improve from 0.70625\n",
      "Epoch 46/50\n",
      "46/46 - 13s - loss: 1.3442e-04 - accuracy: 1.0000 - val_loss: 2.5689 - val_accuracy: 0.6187\n",
      "\n",
      "Epoch 00046: val_accuracy did not improve from 0.70625\n",
      "Epoch 47/50\n",
      "46/46 - 13s - loss: 4.0014e-05 - accuracy: 1.0000 - val_loss: 2.5983 - val_accuracy: 0.6208\n",
      "\n",
      "Epoch 00047: val_accuracy did not improve from 0.70625\n",
      "Epoch 48/50\n",
      "46/46 - 13s - loss: 4.8657e-05 - accuracy: 1.0000 - val_loss: 2.6221 - val_accuracy: 0.6333\n",
      "\n",
      "Epoch 00048: val_accuracy did not improve from 0.70625\n",
      "Epoch 49/50\n",
      "46/46 - 13s - loss: 1.0684e-05 - accuracy: 1.0000 - val_loss: 2.6556 - val_accuracy: 0.6354\n",
      "\n",
      "Epoch 00049: val_accuracy did not improve from 0.70625\n",
      "Epoch 50/50\n",
      "46/46 - 12s - loss: 3.6188e-05 - accuracy: 1.0000 - val_loss: 2.6960 - val_accuracy: 0.6354\n",
      "\n",
      "Epoch 00050: val_accuracy did not improve from 0.70625\n"
     ]
    }
   ],
   "source": [
    "history = model.fit(x=train_gen, validation_data=val_gen, steps_per_epoch=step_size_train, \n",
    "          validation_steps=step_size_val, epochs=50, callbacks=[lr_reduce,checkpoint], verbose=2)"
   ]
  },
  {
   "cell_type": "code",
   "execution_count": 29,
   "id": "K3kj8Um5U8aZ",
   "metadata": {
    "colab": {
     "base_uri": "https://localhost:8080/",
     "height": 499
    },
    "executionInfo": {
     "elapsed": 922,
     "status": "ok",
     "timestamp": 1628261080488,
     "user": {
      "displayName": "Morgan V",
      "photoUrl": "https://lh3.googleusercontent.com/a-/AOh14GjpVGthbJW0feyssHY-ZBY65gbHl5EJF10R2nJ06A=s64",
      "userId": "13615714867068802471"
     },
     "user_tz": -120
    },
    "id": "K3kj8Um5U8aZ",
    "outputId": "af1badca-b523-4839-986a-93d61f35fb44"
   },
   "outputs": [
    {
     "data": {
      "image/png": "[encoded data removed]",
      "text/plain": [
       "<Figure size 576x576 with 2 Axes>"
      ]
     },
     "metadata": {
      "needs_background": "light",
      "tags": []
     },
     "output_type": "display_data"
    }
   ],
   "source": [
    "acc = history.history['accuracy']\n",
    "val_acc = history.history['val_accuracy']\n",
    "\n",
    "loss = history.history['loss']\n",
    "val_loss = history.history['val_loss']\n",
    "\n",
    "epochs_range = range(50)\n",
    "\n",
    "plt.figure(figsize=(8, 8))\n",
    "plt.subplot(1, 2, 1)\n",
    "plt.plot(epochs_range, acc, label='Training Accuracy')\n",
    "plt.plot(epochs_range, val_acc, label='Validation Accuracy')\n",
    "plt.legend(loc='lower right')\n",
    "plt.title('Training and Validation Accuracy')\n",
    "\n",
    "plt.subplot(1, 2, 2)\n",
    "plt.plot(epochs_range, loss, label='Training Loss')\n",
    "plt.plot(epochs_range, val_loss, label='Validation Loss')\n",
    "plt.legend(loc='upper right')\n",
    "plt.title('Training and Validation Loss')\n",
    "plt.show()"
   ]
  },
  {
   "cell_type": "markdown",
   "id": "d8bc9add",
   "metadata": {
    "id": "krixEmiz8is9",
    "scrolled": true
   },
   "source": [
    " ok. still kind of a lot of overfitting. \n",
    " - More dropout. \n",
    " - More images/more augmentation. \n",
    " - Weight decay. \n",
    " "
   ]
  }
 ],
 "metadata": {
  "accelerator": "GPU",
  "colab": {
   "collapsed_sections": [],
   "name": "Transfer_2.4.ipynb",
   "provenance": []
  },
  "kernelspec": {
   "display_name": "Python 3 (ipykernel)",
   "language": "python",
   "name": "python3"
  },
  "language_info": {
   "codemirror_mode": {
    "name": "ipython",
    "version": 3
   },
   "file_extension": ".py",
   "mimetype": "text/x-python",
   "name": "python",
   "nbconvert_exporter": "python",
   "pygments_lexer": "ipython3",
   "version": "3.9.5"
  },
  "varInspector": {
   "cols": {
    "lenName": 16,
    "lenType": 16,
    "lenVar": 40
   },
   "kernels_config": {
    "python": {
     "delete_cmd_postfix": "",
     "delete_cmd_prefix": "del ",
     "library": "var_list.py",
     "varRefreshCmd": "print(var_dic_list())"
    },
    "r": {
     "delete_cmd_postfix": ") ",
     "delete_cmd_prefix": "rm(",
     "library": "var_list.r",
     "varRefreshCmd": "cat(var_dic_list()) "
    }
   },
   "types_to_exclude": [
    "module",
    "function",
    "builtin_function_or_method",
    "instance",
    "_Feature"
   ],
   "window_display": false
  }
 },
 "nbformat": 4,
 "nbformat_minor": 5
}
