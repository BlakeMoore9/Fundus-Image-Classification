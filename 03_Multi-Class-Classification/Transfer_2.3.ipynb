{
 "cells": [
  {
   "cell_type": "markdown",
   "id": "424008fc",
   "metadata": {
    "id": "424008fc"
   },
   "source": [
    "#### Transfer Learning Modell 3\n",
    "- Backbone VGG-16\n",
    "- Images cropped and resized\n",
    "- VGG 16 Paper preprocessing as done in Paper for Network: https://arxiv.org/abs/1409.1556"
   ]
  },
  {
   "cell_type": "code",
   "execution_count": 4,
   "id": "2LM0FrblTSa7",
   "metadata": {
    "colab": {
     "base_uri": "https://localhost:8080/"
    },
    "executionInfo": {
     "elapsed": 24607,
     "status": "ok",
     "timestamp": 1628240993878,
     "user": {
      "displayName": "Morgan V",
      "photoUrl": "https://lh3.googleusercontent.com/a-/AOh14GjpVGthbJW0feyssHY-ZBY65gbHl5EJF10R2nJ06A=s64",
      "userId": "13615714867068802471"
     },
     "user_tz": -120
    },
    "id": "2LM0FrblTSa7",
    "outputId": "ea8747cf-1bce-4a0e-e64c-81e2d90ca206"
   },
   "outputs": [
    {
     "name": "stdout",
     "output_type": "stream",
     "text": [
      "Mounted at /content/drive\n"
     ]
    }
   ],
   "source": [
    "from google.colab import drive\n",
    "drive.mount('/content/drive')"
   ]
  },
  {
   "cell_type": "code",
   "execution_count": 1,
   "id": "6c3bf409",
   "metadata": {
    "executionInfo": {
     "elapsed": 3,
     "status": "ok",
     "timestamp": 1628240940058,
     "user": {
      "displayName": "Morgan V",
      "photoUrl": "https://lh3.googleusercontent.com/a-/AOh14GjpVGthbJW0feyssHY-ZBY65gbHl5EJF10R2nJ06A=s64",
      "userId": "13615714867068802471"
     },
     "user_tz": -120
    },
    "id": "6c3bf409"
   },
   "outputs": [],
   "source": [
    "import pandas as pd\n",
    "import matplotlib.pyplot as plt\n",
    "from IPython.display import Image, display"
   ]
  },
  {
   "cell_type": "code",
   "execution_count": 2,
   "id": "59b16251",
   "metadata": {
    "executionInfo": {
     "elapsed": 2714,
     "status": "ok",
     "timestamp": 1628240945049,
     "user": {
      "displayName": "Morgan V",
      "photoUrl": "https://lh3.googleusercontent.com/a-/AOh14GjpVGthbJW0feyssHY-ZBY65gbHl5EJF10R2nJ06A=s64",
      "userId": "13615714867068802471"
     },
     "user_tz": -120
    },
    "id": "59b16251"
   },
   "outputs": [],
   "source": [
    "import keras\n",
    "from keras_preprocessing.image import ImageDataGenerator\n",
    "from keras.applications.vgg16 import preprocess_input\n",
    "from keras.models import Sequential\n",
    "from keras.layers import Dense, Activation, Flatten, Dropout"
   ]
  },
  {
   "cell_type": "code",
   "execution_count": 3,
   "id": "xehSPsoXUUHA",
   "metadata": {
    "executionInfo": {
     "elapsed": 428,
     "status": "ok",
     "timestamp": 1628240947758,
     "user": {
      "displayName": "Morgan V",
      "photoUrl": "https://lh3.googleusercontent.com/a-/AOh14GjpVGthbJW0feyssHY-ZBY65gbHl5EJF10R2nJ06A=s64",
      "userId": "13615714867068802471"
     },
     "user_tz": -120
    },
    "id": "xehSPsoXUUHA"
   },
   "outputs": [],
   "source": [
    "import tensorflow as tf"
   ]
  },
  {
   "cell_type": "code",
   "execution_count": 7,
   "id": "dc52f657",
   "metadata": {
    "executionInfo": {
     "elapsed": 1388,
     "status": "ok",
     "timestamp": 1628241801884,
     "user": {
      "displayName": "Morgan V",
      "photoUrl": "https://lh3.googleusercontent.com/a-/AOh14GjpVGthbJW0feyssHY-ZBY65gbHl5EJF10R2nJ06A=s64",
      "userId": "13615714867068802471"
     },
     "user_tz": -120
    },
    "id": "dc52f657"
   },
   "outputs": [],
   "source": [
    "df = pd.read_csv('/content/drive/MyDrive/train4_small.csv')"
   ]
  },
  {
   "cell_type": "code",
   "execution_count": 8,
   "id": "HFjpGh6FxmXh",
   "metadata": {
    "colab": {
     "base_uri": "https://localhost:8080/",
     "height": 204
    },
    "executionInfo": {
     "elapsed": 416,
     "status": "ok",
     "timestamp": 1628241824006,
     "user": {
      "displayName": "Morgan V",
      "photoUrl": "https://lh3.googleusercontent.com/a-/AOh14GjpVGthbJW0feyssHY-ZBY65gbHl5EJF10R2nJ06A=s64",
      "userId": "13615714867068802471"
     },
     "user_tz": -120
    },
    "id": "HFjpGh6FxmXh",
    "outputId": "5e6ea5f1-f5d3-4f65-a654-73f07c827d7d"
   },
   "outputs": [
    {
     "data": {
      "text/html": [
       "<div>\n",
       "<style scoped>\n",
       "    .dataframe tbody tr th:only-of-type {\n",
       "        vertical-align: middle;\n",
       "    }\n",
       "\n",
       "    .dataframe tbody tr th {\n",
       "        vertical-align: top;\n",
       "    }\n",
       "\n",
       "    .dataframe thead th {\n",
       "        text-align: right;\n",
       "    }\n",
       "</style>\n",
       "<table border=\"1\" class=\"dataframe\">\n",
       "  <thead>\n",
       "    <tr style=\"text-align: right;\">\n",
       "      <th></th>\n",
       "      <th>filename</th>\n",
       "      <th>labels</th>\n",
       "    </tr>\n",
       "  </thead>\n",
       "  <tbody>\n",
       "    <tr>\n",
       "      <th>0</th>\n",
       "      <td>3f58d128caf6.jpg</td>\n",
       "      <td>glaucoma</td>\n",
       "    </tr>\n",
       "    <tr>\n",
       "      <th>1</th>\n",
       "      <td>802b4bfabd52.jpg</td>\n",
       "      <td>md</td>\n",
       "    </tr>\n",
       "    <tr>\n",
       "      <th>2</th>\n",
       "      <td>7bcfab1fa2da.jpg</td>\n",
       "      <td>opacity</td>\n",
       "    </tr>\n",
       "    <tr>\n",
       "      <th>3</th>\n",
       "      <td>012e91949ec4.jpg</td>\n",
       "      <td>opacity</td>\n",
       "    </tr>\n",
       "    <tr>\n",
       "      <th>4</th>\n",
       "      <td>6386346fb595.jpg</td>\n",
       "      <td>opacity</td>\n",
       "    </tr>\n",
       "  </tbody>\n",
       "</table>\n",
       "</div>"
      ],
      "text/plain": [
       "           filename    labels\n",
       "0  3f58d128caf6.jpg  glaucoma\n",
       "1  802b4bfabd52.jpg        md\n",
       "2  7bcfab1fa2da.jpg   opacity\n",
       "3  012e91949ec4.jpg   opacity\n",
       "4  6386346fb595.jpg   opacity"
      ]
     },
     "execution_count": 8,
     "metadata": {
      "tags": []
     },
     "output_type": "execute_result"
    }
   ],
   "source": [
    "df.head()"
   ]
  },
  {
   "cell_type": "code",
   "execution_count": 9,
   "id": "2bc73ece",
   "metadata": {
    "executionInfo": {
     "elapsed": 982,
     "status": "ok",
     "timestamp": 1628241831244,
     "user": {
      "displayName": "Morgan V",
      "photoUrl": "https://lh3.googleusercontent.com/a-/AOh14GjpVGthbJW0feyssHY-ZBY65gbHl5EJF10R2nJ06A=s64",
      "userId": "13615714867068802471"
     },
     "user_tz": -120
    },
    "id": "2bc73ece"
   },
   "outputs": [],
   "source": [
    "# Original Images\n",
    "in_dir = '/content/drive/MyDrive/four'"
   ]
  },
  {
   "cell_type": "code",
   "execution_count": null,
   "id": "93864361",
   "metadata": {
    "id": "93864361"
   },
   "outputs": [],
   "source": [
    "#display(Image(in_dir+'\\\\'+df.filename[0]))"
   ]
  },
  {
   "cell_type": "markdown",
   "id": "fc53c017",
   "metadata": {
    "id": "fc53c017"
   },
   "source": [
    "### Image Generator"
   ]
  },
  {
   "cell_type": "code",
   "execution_count": 10,
   "id": "f8e97a88",
   "metadata": {
    "executionInfo": {
     "elapsed": 495,
     "status": "ok",
     "timestamp": 1628241837312,
     "user": {
      "displayName": "Morgan V",
      "photoUrl": "https://lh3.googleusercontent.com/a-/AOh14GjpVGthbJW0feyssHY-ZBY65gbHl5EJF10R2nJ06A=s64",
      "userId": "13615714867068802471"
     },
     "user_tz": -120
    },
    "id": "f8e97a88"
   },
   "outputs": [],
   "source": [
    "datagen = ImageDataGenerator(preprocessing_function=preprocess_input, validation_split = 0.25)"
   ]
  },
  {
   "cell_type": "code",
   "execution_count": 13,
   "id": "6bae5961",
   "metadata": {
    "colab": {
     "base_uri": "https://localhost:8080/"
    },
    "executionInfo": {
     "elapsed": 915,
     "status": "ok",
     "timestamp": 1628241857449,
     "user": {
      "displayName": "Morgan V",
      "photoUrl": "https://lh3.googleusercontent.com/a-/AOh14GjpVGthbJW0feyssHY-ZBY65gbHl5EJF10R2nJ06A=s64",
      "userId": "13615714867068802471"
     },
     "user_tz": -120
    },
    "id": "6bae5961",
    "outputId": "345db8e6-ad97-425c-b37b-55ca0ff5e18f"
   },
   "outputs": [
    {
     "name": "stdout",
     "output_type": "stream",
     "text": [
      "Found 1500 validated image filenames belonging to 4 classes.\n"
     ]
    }
   ],
   "source": [
    "train_gen = datagen.flow_from_dataframe(dataframe = df, \n",
    "                                            directory = in_dir, \n",
    "                                            x_col = \"filename\", \n",
    "                                            y_col = 'labels',\n",
    "                                            batch_size = 10, \n",
    "                                            seed = 2, \n",
    "                                            shuffle = True, \n",
    "                                            class_mode = \"categorical\", \n",
    "                                            classes = ['opacity', 'glaucoma','md', 'normal'],\n",
    "                                            subset='training',\n",
    "                                            target_size = (224,224))"
   ]
  },
  {
   "cell_type": "code",
   "execution_count": 14,
   "id": "a2b3e2ac",
   "metadata": {
    "colab": {
     "base_uri": "https://localhost:8080/"
    },
    "executionInfo": {
     "elapsed": 1056,
     "status": "ok",
     "timestamp": 1628241869549,
     "user": {
      "displayName": "Morgan V",
      "photoUrl": "https://lh3.googleusercontent.com/a-/AOh14GjpVGthbJW0feyssHY-ZBY65gbHl5EJF10R2nJ06A=s64",
      "userId": "13615714867068802471"
     },
     "user_tz": -120
    },
    "id": "a2b3e2ac",
    "outputId": "6be3208d-8da8-458a-a842-4e709aa9277a"
   },
   "outputs": [
    {
     "name": "stdout",
     "output_type": "stream",
     "text": [
      "Found 500 validated image filenames belonging to 4 classes.\n"
     ]
    }
   ],
   "source": [
    "val_gen = datagen.flow_from_dataframe(dataframe = df, \n",
    "                                            directory = in_dir, \n",
    "                                            x_col = \"filename\", \n",
    "                                            y_col = 'labels',\n",
    "                                            batch_size = 10, \n",
    "                                            seed = 2, \n",
    "                                            shuffle = False,#Labels nicht shuffeln für CM \n",
    "                                            class_mode = \"categorical\", \n",
    "                                            classes = ['opacity', 'glaucoma','md', 'normal'],\n",
    "                                            subset='validation',\n",
    "                                            target_size = (224,224))"
   ]
  },
  {
   "cell_type": "code",
   "execution_count": 15,
   "id": "3b168db2",
   "metadata": {
    "executionInfo": {
     "elapsed": 8203,
     "status": "ok",
     "timestamp": 1628241882585,
     "user": {
      "displayName": "Morgan V",
      "photoUrl": "https://lh3.googleusercontent.com/a-/AOh14GjpVGthbJW0feyssHY-ZBY65gbHl5EJF10R2nJ06A=s64",
      "userId": "13615714867068802471"
     },
     "user_tz": -120
    },
    "id": "3b168db2"
   },
   "outputs": [],
   "source": [
    "imgs, labels = next(train_gen)"
   ]
  },
  {
   "cell_type": "code",
   "execution_count": 16,
   "id": "1b87f1e3",
   "metadata": {
    "executionInfo": {
     "elapsed": 410,
     "status": "ok",
     "timestamp": 1628241892816,
     "user": {
      "displayName": "Morgan V",
      "photoUrl": "https://lh3.googleusercontent.com/a-/AOh14GjpVGthbJW0feyssHY-ZBY65gbHl5EJF10R2nJ06A=s64",
      "userId": "13615714867068802471"
     },
     "user_tz": -120
    },
    "id": "1b87f1e3"
   },
   "outputs": [],
   "source": [
    "def plotImages(images_arr):\n",
    "    fig, axes = plt.subplots(1, 5, figsize=(20,20))\n",
    "    axes = axes.flatten()\n",
    "    for img, ax in zip( images_arr, axes):\n",
    "        ax.imshow(img)\n",
    "    plt.tight_layout()\n",
    "    plt.show()\n",
    "    "
   ]
  },
  {
   "cell_type": "code",
   "execution_count": 17,
   "id": "4fb73401",
   "metadata": {
    "colab": {
     "base_uri": "https://localhost:8080/",
     "height": 473
    },
    "executionInfo": {
     "elapsed": 1918,
     "status": "ok",
     "timestamp": 1628241896970,
     "user": {
      "displayName": "Morgan V",
      "photoUrl": "https://lh3.googleusercontent.com/a-/AOh14GjpVGthbJW0feyssHY-ZBY65gbHl5EJF10R2nJ06A=s64",
      "userId": "13615714867068802471"
     },
     "user_tz": -120
    },
    "id": "4fb73401",
    "outputId": "b89fe884-69ab-4933-b086-137ac1432f5b"
   },
   "outputs": [
    {
     "name": "stderr",
     "output_type": "stream",
     "text": [
      "Clipping input data to the valid range for imshow with RGB data ([0..1] for floats or [0..255] for integers).\n",
      "Clipping input data to the valid range for imshow with RGB data ([0..1] for floats or [0..255] for integers).\n",
      "Clipping input data to the valid range for imshow with RGB data ([0..1] for floats or [0..255] for integers).\n",
      "Clipping input data to the valid range for imshow with RGB data ([0..1] for floats or [0..255] for integers).\n",
      "Clipping input data to the valid range for imshow with RGB data ([0..1] for floats or [0..255] for integers).\n"
     ]
    },
    {
     "data": {
      "image/png": "[encoded data removed]",
      "text/plain": [
       "<Figure size 1440x1440 with 5 Axes>"
      ]
     },
     "metadata": {
      "needs_background": "light",
      "tags": []
     },
     "output_type": "display_data"
    },
    {
     "name": "stdout",
     "output_type": "stream",
     "text": [
      "[[0. 0. 1. 0.]\n",
      " [0. 1. 0. 0.]\n",
      " [1. 0. 0. 0.]\n",
      " [1. 0. 0. 0.]\n",
      " [1. 0. 0. 0.]\n",
      " [0. 0. 0. 1.]\n",
      " [0. 1. 0. 0.]\n",
      " [0. 0. 1. 0.]\n",
      " [0. 1. 0. 0.]\n",
      " [0. 0. 1. 0.]]\n"
     ]
    }
   ],
   "source": [
    "plotImages(imgs)\n",
    "print(labels)"
   ]
  },
  {
   "cell_type": "markdown",
   "id": "5d5211ee",
   "metadata": {
    "id": "5d5211ee"
   },
   "source": [
    "### Model"
   ]
  },
  {
   "cell_type": "code",
   "execution_count": 18,
   "id": "ab5f0bdb",
   "metadata": {
    "colab": {
     "base_uri": "https://localhost:8080/"
    },
    "executionInfo": {
     "elapsed": 11890,
     "status": "ok",
     "timestamp": 1628241915151,
     "user": {
      "displayName": "Morgan V",
      "photoUrl": "https://lh3.googleusercontent.com/a-/AOh14GjpVGthbJW0feyssHY-ZBY65gbHl5EJF10R2nJ06A=s64",
      "userId": "13615714867068802471"
     },
     "user_tz": -120
    },
    "id": "ab5f0bdb",
    "outputId": "3d94ed03-9d41-4eb5-d05d-b01567f4251c"
   },
   "outputs": [
    {
     "name": "stdout",
     "output_type": "stream",
     "text": [
      "Downloading data from https://storage.googleapis.com/tensorflow/keras-applications/vgg16/vgg16_weights_tf_dim_ordering_tf_kernels.h5\n",
      "553467904/553467096 [==============================] - 5s 0us/step\n"
     ]
    }
   ],
   "source": [
    "model_vgg16 = tf.keras.applications.vgg16.VGG16()"
   ]
  },
  {
   "cell_type": "code",
   "execution_count": 19,
   "id": "3951bfc9",
   "metadata": {
    "colab": {
     "base_uri": "https://localhost:8080/"
    },
    "executionInfo": {
     "elapsed": 373,
     "status": "ok",
     "timestamp": 1628241922498,
     "user": {
      "displayName": "Morgan V",
      "photoUrl": "https://lh3.googleusercontent.com/a-/AOh14GjpVGthbJW0feyssHY-ZBY65gbHl5EJF10R2nJ06A=s64",
      "userId": "13615714867068802471"
     },
     "user_tz": -120
    },
    "id": "3951bfc9",
    "outputId": "d4e86a7c-4048-466f-e25c-78c7aa5dc0b4"
   },
   "outputs": [
    {
     "name": "stdout",
     "output_type": "stream",
     "text": [
      "Model: \"vgg16\"\n",
      "_________________________________________________________________\n",
      "Layer (type)                 Output Shape              Param #   \n",
      "=================================================================\n",
      "input_1 (InputLayer)         [(None, 224, 224, 3)]     0         \n",
      "_________________________________________________________________\n",
      "block1_conv1 (Conv2D)        (None, 224, 224, 64)      1792      \n",
      "_________________________________________________________________\n",
      "block1_conv2 (Conv2D)        (None, 224, 224, 64)      36928     \n",
      "_________________________________________________________________\n",
      "block1_pool (MaxPooling2D)   (None, 112, 112, 64)      0         \n",
      "_________________________________________________________________\n",
      "block2_conv1 (Conv2D)        (None, 112, 112, 128)     73856     \n",
      "_________________________________________________________________\n",
      "block2_conv2 (Conv2D)        (None, 112, 112, 128)     147584    \n",
      "_________________________________________________________________\n",
      "block2_pool (MaxPooling2D)   (None, 56, 56, 128)       0         \n",
      "_________________________________________________________________\n",
      "block3_conv1 (Conv2D)        (None, 56, 56, 256)       295168    \n",
      "_________________________________________________________________\n",
      "block3_conv2 (Conv2D)        (None, 56, 56, 256)       590080    \n",
      "_________________________________________________________________\n",
      "block3_conv3 (Conv2D)        (None, 56, 56, 256)       590080    \n",
      "_________________________________________________________________\n",
      "block3_pool (MaxPooling2D)   (None, 28, 28, 256)       0         \n",
      "_________________________________________________________________\n",
      "block4_conv1 (Conv2D)        (None, 28, 28, 512)       1180160   \n",
      "_________________________________________________________________\n",
      "block4_conv2 (Conv2D)        (None, 28, 28, 512)       2359808   \n",
      "_________________________________________________________________\n",
      "block4_conv3 (Conv2D)        (None, 28, 28, 512)       2359808   \n",
      "_________________________________________________________________\n",
      "block4_pool (MaxPooling2D)   (None, 14, 14, 512)       0         \n",
      "_________________________________________________________________\n",
      "block5_conv1 (Conv2D)        (None, 14, 14, 512)       2359808   \n",
      "_________________________________________________________________\n",
      "block5_conv2 (Conv2D)        (None, 14, 14, 512)       2359808   \n",
      "_________________________________________________________________\n",
      "block5_conv3 (Conv2D)        (None, 14, 14, 512)       2359808   \n",
      "_________________________________________________________________\n",
      "block5_pool (MaxPooling2D)   (None, 7, 7, 512)         0         \n",
      "_________________________________________________________________\n",
      "flatten (Flatten)            (None, 25088)             0         \n",
      "_________________________________________________________________\n",
      "fc1 (Dense)                  (None, 4096)              102764544 \n",
      "_________________________________________________________________\n",
      "fc2 (Dense)                  (None, 4096)              16781312  \n",
      "_________________________________________________________________\n",
      "predictions (Dense)          (None, 1000)              4097000   \n",
      "=================================================================\n",
      "Total params: 138,357,544\n",
      "Trainable params: 138,357,544\n",
      "Non-trainable params: 0\n",
      "_________________________________________________________________\n"
     ]
    }
   ],
   "source": [
    "model_vgg16.summary()"
   ]
  },
  {
   "cell_type": "code",
   "execution_count": 20,
   "id": "547ab6ec",
   "metadata": {
    "executionInfo": {
     "elapsed": 411,
     "status": "ok",
     "timestamp": 1628241929274,
     "user": {
      "displayName": "Morgan V",
      "photoUrl": "https://lh3.googleusercontent.com/a-/AOh14GjpVGthbJW0feyssHY-ZBY65gbHl5EJF10R2nJ06A=s64",
      "userId": "13615714867068802471"
     },
     "user_tz": -120
    },
    "id": "547ab6ec"
   },
   "outputs": [],
   "source": [
    "model = Sequential()\n",
    "for layer in model_vgg16.layers[:-1]:\n",
    "    model.add(layer)"
   ]
  },
  {
   "cell_type": "code",
   "execution_count": 21,
   "id": "3d658e41",
   "metadata": {
    "executionInfo": {
     "elapsed": 3,
     "status": "ok",
     "timestamp": 1628241931937,
     "user": {
      "displayName": "Morgan V",
      "photoUrl": "https://lh3.googleusercontent.com/a-/AOh14GjpVGthbJW0feyssHY-ZBY65gbHl5EJF10R2nJ06A=s64",
      "userId": "13615714867068802471"
     },
     "user_tz": -120
    },
    "id": "3d658e41"
   },
   "outputs": [],
   "source": [
    "for layer in model.layers:\n",
    "    layer.trainable = False"
   ]
  },
  {
   "cell_type": "code",
   "execution_count": 22,
   "id": "JySB_IJpU48j",
   "metadata": {
    "executionInfo": {
     "elapsed": 452,
     "status": "ok",
     "timestamp": 1628241936035,
     "user": {
      "displayName": "Morgan V",
      "photoUrl": "https://lh3.googleusercontent.com/a-/AOh14GjpVGthbJW0feyssHY-ZBY65gbHl5EJF10R2nJ06A=s64",
      "userId": "13615714867068802471"
     },
     "user_tz": -120
    },
    "id": "JySB_IJpU48j"
   },
   "outputs": [],
   "source": [
    "model.add(Dense(units=4, activation='softmax'))"
   ]
  },
  {
   "cell_type": "code",
   "execution_count": 23,
   "id": "j2dj_qijU7PY",
   "metadata": {
    "executionInfo": {
     "elapsed": 414,
     "status": "ok",
     "timestamp": 1628241940336,
     "user": {
      "displayName": "Morgan V",
      "photoUrl": "https://lh3.googleusercontent.com/a-/AOh14GjpVGthbJW0feyssHY-ZBY65gbHl5EJF10R2nJ06A=s64",
      "userId": "13615714867068802471"
     },
     "user_tz": -120
    },
    "id": "j2dj_qijU7PY"
   },
   "outputs": [],
   "source": [
    "step_size_train = train_gen.n//train_gen.batch_size\n",
    "step_size_val = val_gen.n//val_gen.batch_size"
   ]
  },
  {
   "cell_type": "code",
   "execution_count": 24,
   "id": "xJCwh6LYU7-S",
   "metadata": {
    "executionInfo": {
     "elapsed": 3,
     "status": "ok",
     "timestamp": 1628241942177,
     "user": {
      "displayName": "Morgan V",
      "photoUrl": "https://lh3.googleusercontent.com/a-/AOh14GjpVGthbJW0feyssHY-ZBY65gbHl5EJF10R2nJ06A=s64",
      "userId": "13615714867068802471"
     },
     "user_tz": -120
    },
    "id": "xJCwh6LYU7-S"
   },
   "outputs": [],
   "source": [
    "model.compile(optimizer='adam', loss='categorical_crossentropy', metrics=['accuracy'])"
   ]
  },
  {
   "cell_type": "code",
   "execution_count": 25,
   "id": "pSuV8pygU8MI",
   "metadata": {
    "colab": {
     "base_uri": "https://localhost:8080/"
    },
    "executionInfo": {
     "elapsed": 1819203,
     "status": "ok",
     "timestamp": 1628243763693,
     "user": {
      "displayName": "Morgan V",
      "photoUrl": "https://lh3.googleusercontent.com/a-/AOh14GjpVGthbJW0feyssHY-ZBY65gbHl5EJF10R2nJ06A=s64",
      "userId": "13615714867068802471"
     },
     "user_tz": -120
    },
    "id": "pSuV8pygU8MI",
    "outputId": "39fda32d-8f3d-48d7-c1be-9de3ce4c392b"
   },
   "outputs": [
    {
     "name": "stdout",
     "output_type": "stream",
     "text": [
      "Epoch 1/10\n",
      "150/150 - 1496s - loss: 0.9419 - accuracy: 0.6340 - val_loss: 0.9427 - val_accuracy: 0.6600\n",
      "Epoch 2/10\n",
      "150/150 - 26s - loss: 0.6529 - accuracy: 0.7573 - val_loss: 1.2106 - val_accuracy: 0.5560\n",
      "Epoch 3/10\n",
      "150/150 - 25s - loss: 0.5335 - accuracy: 0.7920 - val_loss: 1.0212 - val_accuracy: 0.6180\n",
      "Epoch 4/10\n",
      "150/150 - 25s - loss: 0.4874 - accuracy: 0.8120 - val_loss: 0.9635 - val_accuracy: 0.6500\n",
      "Epoch 5/10\n",
      "150/150 - 25s - loss: 0.4487 - accuracy: 0.8320 - val_loss: 1.8758 - val_accuracy: 0.4640\n",
      "Epoch 6/10\n",
      "150/150 - 25s - loss: 0.3724 - accuracy: 0.8627 - val_loss: 0.8228 - val_accuracy: 0.7060\n",
      "Epoch 7/10\n",
      "150/150 - 25s - loss: 0.3302 - accuracy: 0.8747 - val_loss: 1.0455 - val_accuracy: 0.6440\n",
      "Epoch 8/10\n",
      "150/150 - 25s - loss: 0.3190 - accuracy: 0.8767 - val_loss: 0.9001 - val_accuracy: 0.6760\n",
      "Epoch 9/10\n",
      "150/150 - 25s - loss: 0.3098 - accuracy: 0.8807 - val_loss: 1.4398 - val_accuracy: 0.5800\n",
      "Epoch 10/10\n",
      "150/150 - 25s - loss: 0.2800 - accuracy: 0.8873 - val_loss: 1.4510 - val_accuracy: 0.5800\n"
     ]
    }
   ],
   "source": [
    "history = model.fit(x=train_gen, validation_data=val_gen, steps_per_epoch=step_size_train, \n",
    "          validation_steps=step_size_val, epochs=10,verbose=2)"
   ]
  },
  {
   "cell_type": "code",
   "execution_count": 26,
   "id": "K3kj8Um5U8aZ",
   "metadata": {
    "colab": {
     "base_uri": "https://localhost:8080/",
     "height": 499
    },
    "executionInfo": {
     "elapsed": 873,
     "status": "ok",
     "timestamp": 1628243764556,
     "user": {
      "displayName": "Morgan V",
      "photoUrl": "https://lh3.googleusercontent.com/a-/AOh14GjpVGthbJW0feyssHY-ZBY65gbHl5EJF10R2nJ06A=s64",
      "userId": "13615714867068802471"
     },
     "user_tz": -120
    },
    "id": "K3kj8Um5U8aZ",
    "outputId": "8c192332-7078-4045-de92-3f2d93f74bb3"
   },
   "outputs": [
    {
     "data": {
      "image/png": "[encoded data removed]",
      "text/plain": [
       "<Figure size 576x576 with 2 Axes>"
      ]
     },
     "metadata": {
      "needs_background": "light",
      "tags": []
     },
     "output_type": "display_data"
    }
   ],
   "source": [
    "acc = history.history['accuracy']\n",
    "val_acc = history.history['val_accuracy']\n",
    "\n",
    "loss = history.history['loss']\n",
    "val_loss = history.history['val_loss']\n",
    "\n",
    "epochs_range = range(10)\n",
    "\n",
    "plt.figure(figsize=(8, 8))\n",
    "plt.subplot(1, 2, 1)\n",
    "plt.plot(epochs_range, acc, label='Training Accuracy')\n",
    "plt.plot(epochs_range, val_acc, label='Validation Accuracy')\n",
    "plt.legend(loc='lower right')\n",
    "plt.title('Training and Validation Accuracy')\n",
    "\n",
    "plt.subplot(1, 2, 2)\n",
    "plt.plot(epochs_range, loss, label='Training Loss')\n",
    "plt.plot(epochs_range, val_loss, label='Validation Loss')\n",
    "plt.legend(loc='upper right')\n",
    "plt.title('Training and Validation Loss')\n",
    "plt.show()"
   ]
  },
  {
   "cell_type": "code",
   "execution_count": 27,
   "id": "krixEmiz8is9",
   "metadata": {
    "colab": {
     "base_uri": "https://localhost:8080/"
    },
    "executionInfo": {
     "elapsed": 8144,
     "status": "ok",
     "timestamp": 1628243920557,
     "user": {
      "displayName": "Morgan V",
      "photoUrl": "https://lh3.googleusercontent.com/a-/AOh14GjpVGthbJW0feyssHY-ZBY65gbHl5EJF10R2nJ06A=s64",
      "userId": "13615714867068802471"
     },
     "user_tz": -120
    },
    "id": "krixEmiz8is9",
    "outputId": "da329616-ef7b-4392-f061-27fa80a733ee"
   },
   "outputs": [
    {
     "name": "stderr",
     "output_type": "stream",
     "text": [
      "WARNING:absl:Found untraced functions such as block1_conv1_layer_call_fn, block1_conv1_layer_call_and_return_conditional_losses, block1_conv2_layer_call_fn, block1_conv2_layer_call_and_return_conditional_losses, block2_conv1_layer_call_fn while saving (showing 5 of 80). These functions will not be directly callable after loading.\n"
     ]
    },
    {
     "name": "stdout",
     "output_type": "stream",
     "text": [
      "INFO:tensorflow:Assets written to: /content/drive/MyDrive/Modell_1/Transfer2/assets\n"
     ]
    },
    {
     "name": "stderr",
     "output_type": "stream",
     "text": [
      "INFO:tensorflow:Assets written to: /content/drive/MyDrive/Modell_1/Transfer2/assets\n"
     ]
    }
   ],
   "source": [
    "model.save('/content/drive/MyDrive/Modell_1/Transfer2')"
   ]
  }
 ],
 "metadata": {
  "accelerator": "GPU",
  "colab": {
   "collapsed_sections": [],
   "name": "Transfer_2.3_.ipynb",
   "provenance": []
  },
  "kernelspec": {
   "display_name": "Python 3 (ipykernel)",
   "language": "python",
   "name": "python3"
  },
  "language_info": {
   "codemirror_mode": {
    "name": "ipython",
    "version": 3
   },
   "file_extension": ".py",
   "mimetype": "text/x-python",
   "name": "python",
   "nbconvert_exporter": "python",
   "pygments_lexer": "ipython3",
   "version": "3.9.5"
  },
  "varInspector": {
   "cols": {
    "lenName": 16,
    "lenType": 16,
    "lenVar": 40
   },
   "kernels_config": {
    "python": {
     "delete_cmd_postfix": "",
     "delete_cmd_prefix": "del ",
     "library": "var_list.py",
     "varRefreshCmd": "print(var_dic_list())"
    },
    "r": {
     "delete_cmd_postfix": ") ",
     "delete_cmd_prefix": "rm(",
     "library": "var_list.r",
     "varRefreshCmd": "cat(var_dic_list()) "
    }
   },
   "types_to_exclude": [
    "module",
    "function",
    "builtin_function_or_method",
    "instance",
    "_Feature"
   ],
   "window_display": false
  }
 },
 "nbformat": 4,
 "nbformat_minor": 5
}
