{
 "cells": [
  {
   "cell_type": "markdown",
   "id": "c26979c2",
   "metadata": {},
   "source": [
    "## Generate Dataset for Multi-Class Classification with four classes"
   ]
  },
  {
   "cell_type": "markdown",
   "id": "52a0f577",
   "metadata": {},
   "source": [
    "#### Classes that will be extraced for prediction\n",
    "- opacity\n",
    "- normal\n",
    "- glaucoma\n",
    "- macular degeneration"
   ]
  },
  {
   "cell_type": "code",
   "execution_count": 11,
   "id": "9f3963fd",
   "metadata": {},
   "outputs": [],
   "source": [
    "import pandas as pd\n",
    "import os"
   ]
  },
  {
   "cell_type": "code",
   "execution_count": 2,
   "id": "2f69a1a7",
   "metadata": {},
   "outputs": [
    {
     "data": {
      "text/html": [
       "<div>\n",
       "<style scoped>\n",
       "    .dataframe tbody tr th:only-of-type {\n",
       "        vertical-align: middle;\n",
       "    }\n",
       "\n",
       "    .dataframe tbody tr th {\n",
       "        vertical-align: top;\n",
       "    }\n",
       "\n",
       "    .dataframe thead th {\n",
       "        text-align: right;\n",
       "    }\n",
       "</style>\n",
       "<table border=\"1\" class=\"dataframe\">\n",
       "  <thead>\n",
       "    <tr style=\"text-align: right;\">\n",
       "      <th></th>\n",
       "      <th>filename</th>\n",
       "      <th>opacity</th>\n",
       "      <th>diabetic retinopathy</th>\n",
       "      <th>glaucoma</th>\n",
       "      <th>macular edema</th>\n",
       "      <th>macular degeneration</th>\n",
       "      <th>retinal vascular occlusion</th>\n",
       "      <th>normal</th>\n",
       "      <th>new</th>\n",
       "    </tr>\n",
       "  </thead>\n",
       "  <tbody>\n",
       "    <tr>\n",
       "      <th>0</th>\n",
       "      <td>c24a1b14d253.jpg</td>\n",
       "      <td>0</td>\n",
       "      <td>0</td>\n",
       "      <td>0</td>\n",
       "      <td>0</td>\n",
       "      <td>0</td>\n",
       "      <td>1</td>\n",
       "      <td>0</td>\n",
       "      <td>retinal vascular occlusion</td>\n",
       "    </tr>\n",
       "    <tr>\n",
       "      <th>1</th>\n",
       "      <td>9ee905a41651.jpg</td>\n",
       "      <td>0</td>\n",
       "      <td>0</td>\n",
       "      <td>0</td>\n",
       "      <td>0</td>\n",
       "      <td>0</td>\n",
       "      <td>1</td>\n",
       "      <td>0</td>\n",
       "      <td>retinal vascular occlusion</td>\n",
       "    </tr>\n",
       "    <tr>\n",
       "      <th>2</th>\n",
       "      <td>3f58d128caf6.jpg</td>\n",
       "      <td>0</td>\n",
       "      <td>0</td>\n",
       "      <td>1</td>\n",
       "      <td>0</td>\n",
       "      <td>0</td>\n",
       "      <td>0</td>\n",
       "      <td>0</td>\n",
       "      <td>glaucoma</td>\n",
       "    </tr>\n",
       "    <tr>\n",
       "      <th>3</th>\n",
       "      <td>4ce6599e7b20.jpg</td>\n",
       "      <td>1</td>\n",
       "      <td>0</td>\n",
       "      <td>0</td>\n",
       "      <td>0</td>\n",
       "      <td>1</td>\n",
       "      <td>0</td>\n",
       "      <td>0</td>\n",
       "      <td>opacity, macular degeneration</td>\n",
       "    </tr>\n",
       "    <tr>\n",
       "      <th>4</th>\n",
       "      <td>0def470360e4.jpg</td>\n",
       "      <td>1</td>\n",
       "      <td>0</td>\n",
       "      <td>0</td>\n",
       "      <td>0</td>\n",
       "      <td>1</td>\n",
       "      <td>0</td>\n",
       "      <td>0</td>\n",
       "      <td>opacity, macular degeneration</td>\n",
       "    </tr>\n",
       "  </tbody>\n",
       "</table>\n",
       "</div>"
      ],
      "text/plain": [
       "           filename  opacity  diabetic retinopathy  glaucoma  macular edema  \\\n",
       "0  c24a1b14d253.jpg        0                     0         0              0   \n",
       "1  9ee905a41651.jpg        0                     0         0              0   \n",
       "2  3f58d128caf6.jpg        0                     0         1              0   \n",
       "3  4ce6599e7b20.jpg        1                     0         0              0   \n",
       "4  0def470360e4.jpg        1                     0         0              0   \n",
       "\n",
       "   macular degeneration  retinal vascular occlusion  normal  \\\n",
       "0                     0                           1       0   \n",
       "1                     0                           1       0   \n",
       "2                     0                           0       0   \n",
       "3                     1                           0       0   \n",
       "4                     1                           0       0   \n",
       "\n",
       "                             new  \n",
       "0     retinal vascular occlusion  \n",
       "1     retinal vascular occlusion  \n",
       "2                       glaucoma  \n",
       "3  opacity, macular degeneration  \n",
       "4  opacity, macular degeneration  "
      ]
     },
     "execution_count": 2,
     "metadata": {},
     "output_type": "execute_result"
    }
   ],
   "source": [
    "df = pd.read_csv('train_resampled.csv')\n",
    "df.head()"
   ]
  },
  {
   "cell_type": "code",
   "execution_count": 3,
   "id": "c21c4d1f",
   "metadata": {
    "scrolled": false
   },
   "outputs": [
    {
     "data": {
      "text/plain": [
       "retinal vascular occlusion                                                  500\n",
       "opacity                                                                     500\n",
       "glaucoma                                                                    500\n",
       "macular edema                                                               500\n",
       "diabetic retinopathy                                                        500\n",
       "normal                                                                      500\n",
       "macular degeneration                                                        500\n",
       "opacity, macular degeneration                                               212\n",
       "opacity, diabetic retinopathy                                               186\n",
       "diabetic retinopathy, macular edema                                         162\n",
       "opacity, diabetic retinopathy, macular edema                                154\n",
       "opacity, glaucoma                                                           140\n",
       "macular edema, retinal vascular occlusion                                    74\n",
       "opacity, macular edema, retinal vascular occlusion                           62\n",
       "opacity, retinal vascular occlusion                                          55\n",
       "glaucoma, macular degeneration                                               31\n",
       "glaucoma, retinal vascular occlusion                                         27\n",
       "opacity, glaucoma, macular degeneration                                      16\n",
       "diabetic retinopathy, glaucoma                                               15\n",
       "glaucoma, macular edema, retinal vascular occlusion                          14\n",
       "opacity, glaucoma, retinal vascular occlusion                                10\n",
       "opacity, glaucoma, macular edema, retinal vascular occlusion                  8\n",
       "diabetic retinopathy, retinal vascular occlusion                              5\n",
       "opacity, diabetic retinopathy, macular degeneration                           5\n",
       "opacity, diabetic retinopathy, retinal vascular occlusion                     4\n",
       "opacity, macular degeneration, retinal vascular occlusion                     3\n",
       "glaucoma, macular edema                                                       3\n",
       "diabetic retinopathy, glaucoma, macular edema                                 3\n",
       "diabetic retinopathy, macular degeneration                                    2\n",
       "macular degeneration, retinal vascular occlusion                              2\n",
       "opacity, diabetic retinopathy, macular edema, macular degeneration            2\n",
       "opacity, diabetic retinopathy, macular edema, retinal vascular occlusion      2\n",
       "diabetic retinopathy, macular edema, retinal vascular occlusion               2\n",
       "glaucoma, macular degeneration, retinal vascular occlusion                    2\n",
       "opacity, macular edema                                                        2\n",
       "opacity, diabetic retinopathy, glaucoma, macular edema                        1\n",
       "Name: new, dtype: int64"
      ]
     },
     "execution_count": 3,
     "metadata": {},
     "output_type": "execute_result"
    }
   ],
   "source": [
    "df.new.value_counts()"
   ]
  },
  {
   "cell_type": "code",
   "execution_count": 4,
   "id": "1b0c0c35",
   "metadata": {},
   "outputs": [],
   "source": [
    "images = df.loc[(df.new == 'opacity')|(df.new == 'normal')|(df.new == 'glaucoma')|(df.new == 'macular degeneration'), \n",
    "                'filename'].values.tolist()"
   ]
  },
  {
   "cell_type": "code",
   "execution_count": 12,
   "id": "3a6f280b",
   "metadata": {},
   "outputs": [],
   "source": [
    "for image in df.filename:\n",
    "    if image not in images:\n",
    "        os.remove(r'D:\\data\\Projects\\notebooks\\RetinaAI\\Multiclass\\four\\\\' + image)"
   ]
  },
  {
   "cell_type": "code",
   "execution_count": 14,
   "id": "91ca7047",
   "metadata": {},
   "outputs": [],
   "source": [
    "data = df[(df.new == 'opacity')|(df.new == 'normal')|(df.new == 'glaucoma')|(df.new == 'macular degeneration')]"
   ]
  },
  {
   "cell_type": "code",
   "execution_count": 15,
   "id": "67079be5",
   "metadata": {},
   "outputs": [
    {
     "data": {
      "text/plain": [
       "glaucoma                500\n",
       "macular degeneration    500\n",
       "opacity                 500\n",
       "normal                  500\n",
       "Name: new, dtype: int64"
      ]
     },
     "execution_count": 15,
     "metadata": {},
     "output_type": "execute_result"
    }
   ],
   "source": [
    "data.new.value_counts()"
   ]
  },
  {
   "cell_type": "code",
   "execution_count": 16,
   "id": "3c81e648",
   "metadata": {},
   "outputs": [],
   "source": [
    "image_list = os.listdir(r'D:\\data\\Projects\\notebooks\\RetinaAI\\Multiclass\\four\\\\')"
   ]
  },
  {
   "cell_type": "code",
   "execution_count": 17,
   "id": "b9a1a9ef",
   "metadata": {},
   "outputs": [],
   "source": [
    "filenames_list = data.filename.to_list()"
   ]
  },
  {
   "cell_type": "code",
   "execution_count": 18,
   "id": "1cc950d3",
   "metadata": {},
   "outputs": [
    {
     "data": {
      "text/plain": [
       "True"
      ]
     },
     "execution_count": 18,
     "metadata": {},
     "output_type": "execute_result"
    }
   ],
   "source": [
    "sorted(image_list) == sorted(filenames_list)"
   ]
  },
  {
   "cell_type": "code",
   "execution_count": 20,
   "id": "32a8cf20",
   "metadata": {},
   "outputs": [],
   "source": [
    "df = data[['filename', 'new']]\n",
    "df = df.rename(columns={'new':'labels'})"
   ]
  },
  {
   "cell_type": "code",
   "execution_count": 21,
   "id": "bfd425a5",
   "metadata": {},
   "outputs": [],
   "source": [
    "df.to_csv('train_four.csv', sep=',', encoding='utf-8', index=False)"
   ]
  }
 ],
 "metadata": {
  "kernelspec": {
   "display_name": "Python 3 (ipykernel)",
   "language": "python",
   "name": "python3"
  },
  "language_info": {
   "codemirror_mode": {
    "name": "ipython",
    "version": 3
   },
   "file_extension": ".py",
   "mimetype": "text/x-python",
   "name": "python",
   "nbconvert_exporter": "python",
   "pygments_lexer": "ipython3",
   "version": "3.9.5"
  },
  "varInspector": {
   "cols": {
    "lenName": 16,
    "lenType": 16,
    "lenVar": 40
   },
   "kernels_config": {
    "python": {
     "delete_cmd_postfix": "",
     "delete_cmd_prefix": "del ",
     "library": "var_list.py",
     "varRefreshCmd": "print(var_dic_list())"
    },
    "r": {
     "delete_cmd_postfix": ") ",
     "delete_cmd_prefix": "rm(",
     "library": "var_list.r",
     "varRefreshCmd": "cat(var_dic_list()) "
    }
   },
   "types_to_exclude": [
    "module",
    "function",
    "builtin_function_or_method",
    "instance",
    "_Feature"
   ],
   "window_display": false
  }
 },
 "nbformat": 4,
 "nbformat_minor": 5
}
