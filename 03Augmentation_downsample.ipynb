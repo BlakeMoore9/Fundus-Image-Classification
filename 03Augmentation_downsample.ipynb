{
 "cells": [
  {
   "cell_type": "code",
   "execution_count": 1,
   "id": "3572bef2",
   "metadata": {},
   "outputs": [],
   "source": [
    "import pandas as pd\n",
    "import numpy as np\n",
    "import matplotlib.pyplot as plt\n",
    "import cv2\n",
    "import os\n",
    "import random\n",
    "\n",
    "plt.rcParams[\"axes.grid\"] = False\n",
    "plt.style.use('dark_background')"
   ]
  },
  {
   "cell_type": "code",
   "execution_count": 3,
   "id": "d0b580a8",
   "metadata": {
    "scrolled": false
   },
   "outputs": [
    {
     "data": {
      "text/html": [
       "<div>\n",
       "<style scoped>\n",
       "    .dataframe tbody tr th:only-of-type {\n",
       "        vertical-align: middle;\n",
       "    }\n",
       "\n",
       "    .dataframe tbody tr th {\n",
       "        vertical-align: top;\n",
       "    }\n",
       "\n",
       "    .dataframe thead th {\n",
       "        text-align: right;\n",
       "    }\n",
       "</style>\n",
       "<table border=\"1\" class=\"dataframe\">\n",
       "  <thead>\n",
       "    <tr style=\"text-align: right;\">\n",
       "      <th></th>\n",
       "      <th>filename</th>\n",
       "      <th>opacity</th>\n",
       "      <th>diabetic retinopathy</th>\n",
       "      <th>glaucoma</th>\n",
       "      <th>macular edema</th>\n",
       "      <th>macular degeneration</th>\n",
       "      <th>retinal vascular occlusion</th>\n",
       "      <th>normal</th>\n",
       "      <th>new</th>\n",
       "    </tr>\n",
       "  </thead>\n",
       "  <tbody>\n",
       "    <tr>\n",
       "      <th>0</th>\n",
       "      <td>c24a1b14d253.jpg</td>\n",
       "      <td>0</td>\n",
       "      <td>0</td>\n",
       "      <td>0</td>\n",
       "      <td>0</td>\n",
       "      <td>0</td>\n",
       "      <td>1</td>\n",
       "      <td>0</td>\n",
       "      <td>retinal vascular occlusion</td>\n",
       "    </tr>\n",
       "    <tr>\n",
       "      <th>1</th>\n",
       "      <td>9ee905a41651.jpg</td>\n",
       "      <td>0</td>\n",
       "      <td>0</td>\n",
       "      <td>0</td>\n",
       "      <td>0</td>\n",
       "      <td>0</td>\n",
       "      <td>1</td>\n",
       "      <td>0</td>\n",
       "      <td>retinal vascular occlusion</td>\n",
       "    </tr>\n",
       "    <tr>\n",
       "      <th>2</th>\n",
       "      <td>3f58d128caf6.jpg</td>\n",
       "      <td>0</td>\n",
       "      <td>0</td>\n",
       "      <td>1</td>\n",
       "      <td>0</td>\n",
       "      <td>0</td>\n",
       "      <td>0</td>\n",
       "      <td>0</td>\n",
       "      <td>glaucoma</td>\n",
       "    </tr>\n",
       "    <tr>\n",
       "      <th>3</th>\n",
       "      <td>4ce6599e7b20.jpg</td>\n",
       "      <td>1</td>\n",
       "      <td>0</td>\n",
       "      <td>0</td>\n",
       "      <td>0</td>\n",
       "      <td>1</td>\n",
       "      <td>0</td>\n",
       "      <td>0</td>\n",
       "      <td>opacity, macular degeneration</td>\n",
       "    </tr>\n",
       "    <tr>\n",
       "      <th>4</th>\n",
       "      <td>0def470360e4.jpg</td>\n",
       "      <td>1</td>\n",
       "      <td>0</td>\n",
       "      <td>0</td>\n",
       "      <td>0</td>\n",
       "      <td>1</td>\n",
       "      <td>0</td>\n",
       "      <td>0</td>\n",
       "      <td>opacity, macular degeneration</td>\n",
       "    </tr>\n",
       "  </tbody>\n",
       "</table>\n",
       "</div>"
      ],
      "text/plain": [
       "           filename  opacity  diabetic retinopathy  glaucoma  macular edema  \\\n",
       "0  c24a1b14d253.jpg        0                     0         0              0   \n",
       "1  9ee905a41651.jpg        0                     0         0              0   \n",
       "2  3f58d128caf6.jpg        0                     0         1              0   \n",
       "3  4ce6599e7b20.jpg        1                     0         0              0   \n",
       "4  0def470360e4.jpg        1                     0         0              0   \n",
       "\n",
       "   macular degeneration  retinal vascular occlusion  normal  \\\n",
       "0                     0                           1       0   \n",
       "1                     0                           1       0   \n",
       "2                     0                           0       0   \n",
       "3                     1                           0       0   \n",
       "4                     1                           0       0   \n",
       "\n",
       "                             new  \n",
       "0     retinal vascular occlusion  \n",
       "1     retinal vascular occlusion  \n",
       "2                       glaucoma  \n",
       "3  opacity, macular degeneration  \n",
       "4  opacity, macular degeneration  "
      ]
     },
     "execution_count": 3,
     "metadata": {},
     "output_type": "execute_result"
    }
   ],
   "source": [
    "df = pd.read_csv('train2.csv')\n",
    "df.head()"
   ]
  },
  {
   "cell_type": "code",
   "execution_count": 20,
   "id": "4b240215",
   "metadata": {},
   "outputs": [
    {
     "data": {
      "text/plain": [
       "(3147, 9)"
      ]
     },
     "execution_count": 20,
     "metadata": {},
     "output_type": "execute_result"
    }
   ],
   "source": [
    "df.shape"
   ]
  },
  {
   "cell_type": "code",
   "execution_count": 3,
   "id": "42bcdef9",
   "metadata": {
    "scrolled": false
   },
   "outputs": [
    {
     "data": {
      "text/plain": [
       "opacity                                             671\n",
       "normal                                              525\n",
       "glaucoma                                            327\n",
       "macular degeneration                                299\n",
       "opacity, macular degeneration                       212\n",
       "diabetic retinopathy                                212\n",
       "opacity, diabetic retinopathy                       186\n",
       "retinal vascular occlusion                          170\n",
       "diabetic retinopathy, macular edema                 162\n",
       "opacity, glaucoma                                   140\n",
       "macular edema, retinal vascular occlusion            74\n",
       "opacity, retinal vascular occlusion                  55\n",
       "glaucoma, macular degeneration                       31\n",
       "glaucoma, retinal vascular occlusion                 27\n",
       "macular edema                                        27\n",
       "diabetic retinopathy, glaucoma                       15\n",
       "diabetic retinopathy, retinal vascular occlusion      5\n",
       "glaucoma, macular edema                               3\n",
       "macular degeneration, retinal vascular occlusion      2\n",
       "opacity, macular edema                                2\n",
       "diabetic retinopathy, macular degeneration            2\n",
       "Name: new, dtype: int64"
      ]
     },
     "execution_count": 3,
     "metadata": {},
     "output_type": "execute_result"
    }
   ],
   "source": [
    "df.new.value_counts()"
   ]
  },
  {
   "cell_type": "markdown",
   "id": "f7c2dc35",
   "metadata": {},
   "source": [
    "### Experiment 1\n",
    "- Upsample/Downsample only the single cases to 500 and see, if double cases will still be recognized"
   ]
  },
  {
   "cell_type": "markdown",
   "id": "2160df3b",
   "metadata": {},
   "source": [
    "### Experiment 2\n",
    "- Labels with 2, 3 and 5 Instances: delete 14 rows\n",
    "- Labels with 15-74 Instances: upsampling to 400 with rotation+/-, horzontal flip, vertical flip, channel shift (15x26=400) \n",
    "- Labels with more than 140 instances: upsampling to 400\n",
    "- Labels with more than 500 instances: downsampling to 400"
   ]
  },
  {
   "cell_type": "markdown",
   "id": "1c2c26e0",
   "metadata": {},
   "source": [
    "## Experiment 1"
   ]
  },
  {
   "cell_type": "markdown",
   "id": "cffba1b7",
   "metadata": {},
   "source": [
    "### Downsample normal and opacity"
   ]
  },
  {
   "cell_type": "code",
   "execution_count": 5,
   "id": "9c667de8",
   "metadata": {},
   "outputs": [],
   "source": [
    "# randomly delete images with only opacity to downsample to 500 and drop corresponding row\n",
    "#Fehler: np.random hat eine Datei 23 mal ausgesucht. replace=False sollte helfen, hat es aber nicht\n",
    "#rand_im = [np.random.choice(images, replace=False) for i in range(171)]\n",
    "#rand_im.index('86a2f4eb36ce.jpg')"
   ]
  },
  {
   "cell_type": "raw",
   "id": "01d31941",
   "metadata": {},
   "source": [
    "def downsample(cat, instances):\n",
    "    images = df.loc[(df.new == cat), 'filename'].values.tolist()\n",
    "    rand_im = random.sample(images, instances)\n",
    "    for image in rand_im:\n",
    "        os.remove('D:/data/Projects/notebooks/RetinaAI/train_new/' + image) \n",
    "    print(rand_im)"
   ]
  },
  {
   "cell_type": "code",
   "execution_count": null,
   "id": "ec1355e7",
   "metadata": {},
   "outputs": [],
   "source": [
    "# randomly delete images with only normal to downsample to 500 and drop corresponding row"
   ]
  },
  {
   "cell_type": "code",
   "execution_count": 18,
   "id": "46750c45",
   "metadata": {
    "scrolled": true
   },
   "outputs": [
    {
     "name": "stdout",
     "output_type": "stream",
     "text": [
      "['c50c4eda2979.jpg', 'e0ec0bd72219.jpg', '91a41dd87d24.jpg', '982a69e7e643.jpg', '8df428037090.jpg', '26517e8ee001.jpg', '80281991a0d1.jpg', '57a895b2e5e8.jpg', '3a58fc3e2f68.jpg', 'c022888ee894.jpg', '48a2b5ae3ed9.jpg', '97ea1365c513.jpg', '4404cccb8434.jpg', 'ed1294df0216.jpg', '256f1cd27c22.jpg', 'e23fafd467ad.jpg', '3330a27f96fd.jpg', 'f68d64049e4a.jpg', '44848f205e96.jpg', 'a56e4d805912.jpg', 'f67f10975eef.jpg', '21fa12b5d219.jpg', '9c9ea0f8f7bf.jpg', '738684d432b7.jpg', '9261f02bedb0.jpg']\n"
     ]
    }
   ],
   "source": [
    "#downsample('normal', 25)"
   ]
  },
  {
   "cell_type": "code",
   "execution_count": 19,
   "id": "9de582b2",
   "metadata": {
    "scrolled": true
   },
   "outputs": [
    {
     "name": "stdout",
     "output_type": "stream",
     "text": [
      "['09a58f5d52c4.jpg', '7c627414b595.jpg', '41a4c94eb846.jpg', 'e87d2eb72f62.jpg', 'bc8ce4660640.jpg', 'fab49a013c13.jpg', 'ae1656d96d18.jpg', 'eef26fbd8061.jpg', '80009967474e.jpg', '33dfbf13fd75.jpg', '244b85b1de3f.jpg', '2a830198259b.jpg', '7b39fb001764.jpg', '7ef1ac9fddc2.jpg', 'ccd7e6bfef58.jpg', 'c138cca7bd0c.jpg', '93014fc04656.jpg', '59612b54b41b.jpg', '3b8080fb2d34.jpg', '764b008ec26f.jpg', '6fbb95a10d8e.jpg', 'ed205e61f072.jpg', 'd63c87e5c7a3.jpg', 'dbaae430ffc3.jpg', '0056b75f7627.jpg', '2f41bed25d94.jpg', '40b0da976d9b.jpg', 'ba1a5cb5b139.jpg', 'fe82dd356325.jpg', '3d1a96bced4f.jpg', '766dfd258afd.jpg', '4ad9d8a014f2.jpg', 'b13429b39ff0.jpg', 'ccbe09dcf066.jpg', '1dff472aff29.jpg', '909925f2bbee.jpg', 'ae008545ce81.jpg', '3e519424900e.jpg', 'b8b65f9121e4.jpg', '5f581f1dee99.jpg', '26493786f81b.jpg', '6683cd1c9b3b.jpg', '5e374e4bd008.jpg', '7ee2fa2f4019.jpg', 'ede3a0953ac6.jpg', '677a44962504.jpg', '15bbd165c88b.jpg', 'af2b0b5c519a.jpg', '3f0c768b764e.jpg', 'bb95b34af7a9.jpg', '79c63b3ed8ae.jpg', 'e82f99781ae8.jpg', '8451465343df.jpg', 'b415a1e39b15.jpg', '3f78c1d49341.jpg', 'fc8defa9a696.jpg', '592c8f680c46.jpg', 'f040a336e19c.jpg', 'e733b2b38188.jpg', 'ffea3b0abccf.jpg', 'b003d44c48d3.jpg', '8294533ce2c3.jpg', 'f66ead1505c2.jpg', '7e43317bd835.jpg', '76912935cfd8.jpg', '98c149511cda.jpg', '28fbf39f96f8.jpg', '012e91949ec4.jpg', 'dfa0d81dca91.jpg', '50c7fdd1e6ed.jpg', '9510d0867d9a.jpg', 'fe39996c8267.jpg', '3cf275051cb8.jpg', '16ef2d42c24b.jpg', 'f9378c7ebf0b.jpg', '06a6c5d1a41e.jpg', 'e6d066d41b9b.jpg', '9abd0ea81b3b.jpg', '17b7942e6561.jpg', 'e43722f4fef0.jpg', '53d8aef79977.jpg', '6a89e15fcce3.jpg', 'c878e6a45e1b.jpg', 'febce91521dc.jpg', 'de952deada91.jpg', '5156411c155a.jpg', '53719f727403.jpg', 'cbda59260880.jpg', 'c7d15985bfd0.jpg', 'efb1ae7db959.jpg', 'fafe8d6db2b3.jpg', '02840e6a14e2.jpg', '1d22c859b7fd.jpg', '2067e7554ee2.jpg', '6431d94b6c54.jpg', '3907f7070535.jpg', 'f3ec24dadd3e.jpg', '03ce7c893a99.jpg', 'd2827987e7e6.jpg', '436557ff1340.jpg', '1d1b8aa41b39.jpg', 'f7eced961a9b.jpg', '29dcdcd5eea4.jpg', 'c8b9637cd338.jpg', '06c3122899e7.jpg', '6d005a60745f.jpg', 'c3bce73b4a49.jpg', 'f0055237f646.jpg', 'e27edbbc8456.jpg', 'b5b1e4c722b4.jpg', '09d81f09c306.jpg', 'a8b33fbd89ce.jpg', '86a2f4eb36ce.jpg', 'd5f8eceb6263.jpg', 'c0282aa6609f.jpg', '8943c0133278.jpg', 'ac713827c7cb.jpg', '50750b6d117c.jpg', 'ff56c87808fa.jpg', 'e901d2dece0f.jpg', 'e9189b155c9b.jpg', 'bebbb26d1f1d.jpg', '306afd7b9ebf.jpg', '7728bf2577f3.jpg', 'fb219babc648.jpg', '2f2fa76788f3.jpg', 'd631c81e51f2.jpg', '3cc790793d9f.jpg', '78406135ccdb.jpg', '582e9f7af2ae.jpg', '1a2567b7cb1b.jpg', 'b70eb39c9e4a.jpg', '88ac46f5f21b.jpg', '22c0da6369c0.jpg', 'c922c538915e.jpg', '89b2f8a5df5b.jpg', 'e8cd8fe9a858.jpg', '73cb0e282cb0.jpg', '89f52c955039.jpg', '4753439c7f46.jpg', 'd2adc26acebc.jpg', '3c2c970c466d.jpg', 'd7166dc96f4b.jpg', '18b78cf415c1.jpg', '6fbfbe164a0e.jpg', '7ed3f9e6e52f.jpg', 'a85226fe5d5b.jpg', 'a764e26bcf8e.jpg', '86a591a2fe43.jpg', 'e1fa01dcaef3.jpg', 'a871a1fe5222.jpg', 'b348efa764af.jpg', '7f47121ab858.jpg', '6427c74113ad.jpg', '9049590eef6b.jpg', 'ae1f1fb9af6e.jpg', '8a7ac84558f8.jpg', 'eec52dffcecc.jpg', 'f8e3ad5ec600.jpg', '2760ad30a5c0.jpg', 'eee73cb8aeb1.jpg', '2401c17651ba.jpg', '9ed97c08cc66.jpg', '1335a7fa63ef.jpg', '1868f896740e.jpg', 'ba2f4900c169.jpg', '94973b732f82.jpg', 'ad650b2c1bfe.jpg', 'c989dc002c81.jpg', 'a7b493d32dfd.jpg', '875ee3025749.jpg']\n"
     ]
    }
   ],
   "source": [
    "#downsample('opacity', 171)"
   ]
  },
  {
   "cell_type": "code",
   "execution_count": 11,
   "id": "2c14d589",
   "metadata": {},
   "outputs": [],
   "source": [
    "uber_lange_liste = ['09a58f5d52c4.jpg', '7c627414b595.jpg', '41a4c94eb846.jpg', 'e87d2eb72f62.jpg', 'bc8ce4660640.jpg', 'fab49a013c13.jpg', 'ae1656d96d18.jpg', 'eef26fbd8061.jpg', '80009967474e.jpg', '33dfbf13fd75.jpg', '244b85b1de3f.jpg', '2a830198259b.jpg', '7b39fb001764.jpg', '7ef1ac9fddc2.jpg', 'ccd7e6bfef58.jpg', 'c138cca7bd0c.jpg', '93014fc04656.jpg', '59612b54b41b.jpg', '3b8080fb2d34.jpg', '764b008ec26f.jpg', '6fbb95a10d8e.jpg', 'ed205e61f072.jpg', 'd63c87e5c7a3.jpg', 'dbaae430ffc3.jpg', '0056b75f7627.jpg', '2f41bed25d94.jpg', '40b0da976d9b.jpg', 'ba1a5cb5b139.jpg', 'fe82dd356325.jpg', '3d1a96bced4f.jpg', '766dfd258afd.jpg', '4ad9d8a014f2.jpg', 'b13429b39ff0.jpg', 'ccbe09dcf066.jpg', '1dff472aff29.jpg', '909925f2bbee.jpg', 'ae008545ce81.jpg', '3e519424900e.jpg', 'b8b65f9121e4.jpg', '5f581f1dee99.jpg', '26493786f81b.jpg', '6683cd1c9b3b.jpg', '5e374e4bd008.jpg', '7ee2fa2f4019.jpg', 'ede3a0953ac6.jpg', '677a44962504.jpg', '15bbd165c88b.jpg', 'af2b0b5c519a.jpg', '3f0c768b764e.jpg', 'bb95b34af7a9.jpg', '79c63b3ed8ae.jpg', 'e82f99781ae8.jpg', '8451465343df.jpg', 'b415a1e39b15.jpg', '3f78c1d49341.jpg', 'fc8defa9a696.jpg', '592c8f680c46.jpg', 'f040a336e19c.jpg', 'e733b2b38188.jpg', 'ffea3b0abccf.jpg', 'b003d44c48d3.jpg', '8294533ce2c3.jpg', 'f66ead1505c2.jpg', '7e43317bd835.jpg', '76912935cfd8.jpg', '98c149511cda.jpg', '28fbf39f96f8.jpg', '012e91949ec4.jpg', 'dfa0d81dca91.jpg', '50c7fdd1e6ed.jpg', '9510d0867d9a.jpg', 'fe39996c8267.jpg', '3cf275051cb8.jpg', '16ef2d42c24b.jpg', 'f9378c7ebf0b.jpg', '06a6c5d1a41e.jpg', 'e6d066d41b9b.jpg', '9abd0ea81b3b.jpg', '17b7942e6561.jpg', 'e43722f4fef0.jpg', '53d8aef79977.jpg', '6a89e15fcce3.jpg', 'c878e6a45e1b.jpg', 'febce91521dc.jpg', 'de952deada91.jpg', '5156411c155a.jpg', '53719f727403.jpg', 'cbda59260880.jpg', 'c7d15985bfd0.jpg', 'efb1ae7db959.jpg', 'fafe8d6db2b3.jpg', '02840e6a14e2.jpg', '1d22c859b7fd.jpg', '2067e7554ee2.jpg', '6431d94b6c54.jpg', '3907f7070535.jpg', 'f3ec24dadd3e.jpg', '03ce7c893a99.jpg', 'd2827987e7e6.jpg', '436557ff1340.jpg', '1d1b8aa41b39.jpg', 'f7eced961a9b.jpg', '29dcdcd5eea4.jpg', 'c8b9637cd338.jpg', '06c3122899e7.jpg', '6d005a60745f.jpg', 'c3bce73b4a49.jpg', 'f0055237f646.jpg', 'e27edbbc8456.jpg', 'b5b1e4c722b4.jpg', '09d81f09c306.jpg', 'a8b33fbd89ce.jpg', '86a2f4eb36ce.jpg', 'd5f8eceb6263.jpg', 'c0282aa6609f.jpg', '8943c0133278.jpg', 'ac713827c7cb.jpg', '50750b6d117c.jpg', 'ff56c87808fa.jpg', 'e901d2dece0f.jpg', 'e9189b155c9b.jpg', 'bebbb26d1f1d.jpg', '306afd7b9ebf.jpg', '7728bf2577f3.jpg', 'fb219babc648.jpg', '2f2fa76788f3.jpg', 'd631c81e51f2.jpg', '3cc790793d9f.jpg', '78406135ccdb.jpg', '582e9f7af2ae.jpg', '1a2567b7cb1b.jpg', 'b70eb39c9e4a.jpg', '88ac46f5f21b.jpg', '22c0da6369c0.jpg', 'c922c538915e.jpg', '89b2f8a5df5b.jpg', 'e8cd8fe9a858.jpg', '73cb0e282cb0.jpg', '89f52c955039.jpg', '4753439c7f46.jpg', 'd2adc26acebc.jpg', '3c2c970c466d.jpg', 'd7166dc96f4b.jpg', '18b78cf415c1.jpg', '6fbfbe164a0e.jpg', '7ed3f9e6e52f.jpg', 'a85226fe5d5b.jpg', 'a764e26bcf8e.jpg', '86a591a2fe43.jpg', 'e1fa01dcaef3.jpg', 'a871a1fe5222.jpg', 'b348efa764af.jpg', '7f47121ab858.jpg', '6427c74113ad.jpg', '9049590eef6b.jpg', 'ae1f1fb9af6e.jpg', '8a7ac84558f8.jpg', 'eec52dffcecc.jpg', 'f8e3ad5ec600.jpg', '2760ad30a5c0.jpg', 'eee73cb8aeb1.jpg', '2401c17651ba.jpg', '9ed97c08cc66.jpg', '1335a7fa63ef.jpg', '1868f896740e.jpg', 'ba2f4900c169.jpg', '94973b732f82.jpg', 'ad650b2c1bfe.jpg', 'c989dc002c81.jpg', 'a7b493d32dfd.jpg', '875ee3025749.jpg']"
   ]
  },
  {
   "cell_type": "code",
   "execution_count": 4,
   "id": "d8bf3a07",
   "metadata": {},
   "outputs": [],
   "source": [
    "lange_liste = ['c50c4eda2979.jpg', 'e0ec0bd72219.jpg', '91a41dd87d24.jpg', '982a69e7e643.jpg', '8df428037090.jpg', \n",
    "               '26517e8ee001.jpg', '80281991a0d1.jpg', '57a895b2e5e8.jpg', '3a58fc3e2f68.jpg', 'c022888ee894.jpg', \n",
    "               '48a2b5ae3ed9.jpg', '97ea1365c513.jpg', '4404cccb8434.jpg', 'ed1294df0216.jpg', '256f1cd27c22.jpg', \n",
    "               'e23fafd467ad.jpg', '3330a27f96fd.jpg', 'f68d64049e4a.jpg', '44848f205e96.jpg', 'a56e4d805912.jpg', \n",
    "               'f67f10975eef.jpg', '21fa12b5d219.jpg', '9c9ea0f8f7bf.jpg', '738684d432b7.jpg', '9261f02bedb0.jpg']"
   ]
  },
  {
   "cell_type": "code",
   "execution_count": 24,
   "id": "d22b60d5",
   "metadata": {},
   "outputs": [],
   "source": [
    "# bild in ordner suchen, wenn nicht da, in dataframe löschen\n",
    "# wenn funktion bild löscht, gleich reihe in dataframe löschen"
   ]
  },
  {
   "cell_type": "code",
   "execution_count": 15,
   "id": "0b0a44b3",
   "metadata": {},
   "outputs": [
    {
     "name": "stderr",
     "output_type": "stream",
     "text": [
      "<ipython-input-15-96733c3f96de>:3: UserWarning: Boolean Series key will be reindexed to match DataFrame index.\n",
      "  df_new = df_new[~df.filename.isin(uber_lange_liste)]\n"
     ]
    }
   ],
   "source": [
    "# entweder liste von oben nutzen, um dataframe zu reduzieren\n",
    "df_new = df[~df.filename.isin(lange_liste)]\n",
    "df_new = df_new[~df.filename.isin(uber_lange_liste)]"
   ]
  },
  {
   "cell_type": "code",
   "execution_count": 16,
   "id": "3550eed7",
   "metadata": {},
   "outputs": [
    {
     "data": {
      "text/plain": [
       "(2951, 9)"
      ]
     },
     "execution_count": 16,
     "metadata": {},
     "output_type": "execute_result"
    }
   ],
   "source": [
    "df_new.shape"
   ]
  },
  {
   "cell_type": "code",
   "execution_count": 17,
   "id": "0e380e63",
   "metadata": {
    "scrolled": false
   },
   "outputs": [
    {
     "data": {
      "text/plain": [
       "normal                                              500\n",
       "opacity                                             500\n",
       "glaucoma                                            327\n",
       "macular degeneration                                299\n",
       "diabetic retinopathy                                212\n",
       "opacity, macular degeneration                       212\n",
       "opacity, diabetic retinopathy                       186\n",
       "retinal vascular occlusion                          170\n",
       "diabetic retinopathy, macular edema                 162\n",
       "opacity, glaucoma                                   140\n",
       "macular edema, retinal vascular occlusion            74\n",
       "opacity, retinal vascular occlusion                  55\n",
       "glaucoma, macular degeneration                       31\n",
       "macular edema                                        27\n",
       "glaucoma, retinal vascular occlusion                 27\n",
       "diabetic retinopathy, glaucoma                       15\n",
       "diabetic retinopathy, retinal vascular occlusion      5\n",
       "glaucoma, macular edema                               3\n",
       "macular degeneration, retinal vascular occlusion      2\n",
       "diabetic retinopathy, macular degeneration            2\n",
       "opacity, macular edema                                2\n",
       "Name: new, dtype: int64"
      ]
     },
     "execution_count": 17,
     "metadata": {},
     "output_type": "execute_result"
    }
   ],
   "source": [
    "df_new.new.value_counts()"
   ]
  },
  {
   "cell_type": "code",
   "execution_count": 18,
   "id": "7115e175",
   "metadata": {},
   "outputs": [],
   "source": [
    "# downgesampleten datensatz speichern\n",
    "df_new.to_csv('train3.csv', sep=',', encoding='utf-8', index=False)"
   ]
  },
  {
   "cell_type": "code",
   "execution_count": null,
   "id": "9eb60c59",
   "metadata": {},
   "outputs": [],
   "source": []
  },
  {
   "cell_type": "code",
   "execution_count": null,
   "id": "e0a5b20b",
   "metadata": {},
   "outputs": [],
   "source": []
  },
  {
   "cell_type": "code",
   "execution_count": null,
   "id": "39d30080",
   "metadata": {},
   "outputs": [],
   "source": []
  },
  {
   "cell_type": "code",
   "execution_count": null,
   "id": "e0c0a92b",
   "metadata": {},
   "outputs": [],
   "source": []
  },
  {
   "cell_type": "code",
   "execution_count": null,
   "id": "4ab96627",
   "metadata": {},
   "outputs": [],
   "source": []
  }
 ],
 "metadata": {
  "kernelspec": {
   "display_name": "Python 3",
   "language": "python",
   "name": "python3"
  },
  "language_info": {
   "codemirror_mode": {
    "name": "ipython",
    "version": 3
   },
   "file_extension": ".py",
   "mimetype": "text/x-python",
   "name": "python",
   "nbconvert_exporter": "python",
   "pygments_lexer": "ipython3",
   "version": "3.8.8"
  },
  "varInspector": {
   "cols": {
    "lenName": 16,
    "lenType": 16,
    "lenVar": 40
   },
   "kernels_config": {
    "python": {
     "delete_cmd_postfix": "",
     "delete_cmd_prefix": "del ",
     "library": "var_list.py",
     "varRefreshCmd": "print(var_dic_list())"
    },
    "r": {
     "delete_cmd_postfix": ") ",
     "delete_cmd_prefix": "rm(",
     "library": "var_list.r",
     "varRefreshCmd": "cat(var_dic_list()) "
    }
   },
   "types_to_exclude": [
    "module",
    "function",
    "builtin_function_or_method",
    "instance",
    "_Feature"
   ],
   "window_display": false
  }
 },
 "nbformat": 4,
 "nbformat_minor": 5
}
