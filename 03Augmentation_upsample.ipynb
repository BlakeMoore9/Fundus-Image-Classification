{
 "cells": [
  {
   "cell_type": "raw",
   "id": "4fc7fd84",
   "metadata": {},
   "source": [
    "Kann ich es nicht komplett automatisieren:\n",
    "1. Methodenaufruf innerhalb meiner Funktion (Image.xx --> Image.ROTATE_90)\n",
    "2. Dataframe innerhalb der Funktion erstellen mit 1 für die gegebene category und alle anderen 0\n",
    "3. Dataframe innerhalb der Funktion gleich an das alte dranhängen"
   ]
  },
  {
   "cell_type": "code",
   "execution_count": 1,
   "id": "3c3e83e7",
   "metadata": {},
   "outputs": [],
   "source": [
    "### Test new library imgaug https://github.com/aleju/imgaug"
   ]
  },
  {
   "cell_type": "code",
   "execution_count": 2,
   "id": "d5ed2f2e",
   "metadata": {},
   "outputs": [],
   "source": [
    "import pandas as pd\n",
    "import numpy as np\n",
    "import matplotlib.pyplot as plt\n",
    "import cv2\n",
    "import os\n",
    "import random\n",
    "from PIL import Image\n",
    "\n",
    "plt.rcParams[\"axes.grid\"] = False\n",
    "plt.style.use('dark_background')"
   ]
  },
  {
   "cell_type": "code",
   "execution_count": 3,
   "id": "2b3d4d3e",
   "metadata": {},
   "outputs": [
    {
     "data": {
      "text/plain": [
       "(2951, 9)"
      ]
     },
     "execution_count": 3,
     "metadata": {},
     "output_type": "execute_result"
    }
   ],
   "source": [
    "# downsampled dataset from augmentation_downsample\n",
    "df = pd.read_csv('train3.csv')\n",
    "df.shape"
   ]
  },
  {
   "cell_type": "markdown",
   "id": "c98fa14d",
   "metadata": {},
   "source": [
    "### Upsample glaucoma, macular degeneration, diabetic retinopathy, retinal vascular occlusion, makular edema\n",
    "- Ordner in train_downsampled umbenannt und kopie gemacht, die train_upsampled heißt"
   ]
  },
  {
   "cell_type": "markdown",
   "id": "66db0965",
   "metadata": {},
   "source": [
    "### Use Pillow to flip and rotate"
   ]
  },
  {
   "cell_type": "code",
   "execution_count": 4,
   "id": "8e485ccb",
   "metadata": {},
   "outputs": [],
   "source": [
    "# Glaucoma 327-500 = -173 new samples are needed\n",
    "# take randomly 50 and flip in two directions +100\n",
    "# take 73 and rotate + 73"
   ]
  },
  {
   "cell_type": "code",
   "execution_count": 5,
   "id": "5ba1e365",
   "metadata": {},
   "outputs": [],
   "source": [
    "# category: illness, instances: no of rows, in_dir: read from, out_dir: save to\n",
    "# way: FLIP_LEFT_RIGHT; FLIP_TOP_BOTTOM; ROTATE_90\n",
    "\n",
    "def ftb(category, instances, in_dir, out_dir):\n",
    "    new_ftb = []\n",
    "    images = df.loc[(df.new == category), 'filename'].values.tolist()\n",
    "    rand_im = random.sample(images, instances)\n",
    "    for image in rand_im:\n",
    "        img = Image.open(in_dir+'\\\\'+image)\n",
    "        flip = img.transpose(Image.FLIP_TOP_BOTTOM)\n",
    "        image = 'ftb_'+image\n",
    "        new_ftb.append(image)\n",
    "        flip.save(out_dir+'\\\\'+image)\n",
    "    return(new_ftb)"
   ]
  },
  {
   "cell_type": "code",
   "execution_count": 6,
   "id": "f48f0bcb",
   "metadata": {},
   "outputs": [],
   "source": [
    "new_ftb = ftb('glaucoma', 50, r'D:\\data\\Projects\\notebooks\\RetinaAI\\train_upsample', r'D:\\data\\Projects\\notebooks\\RetinaAI\\test')"
   ]
  },
  {
   "cell_type": "markdown",
   "id": "073670ad",
   "metadata": {},
   "source": [
    "Eine Liste der neuen Bilder muss im Datensatz aufgenommen werden"
   ]
  },
  {
   "cell_type": "code",
   "execution_count": 7,
   "id": "70108bc0",
   "metadata": {},
   "outputs": [],
   "source": [
    "# neuer datensatz\n",
    "df_glaucoma_ftb = pd.DataFrame({'filename': new_ftb,  'opacity':0, 'diabetic retinopathy':0, 'glaucoma':1,\n",
    "       'macular edema':0, 'macular degeneration':0, 'retinal vascular occlusion':0,\n",
    "       'normal':0, 'new':'glaucoma'})"
   ]
  },
  {
   "cell_type": "code",
   "execution_count": 8,
   "id": "4e2ec935",
   "metadata": {},
   "outputs": [],
   "source": [
    "def flr(category, instances, in_dir, out_dir):\n",
    "    new_flr = []\n",
    "    images = df.loc[(df.new == category), 'filename'].values.tolist()\n",
    "    rand_im = random.sample(images, instances)\n",
    "    for image in rand_im:\n",
    "        img = Image.open(in_dir+'\\\\'+image)\n",
    "        flip = img.transpose(Image.FLIP_LEFT_RIGHT)\n",
    "        image = 'flr_'+image\n",
    "        new_flr.append(image)\n",
    "        flip.save(out_dir+'\\\\'+image)\n",
    "    return(new_flr)"
   ]
  },
  {
   "cell_type": "code",
   "execution_count": 9,
   "id": "574e0ae9",
   "metadata": {},
   "outputs": [],
   "source": [
    "new_flr = flr('glaucoma', 50, r'D:\\data\\Projects\\notebooks\\RetinaAI\\train_upsample', r'D:\\data\\Projects\\notebooks\\RetinaAI\\test')"
   ]
  },
  {
   "cell_type": "code",
   "execution_count": 10,
   "id": "6b86d636",
   "metadata": {},
   "outputs": [],
   "source": [
    "# neuer datensatz\n",
    "df_glaucoma_flr = pd.DataFrame({'filename': new_flr,  'opacity':0, 'diabetic retinopathy':0, 'glaucoma':1,\n",
    "       'macular edema':0, 'macular degeneration':0, 'retinal vascular occlusion':0,\n",
    "       'normal':0, 'new':'glaucoma'})"
   ]
  },
  {
   "cell_type": "code",
   "execution_count": 11,
   "id": "abd5913a",
   "metadata": {},
   "outputs": [],
   "source": [
    "def rotate(category, instances, in_dir, out_dir):\n",
    "    new_r = []\n",
    "    images = df.loc[(df.new == category), 'filename'].values.tolist()\n",
    "    rand_im = random.sample(images, instances)\n",
    "    for image in rand_im:\n",
    "        img = Image.open(in_dir+'\\\\'+image)\n",
    "        flip = img.transpose(Image.ROTATE_90)\n",
    "        image = 'r_'+image\n",
    "        new_r.append(image)\n",
    "        flip.save(out_dir+'\\\\'+image)\n",
    "    return(new_r)"
   ]
  },
  {
   "cell_type": "code",
   "execution_count": 12,
   "id": "089ea209",
   "metadata": {},
   "outputs": [],
   "source": [
    "new_r = rotate('glaucoma', 73, r'D:\\data\\Projects\\notebooks\\RetinaAI\\train_upsample', r'D:\\data\\Projects\\notebooks\\RetinaAI\\test')"
   ]
  },
  {
   "cell_type": "code",
   "execution_count": 13,
   "id": "9d1c18f9",
   "metadata": {},
   "outputs": [],
   "source": [
    "# neuer datensatz\n",
    "df_glaucoma_r = pd.DataFrame({'filename': new_r,  'opacity':0, 'diabetic retinopathy':0, 'glaucoma':1,\n",
    "       'macular edema':0, 'macular degeneration':0, 'retinal vascular occlusion':0,\n",
    "       'normal':0, 'new':'glaucoma'})"
   ]
  },
  {
   "cell_type": "raw",
   "id": "76891843",
   "metadata": {},
   "source": [
    "Join Datasets"
   ]
  },
  {
   "cell_type": "code",
   "execution_count": 14,
   "id": "c2a33256",
   "metadata": {},
   "outputs": [],
   "source": [
    "glaucoma =  df_glaucoma_ftb.append(df_glaucoma_flr, ignore_index = True)"
   ]
  },
  {
   "cell_type": "code",
   "execution_count": 15,
   "id": "8b862336",
   "metadata": {},
   "outputs": [],
   "source": [
    "glaucoma = glaucoma.append(df_glaucoma_r, ignore_index = True)"
   ]
  },
  {
   "cell_type": "raw",
   "id": "4214b912",
   "metadata": {},
   "source": [
    "Join new Dataset to original dataset, check numbers"
   ]
  },
  {
   "cell_type": "code",
   "execution_count": 16,
   "id": "128e61bd",
   "metadata": {},
   "outputs": [
    {
     "data": {
      "text/plain": [
       "(2951, 9)"
      ]
     },
     "execution_count": 16,
     "metadata": {},
     "output_type": "execute_result"
    }
   ],
   "source": [
    "# downsampled dataset from augmentation_downsample\n",
    "df_new = pd.read_csv('train3.csv')\n",
    "df_new.shape"
   ]
  },
  {
   "cell_type": "code",
   "execution_count": 17,
   "id": "c59e38f3",
   "metadata": {},
   "outputs": [],
   "source": [
    "df_ = df_new.append(glaucoma, ignore_index=True)"
   ]
  },
  {
   "cell_type": "code",
   "execution_count": 18,
   "id": "d929ab04",
   "metadata": {
    "scrolled": false
   },
   "outputs": [
    {
     "data": {
      "text/plain": [
       "opacity                                             500\n",
       "glaucoma                                            500\n",
       "normal                                              500\n",
       "macular degeneration                                299\n",
       "opacity, macular degeneration                       212\n",
       "diabetic retinopathy                                212\n",
       "opacity, diabetic retinopathy                       186\n",
       "retinal vascular occlusion                          170\n",
       "diabetic retinopathy, macular edema                 162\n",
       "opacity, glaucoma                                   140\n",
       "macular edema, retinal vascular occlusion            74\n",
       "opacity, retinal vascular occlusion                  55\n",
       "glaucoma, macular degeneration                       31\n",
       "glaucoma, retinal vascular occlusion                 27\n",
       "macular edema                                        27\n",
       "diabetic retinopathy, glaucoma                       15\n",
       "diabetic retinopathy, retinal vascular occlusion      5\n",
       "glaucoma, macular edema                               3\n",
       "macular degeneration, retinal vascular occlusion      2\n",
       "diabetic retinopathy, macular degeneration            2\n",
       "opacity, macular edema                                2\n",
       "Name: new, dtype: int64"
      ]
     },
     "execution_count": 18,
     "metadata": {},
     "output_type": "execute_result"
    }
   ],
   "source": [
    "df_.new.value_counts()"
   ]
  },
  {
   "cell_type": "raw",
   "id": "6e51336c",
   "metadata": {},
   "source": [
    "Copy images from test to train_upsample"
   ]
  },
  {
   "cell_type": "markdown",
   "id": "4b1ab94b",
   "metadata": {},
   "source": [
    "### Macular Degeneration  "
   ]
  },
  {
   "cell_type": "raw",
   "id": "47895f05",
   "metadata": {},
   "source": [
    "Lessons learned:\n",
    "- Der Output kann in eine Liste gespeichert werden und die Aufgabe wird dabei ausgeführt."
   ]
  },
  {
   "cell_type": "code",
   "execution_count": 19,
   "id": "31e1f009",
   "metadata": {},
   "outputs": [],
   "source": [
    "# macular degeneration 299\n",
    "# 60 flip horizontally\n",
    "# 60 flip vertically\n",
    "# 81 rotate"
   ]
  },
  {
   "cell_type": "code",
   "execution_count": 20,
   "id": "6b5d035f",
   "metadata": {},
   "outputs": [],
   "source": [
    "def ftb(category, instances, in_dir, out_dir):\n",
    "    new_ftb = []\n",
    "    images = df.loc[(df.new == category), 'filename'].values.tolist()\n",
    "    rand_im = random.sample(images, instances)\n",
    "    for image in rand_im:\n",
    "        img = Image.open(in_dir+'\\\\'+image)\n",
    "        flip = img.transpose(Image.FLIP_TOP_BOTTOM)\n",
    "        image = 'ftb_'+image\n",
    "        new_ftb.append(image)\n",
    "        flip.save(out_dir+'\\\\'+image)\n",
    "    return(new_ftb)"
   ]
  },
  {
   "cell_type": "code",
   "execution_count": 21,
   "id": "23a5f1ab",
   "metadata": {},
   "outputs": [],
   "source": [
    "new_ftb = ftb('macular degeneration', 60, r'D:\\data\\Projects\\notebooks\\RetinaAI\\train_upsample', r'D:\\data\\Projects\\notebooks\\RetinaAI\\test')"
   ]
  },
  {
   "cell_type": "code",
   "execution_count": 22,
   "id": "0ebef510",
   "metadata": {},
   "outputs": [],
   "source": [
    "def flr(category, instances, in_dir, out_dir):\n",
    "    new_flr = []\n",
    "    images = df.loc[(df.new == category), 'filename'].values.tolist()\n",
    "    rand_im = random.sample(images, instances)\n",
    "    for image in rand_im:\n",
    "        img = Image.open(in_dir+'\\\\'+image)\n",
    "        flip = img.transpose(Image.FLIP_LEFT_RIGHT)\n",
    "        image = 'flr_'+image\n",
    "        new_flr.append(image)\n",
    "        flip.save(out_dir+'\\\\'+image)\n",
    "    return(new_flr)"
   ]
  },
  {
   "cell_type": "code",
   "execution_count": 23,
   "id": "f42f1f7c",
   "metadata": {},
   "outputs": [],
   "source": [
    "new_flr = flr('macular degeneration', 60, r'D:\\data\\Projects\\notebooks\\RetinaAI\\train_upsample', r'D:\\data\\Projects\\notebooks\\RetinaAI\\test')"
   ]
  },
  {
   "cell_type": "code",
   "execution_count": 24,
   "id": "77f701db",
   "metadata": {},
   "outputs": [],
   "source": [
    "def rotate(category, instances, in_dir, out_dir):\n",
    "    new_r = []\n",
    "    images = df.loc[(df.new == category), 'filename'].values.tolist()\n",
    "    rand_im = random.sample(images, instances)\n",
    "    for image in rand_im:\n",
    "        img = Image.open(in_dir+'\\\\'+image)\n",
    "        flip = img.transpose(Image.ROTATE_90)\n",
    "        image = 'r_'+image\n",
    "        new_r.append(image)\n",
    "        flip.save(out_dir+'\\\\'+image)\n",
    "    return(new_r)"
   ]
  },
  {
   "cell_type": "code",
   "execution_count": 25,
   "id": "398adae8",
   "metadata": {},
   "outputs": [],
   "source": [
    "new_r = rotate('macular degeneration', 81, r'D:\\data\\Projects\\notebooks\\RetinaAI\\train_upsample', r'D:\\data\\Projects\\notebooks\\RetinaAI\\test')"
   ]
  },
  {
   "cell_type": "code",
   "execution_count": 26,
   "id": "5093fd2c",
   "metadata": {},
   "outputs": [],
   "source": [
    "df_md = pd.DataFrame({'filename': new_ftb+ new_flr+ new_r,  'opacity':0, 'diabetic retinopathy':0, 'glaucoma':0,\n",
    "       'macular edema':0, 'macular degeneration':1, 'retinal vascular occlusion':0,\n",
    "       'normal':0, 'new':'macular degeneration'})"
   ]
  },
  {
   "cell_type": "code",
   "execution_count": 27,
   "id": "5b260a3f",
   "metadata": {},
   "outputs": [],
   "source": [
    "df_ = df_.append(df_md, ignore_index=True)"
   ]
  },
  {
   "cell_type": "code",
   "execution_count": 28,
   "id": "b96d02d6",
   "metadata": {},
   "outputs": [
    {
     "data": {
      "text/plain": [
       "opacity                                             500\n",
       "macular degeneration                                500\n",
       "glaucoma                                            500\n",
       "normal                                              500\n",
       "opacity, macular degeneration                       212\n",
       "diabetic retinopathy                                212\n",
       "opacity, diabetic retinopathy                       186\n",
       "retinal vascular occlusion                          170\n",
       "diabetic retinopathy, macular edema                 162\n",
       "opacity, glaucoma                                   140\n",
       "macular edema, retinal vascular occlusion            74\n",
       "opacity, retinal vascular occlusion                  55\n",
       "glaucoma, macular degeneration                       31\n",
       "glaucoma, retinal vascular occlusion                 27\n",
       "macular edema                                        27\n",
       "diabetic retinopathy, glaucoma                       15\n",
       "diabetic retinopathy, retinal vascular occlusion      5\n",
       "glaucoma, macular edema                               3\n",
       "macular degeneration, retinal vascular occlusion      2\n",
       "diabetic retinopathy, macular degeneration            2\n",
       "opacity, macular edema                                2\n",
       "Name: new, dtype: int64"
      ]
     },
     "execution_count": 28,
     "metadata": {},
     "output_type": "execute_result"
    }
   ],
   "source": [
    "df_.new.value_counts()"
   ]
  },
  {
   "cell_type": "code",
   "execution_count": 29,
   "id": "7d65c8b6",
   "metadata": {},
   "outputs": [],
   "source": [
    "# copy images to train_upsample"
   ]
  },
  {
   "cell_type": "markdown",
   "id": "5771cbdf",
   "metadata": {},
   "source": [
    "### Diabetic Retinopathy"
   ]
  },
  {
   "cell_type": "code",
   "execution_count": 30,
   "id": "cca01ac5",
   "metadata": {},
   "outputs": [],
   "source": [
    "# diabetic retinopathy 212\n",
    "# 100 flip horizontally\n",
    "# 100 flip vertically\n",
    "# 88 rotate"
   ]
  },
  {
   "cell_type": "code",
   "execution_count": 31,
   "id": "e043446f",
   "metadata": {},
   "outputs": [],
   "source": [
    "def ftb(category, instances, in_dir, out_dir):\n",
    "    new_ftb = []\n",
    "    images = df.loc[(df.new == category), 'filename'].values.tolist()\n",
    "    rand_im = random.sample(images, instances)\n",
    "    for image in rand_im:\n",
    "        img = Image.open(in_dir+'\\\\'+image)\n",
    "        flip = img.transpose(Image.FLIP_TOP_BOTTOM)\n",
    "        image = 'ftb_'+image\n",
    "        new_ftb.append(image)\n",
    "        flip.save(out_dir+'\\\\'+image)\n",
    "    return(new_ftb)"
   ]
  },
  {
   "cell_type": "code",
   "execution_count": 32,
   "id": "62a70245",
   "metadata": {},
   "outputs": [],
   "source": [
    "new_ftb = ftb('diabetic retinopathy', 100, r'D:\\data\\Projects\\notebooks\\RetinaAI\\train_upsample', r'D:\\data\\Projects\\notebooks\\RetinaAI\\test')"
   ]
  },
  {
   "cell_type": "code",
   "execution_count": 33,
   "id": "f04068b5",
   "metadata": {},
   "outputs": [],
   "source": [
    "def flr(category, instances, in_dir, out_dir):\n",
    "    new_flr = []\n",
    "    images = df.loc[(df.new == category), 'filename'].values.tolist()\n",
    "    rand_im = random.sample(images, instances)\n",
    "    for image in rand_im:\n",
    "        img = Image.open(in_dir+'\\\\'+image)\n",
    "        flip = img.transpose(Image.FLIP_LEFT_RIGHT)\n",
    "        image = 'flr_'+image\n",
    "        new_flr.append(image)\n",
    "        flip.save(out_dir+'\\\\'+image)\n",
    "    return(new_flr)"
   ]
  },
  {
   "cell_type": "code",
   "execution_count": 34,
   "id": "ae926845",
   "metadata": {},
   "outputs": [],
   "source": [
    "new_flr = flr('diabetic retinopathy', 100, r'D:\\data\\Projects\\notebooks\\RetinaAI\\train_upsample', r'D:\\data\\Projects\\notebooks\\RetinaAI\\test')"
   ]
  },
  {
   "cell_type": "code",
   "execution_count": 35,
   "id": "a7344cd2",
   "metadata": {},
   "outputs": [],
   "source": [
    "def rotate(category, instances, in_dir, out_dir):\n",
    "    new_r = []\n",
    "    images = df.loc[(df.new == category), 'filename'].values.tolist()\n",
    "    rand_im = random.sample(images, instances)\n",
    "    for image in rand_im:\n",
    "        img = Image.open(in_dir+'\\\\'+image)\n",
    "        flip = img.transpose(Image.ROTATE_90)\n",
    "        image = 'r_'+image\n",
    "        new_r.append(image)\n",
    "        flip.save(out_dir+'\\\\'+image)\n",
    "    return(new_r)"
   ]
  },
  {
   "cell_type": "code",
   "execution_count": 36,
   "id": "050ecb52",
   "metadata": {},
   "outputs": [],
   "source": [
    "new_r = rotate('diabetic retinopathy', 88, r'D:\\data\\Projects\\notebooks\\RetinaAI\\train_upsample', r'D:\\data\\Projects\\notebooks\\RetinaAI\\test')"
   ]
  },
  {
   "cell_type": "code",
   "execution_count": 37,
   "id": "e6a614c7",
   "metadata": {},
   "outputs": [],
   "source": [
    "df_dr = pd.DataFrame({'filename': new_ftb+ new_flr+ new_r,  'opacity':0, 'diabetic retinopathy':1, 'glaucoma':0,\n",
    "       'macular edema':0, 'macular degeneration':0, 'retinal vascular occlusion':0,\n",
    "       'normal':0, 'new':'diabetic retinopathy'})"
   ]
  },
  {
   "cell_type": "code",
   "execution_count": 38,
   "id": "a133e23b",
   "metadata": {},
   "outputs": [],
   "source": [
    "df_ = df_.append(df_dr, ignore_index=True)"
   ]
  },
  {
   "cell_type": "code",
   "execution_count": 39,
   "id": "8962aeb0",
   "metadata": {},
   "outputs": [
    {
     "data": {
      "text/plain": [
       "opacity                                             500\n",
       "macular degeneration                                500\n",
       "glaucoma                                            500\n",
       "diabetic retinopathy                                500\n",
       "normal                                              500\n",
       "opacity, macular degeneration                       212\n",
       "opacity, diabetic retinopathy                       186\n",
       "retinal vascular occlusion                          170\n",
       "diabetic retinopathy, macular edema                 162\n",
       "opacity, glaucoma                                   140\n",
       "macular edema, retinal vascular occlusion            74\n",
       "opacity, retinal vascular occlusion                  55\n",
       "glaucoma, macular degeneration                       31\n",
       "glaucoma, retinal vascular occlusion                 27\n",
       "macular edema                                        27\n",
       "diabetic retinopathy, glaucoma                       15\n",
       "diabetic retinopathy, retinal vascular occlusion      5\n",
       "glaucoma, macular edema                               3\n",
       "macular degeneration, retinal vascular occlusion      2\n",
       "diabetic retinopathy, macular degeneration            2\n",
       "opacity, macular edema                                2\n",
       "Name: new, dtype: int64"
      ]
     },
     "execution_count": 39,
     "metadata": {},
     "output_type": "execute_result"
    }
   ],
   "source": [
    "df_.new.value_counts()"
   ]
  },
  {
   "cell_type": "code",
   "execution_count": 40,
   "id": "465d528e",
   "metadata": {},
   "outputs": [],
   "source": [
    "# copy images to train_upsample"
   ]
  },
  {
   "cell_type": "markdown",
   "id": "b5d66b1a",
   "metadata": {},
   "source": [
    "### Retinal vascular occlusion"
   ]
  },
  {
   "cell_type": "code",
   "execution_count": 41,
   "id": "20c477a3",
   "metadata": {},
   "outputs": [],
   "source": [
    "# retinal vascular occlusion 170\n",
    "# 80 flip horizontally\n",
    "# 100 flip vertically\n",
    "# 150 rotate"
   ]
  },
  {
   "cell_type": "code",
   "execution_count": 42,
   "id": "b203bcd2",
   "metadata": {},
   "outputs": [],
   "source": [
    "def ftb(category, instances, in_dir, out_dir):\n",
    "    new_ftb = []\n",
    "    images = df.loc[(df.new == category), 'filename'].values.tolist()\n",
    "    rand_im = random.sample(images, instances)\n",
    "    for image in rand_im:\n",
    "        img = Image.open(in_dir+'\\\\'+image)\n",
    "        flip = img.transpose(Image.FLIP_TOP_BOTTOM)\n",
    "        image = 'ftb_'+image\n",
    "        new_ftb.append(image)\n",
    "        flip.save(out_dir+'\\\\'+image)\n",
    "    return(new_ftb)"
   ]
  },
  {
   "cell_type": "code",
   "execution_count": 43,
   "id": "f435e772",
   "metadata": {},
   "outputs": [],
   "source": [
    "new_ftb = ftb('retinal vascular occlusion', 80, r'D:\\data\\Projects\\notebooks\\RetinaAI\\train_upsample', r'D:\\data\\Projects\\notebooks\\RetinaAI\\test')"
   ]
  },
  {
   "cell_type": "code",
   "execution_count": 44,
   "id": "1208e6e3",
   "metadata": {},
   "outputs": [],
   "source": [
    "def flr(category, instances, in_dir, out_dir):\n",
    "    new_flr = []\n",
    "    images = df.loc[(df.new == category), 'filename'].values.tolist()\n",
    "    rand_im = random.sample(images, instances)\n",
    "    for image in rand_im:\n",
    "        img = Image.open(in_dir+'\\\\'+image)\n",
    "        flip = img.transpose(Image.FLIP_LEFT_RIGHT)\n",
    "        image = 'flr_'+image\n",
    "        new_flr.append(image)\n",
    "        flip.save(out_dir+'\\\\'+image)\n",
    "    return(new_flr)"
   ]
  },
  {
   "cell_type": "code",
   "execution_count": 45,
   "id": "99f8b44c",
   "metadata": {},
   "outputs": [],
   "source": [
    "new_flr = flr('retinal vascular occlusion', 100, r'D:\\data\\Projects\\notebooks\\RetinaAI\\train_upsample', r'D:\\data\\Projects\\notebooks\\RetinaAI\\test')"
   ]
  },
  {
   "cell_type": "code",
   "execution_count": 46,
   "id": "eb0bf94e",
   "metadata": {},
   "outputs": [],
   "source": [
    "def rotate(category, instances, in_dir, out_dir):\n",
    "    new_r = []\n",
    "    images = df.loc[(df.new == category), 'filename'].values.tolist()\n",
    "    rand_im = random.sample(images, instances)\n",
    "    for image in rand_im:\n",
    "        img = Image.open(in_dir+'\\\\'+image)\n",
    "        flip = img.transpose(Image.ROTATE_90)\n",
    "        image = 'r_'+image\n",
    "        new_r.append(image)\n",
    "        flip.save(out_dir+'\\\\'+image)\n",
    "    return(new_r)"
   ]
  },
  {
   "cell_type": "code",
   "execution_count": 47,
   "id": "3b16ff30",
   "metadata": {},
   "outputs": [],
   "source": [
    "new_r = rotate('retinal vascular occlusion', 150, r'D:\\data\\Projects\\notebooks\\RetinaAI\\train_upsample', r'D:\\data\\Projects\\notebooks\\RetinaAI\\test')"
   ]
  },
  {
   "cell_type": "code",
   "execution_count": 48,
   "id": "29f4d3b9",
   "metadata": {},
   "outputs": [],
   "source": [
    "df_rvo = pd.DataFrame({'filename': new_ftb+ new_flr+ new_r,  'opacity':0, 'diabetic retinopathy':0, 'glaucoma':0,\n",
    "       'macular edema':0, 'macular degeneration':0, 'retinal vascular occlusion':1,\n",
    "       'normal':0, 'new':'retinal vascular occlusion'})"
   ]
  },
  {
   "cell_type": "code",
   "execution_count": 49,
   "id": "79211350",
   "metadata": {},
   "outputs": [],
   "source": [
    "df_ = df_.append(df_rvo, ignore_index=True)"
   ]
  },
  {
   "cell_type": "code",
   "execution_count": 50,
   "id": "bb63ddc7",
   "metadata": {},
   "outputs": [
    {
     "data": {
      "text/plain": [
       "opacity                                             500\n",
       "macular degeneration                                500\n",
       "glaucoma                                            500\n",
       "diabetic retinopathy                                500\n",
       "normal                                              500\n",
       "retinal vascular occlusion                          500\n",
       "opacity, macular degeneration                       212\n",
       "opacity, diabetic retinopathy                       186\n",
       "diabetic retinopathy, macular edema                 162\n",
       "opacity, glaucoma                                   140\n",
       "macular edema, retinal vascular occlusion            74\n",
       "opacity, retinal vascular occlusion                  55\n",
       "glaucoma, macular degeneration                       31\n",
       "glaucoma, retinal vascular occlusion                 27\n",
       "macular edema                                        27\n",
       "diabetic retinopathy, glaucoma                       15\n",
       "diabetic retinopathy, retinal vascular occlusion      5\n",
       "glaucoma, macular edema                               3\n",
       "macular degeneration, retinal vascular occlusion      2\n",
       "diabetic retinopathy, macular degeneration            2\n",
       "opacity, macular edema                                2\n",
       "Name: new, dtype: int64"
      ]
     },
     "execution_count": 50,
     "metadata": {},
     "output_type": "execute_result"
    }
   ],
   "source": [
    "df_.new.value_counts()"
   ]
  },
  {
   "cell_type": "code",
   "execution_count": 51,
   "id": "0d650769",
   "metadata": {},
   "outputs": [],
   "source": [
    "# copy images to train_upsample"
   ]
  },
  {
   "cell_type": "markdown",
   "id": "a12ce66d",
   "metadata": {},
   "source": [
    "### Macular edema"
   ]
  },
  {
   "cell_type": "markdown",
   "id": "9f2a7418",
   "metadata": {},
   "source": [
    "https://stackoverflow.com/questions/37584977/translate-image-using-pil"
   ]
  },
  {
   "cell_type": "raw",
   "id": "bc2cb512",
   "metadata": {},
   "source": [
    "# macular edema 27 (27 sind im Originalordner)\n",
    "# 27 flip horizontally\n",
    "# 27 flip vertically\n",
    "# 27 rotate \n",
    "81 ------------ dataframe df1\n",
    "# 81 horizontal shift\n",
    "162 --------------- dataframe df2 with new 81 from new1----------zusammengefügt in df3\n",
    "# 138 rotate 45\n",
    "300\n",
    "#173 vertical shift\n",
    "500\n"
   ]
  },
  {
   "cell_type": "code",
   "execution_count": 52,
   "id": "59fdde9f",
   "metadata": {},
   "outputs": [],
   "source": [
    "in_dir = r'D:\\data\\Projects\\notebooks\\RetinaAI\\train_upsample'\n",
    "out_dir = r'D:\\data\\Projects\\notebooks\\RetinaAI\\test'\n",
    "\n",
    "new = []\n",
    "names = df.loc[df.new == 'macular edema', 'filename'].values\n",
    "for image in names:\n",
    "    img = Image.open(in_dir+'\\\\'+image)\n",
    "    flip = img.transpose(Image.FLIP_TOP_BOTTOM)\n",
    "    image = 'ftb_'+image\n",
    "    new.append(image)\n",
    "    flip.save(out_dir+'\\\\'+image)\n"
   ]
  },
  {
   "cell_type": "code",
   "execution_count": 53,
   "id": "5686c023",
   "metadata": {},
   "outputs": [],
   "source": [
    "for image in names:\n",
    "    img = Image.open(in_dir+'\\\\'+image)\n",
    "    flip = img.transpose(Image.FLIP_LEFT_RIGHT)\n",
    "    image = 'flr_'+image\n",
    "    new.append(image)\n",
    "    flip.save(out_dir+'\\\\'+image)\n"
   ]
  },
  {
   "cell_type": "code",
   "execution_count": 54,
   "id": "d75bfa59",
   "metadata": {},
   "outputs": [],
   "source": [
    "for image in names:\n",
    "    img = Image.open(in_dir+'\\\\'+image)\n",
    "    r = img.transpose(Image.ROTATE_90)\n",
    "    image = 'r_'+image\n",
    "    new.append(image)\n",
    "    r.save(out_dir+'\\\\'+image)"
   ]
  },
  {
   "cell_type": "code",
   "execution_count": 55,
   "id": "f3823436",
   "metadata": {},
   "outputs": [
    {
     "data": {
      "text/plain": [
       "81"
      ]
     },
     "execution_count": 55,
     "metadata": {},
     "output_type": "execute_result"
    }
   ],
   "source": [
    "len(new)"
   ]
  },
  {
   "cell_type": "code",
   "execution_count": 56,
   "id": "ad643c54",
   "metadata": {},
   "outputs": [],
   "source": [
    "# make datadrame of first 81 new images\n",
    "df1 =  pd.DataFrame({'filename': new,  'opacity':0, 'diabetic retinopathy':0, 'glaucoma':0,\n",
    "       'macular edema':1, 'macular degeneration':0, 'retinal vascular occlusion':0,\n",
    "       'normal':0, 'new':'macular edema'})"
   ]
  },
  {
   "cell_type": "code",
   "execution_count": 57,
   "id": "eb0082a2",
   "metadata": {},
   "outputs": [],
   "source": [
    "# horizontal shift to left for all in directory test\n",
    "new1 = []\n",
    "names = df1.loc[df1.new == 'macular edema', 'filename'].values\n",
    "for image in names:\n",
    "    img = Image.open(out_dir+'\\\\'+image)\n",
    "    a = 1\n",
    "    b = 0\n",
    "    c = 100 #left/right (i.e. 5/-5)\n",
    "    d = 0\n",
    "    e = 1\n",
    "    f = 0 #up/down (i.e. 5/-5)\n",
    "    imas = img.transform(img.size, Image.AFFINE, (a, b, c, d, e, f))\n",
    "    image = 'hs_'+image\n",
    "    new1.append(image)\n",
    "    imas.save(out_dir+'\\\\'+image)"
   ]
  },
  {
   "cell_type": "code",
   "execution_count": 58,
   "id": "28e1d201",
   "metadata": {},
   "outputs": [],
   "source": [
    "# Dataframe of all horizontally shifted images\n",
    "df2 =  pd.DataFrame({'filename': new1,  'opacity':0, 'diabetic retinopathy':0, 'glaucoma':0,\n",
    "       'macular edema':1, 'macular degeneration':0, 'retinal vascular occlusion':0,\n",
    "       'normal':0, 'new':'macular edema'})"
   ]
  },
  {
   "cell_type": "code",
   "execution_count": 59,
   "id": "086ccf4c",
   "metadata": {},
   "outputs": [
    {
     "data": {
      "text/plain": [
       "(81, 9)"
      ]
     },
     "execution_count": 59,
     "metadata": {},
     "output_type": "execute_result"
    }
   ],
   "source": [
    "df2.shape"
   ]
  },
  {
   "cell_type": "code",
   "execution_count": 60,
   "id": "6b06fec0",
   "metadata": {},
   "outputs": [
    {
     "data": {
      "text/plain": [
       "(162, 9)"
      ]
     },
     "execution_count": 60,
     "metadata": {},
     "output_type": "execute_result"
    }
   ],
   "source": [
    "# dataframe of all in directory now\n",
    "df3 = df1.append(df2, ignore_index=True)\n",
    "df3.shape"
   ]
  },
  {
   "cell_type": "code",
   "execution_count": 61,
   "id": "bb9fc6c0",
   "metadata": {},
   "outputs": [],
   "source": [
    "# 138 um 45 Grad rotieren\n",
    "liste = []\n",
    "names = df3.filename.to_list()\n",
    "rand_names = random.sample(names, 138)\n",
    "for image in rand_names:\n",
    "    img = Image.open(out_dir+'\\\\'+image)\n",
    "    r = img.rotate(45)\n",
    "    image = 'rr_'+image\n",
    "    liste.append(image)\n",
    "    r.save(out_dir+'\\\\'+image)"
   ]
  },
  {
   "cell_type": "code",
   "execution_count": 62,
   "id": "26cd1c26",
   "metadata": {},
   "outputs": [
    {
     "data": {
      "text/plain": [
       "138"
      ]
     },
     "execution_count": 62,
     "metadata": {},
     "output_type": "execute_result"
    }
   ],
   "source": [
    "len(liste)"
   ]
  },
  {
   "cell_type": "code",
   "execution_count": 63,
   "id": "80a946fc",
   "metadata": {},
   "outputs": [],
   "source": [
    "# Dataframe of all rotated about 45 deg\n",
    "df4 = pd.DataFrame({'filename': liste,  'opacity':0, 'diabetic retinopathy':0, 'glaucoma':0,\n",
    "       'macular edema':1, 'macular degeneration':0, 'retinal vascular occlusion':0,\n",
    "       'normal':0, 'new':'macular edema'})"
   ]
  },
  {
   "cell_type": "code",
   "execution_count": 64,
   "id": "5675d13c",
   "metadata": {},
   "outputs": [],
   "source": [
    "# Dataframe of all in directory\n",
    "df4 = df3.append(df4, ignore_index=True)"
   ]
  },
  {
   "cell_type": "code",
   "execution_count": 65,
   "id": "cc3809ca",
   "metadata": {},
   "outputs": [
    {
     "data": {
      "text/plain": [
       "(300, 9)"
      ]
     },
     "execution_count": 65,
     "metadata": {},
     "output_type": "execute_result"
    }
   ],
   "source": [
    "df4.shape"
   ]
  },
  {
   "cell_type": "code",
   "execution_count": 66,
   "id": "82013697",
   "metadata": {},
   "outputs": [],
   "source": [
    "# 173 vertical Shift\n",
    "liste1 = []\n",
    "names = df4.filename.to_list()\n",
    "rand_names = random.sample(names, 173)\n",
    "for image in rand_names:\n",
    "    img = Image.open(out_dir+'\\\\'+image)\n",
    "    imas = img.transform(img.size, Image.AFFINE, (1, 0, 0, 0, 1, 10))\n",
    "    image = 'vs_'+image\n",
    "    liste1.append(image)\n",
    "    imas.save(out_dir+'\\\\'+image)"
   ]
  },
  {
   "cell_type": "code",
   "execution_count": 67,
   "id": "9f78ad6b",
   "metadata": {},
   "outputs": [],
   "source": [
    "df5 = pd.DataFrame({'filename': liste1,  'opacity':0, 'diabetic retinopathy':0, 'glaucoma':0,\n",
    "       'macular edema':1, 'macular degeneration':0, 'retinal vascular occlusion':0,\n",
    "       'normal':0, 'new':'macular edema'})"
   ]
  },
  {
   "cell_type": "code",
   "execution_count": 68,
   "id": "1df23482",
   "metadata": {},
   "outputs": [],
   "source": [
    "df5 = df4.append(df5, ignore_index=True)"
   ]
  },
  {
   "cell_type": "code",
   "execution_count": 69,
   "id": "32d9faec",
   "metadata": {},
   "outputs": [
    {
     "data": {
      "text/plain": [
       "(473, 9)"
      ]
     },
     "execution_count": 69,
     "metadata": {},
     "output_type": "execute_result"
    }
   ],
   "source": [
    "df5.shape"
   ]
  },
  {
   "cell_type": "code",
   "execution_count": 70,
   "id": "a38e32f1",
   "metadata": {},
   "outputs": [],
   "source": [
    "df_resampled = df_.append(df5, ignore_index=True)"
   ]
  },
  {
   "cell_type": "code",
   "execution_count": 71,
   "id": "0853ecc4",
   "metadata": {
    "scrolled": true
   },
   "outputs": [
    {
     "data": {
      "text/plain": [
       "macular edema                                       500\n",
       "retinal vascular occlusion                          500\n",
       "macular degeneration                                500\n",
       "glaucoma                                            500\n",
       "diabetic retinopathy                                500\n",
       "opacity                                             500\n",
       "normal                                              500\n",
       "opacity, macular degeneration                       212\n",
       "opacity, diabetic retinopathy                       186\n",
       "diabetic retinopathy, macular edema                 162\n",
       "opacity, glaucoma                                   140\n",
       "macular edema, retinal vascular occlusion            74\n",
       "opacity, retinal vascular occlusion                  55\n",
       "glaucoma, macular degeneration                       31\n",
       "glaucoma, retinal vascular occlusion                 27\n",
       "diabetic retinopathy, glaucoma                       15\n",
       "diabetic retinopathy, retinal vascular occlusion      5\n",
       "glaucoma, macular edema                               3\n",
       "macular degeneration, retinal vascular occlusion      2\n",
       "diabetic retinopathy, macular degeneration            2\n",
       "opacity, macular edema                                2\n",
       "Name: new, dtype: int64"
      ]
     },
     "execution_count": 71,
     "metadata": {},
     "output_type": "execute_result"
    }
   ],
   "source": [
    "df_resampled.new.value_counts()"
   ]
  },
  {
   "cell_type": "code",
   "execution_count": 72,
   "id": "5f089717",
   "metadata": {},
   "outputs": [],
   "source": [
    "#df_resampled.to_csv('df_resampled.csv', sep=',', encoding='utf-8', index=False)"
   ]
  }
 ],
 "metadata": {
  "kernelspec": {
   "display_name": "Python 3",
   "language": "python",
   "name": "python3"
  },
  "language_info": {
   "codemirror_mode": {
    "name": "ipython",
    "version": 3
   },
   "file_extension": ".py",
   "mimetype": "text/x-python",
   "name": "python",
   "nbconvert_exporter": "python",
   "pygments_lexer": "ipython3",
   "version": "3.8.8"
  },
  "varInspector": {
   "cols": {
    "lenName": 16,
    "lenType": 16,
    "lenVar": 40
   },
   "kernels_config": {
    "python": {
     "delete_cmd_postfix": "",
     "delete_cmd_prefix": "del ",
     "library": "var_list.py",
     "varRefreshCmd": "print(var_dic_list())"
    },
    "r": {
     "delete_cmd_postfix": ") ",
     "delete_cmd_prefix": "rm(",
     "library": "var_list.r",
     "varRefreshCmd": "cat(var_dic_list()) "
    }
   },
   "types_to_exclude": [
    "module",
    "function",
    "builtin_function_or_method",
    "instance",
    "_Feature"
   ],
   "window_display": false
  }
 },
 "nbformat": 4,
 "nbformat_minor": 5
}
